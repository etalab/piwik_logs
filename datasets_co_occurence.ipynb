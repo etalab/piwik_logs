{
 "cells": [
  {
   "cell_type": "markdown",
   "metadata": {},
   "source": [
    "# \"Voir aussi\" feature implementation\n",
    "\n",
    "The purpose of this notebook is to find similarity between dataset in order to build recommendation.\n",
    "\n",
    "More datasets are visited together in a same session, closer they are from each other.\n",
    "\n",
    "We checked both session & API."
   ]
  },
  {
   "cell_type": "code",
   "execution_count": 1,
   "metadata": {
    "collapsed": false
   },
   "outputs": [],
   "source": [
    "import json\n",
    "from collections import defaultdict, Counter\n",
    "import pickle\n",
    "import glob\n",
    "import os\n",
    "import itertools\n",
    "from IPython.display import clear_output\n",
    "import pandas as pd\n",
    "import numpy as np\n",
    "from matplotlib import pyplot as plt\n",
    "%matplotlib inline\n",
    "\n",
    "from src import utils"
   ]
  },
  {
   "cell_type": "markdown",
   "metadata": {},
   "source": [
    "# Parse actions to dataset ids\n",
    "\n",
    "First, we need to group visited URL by type. For instance, we want to group .fr/.en/.es for the same actions.\n",
    "\n",
    "By action, we mean \"search, posts, actions, goal, ..\"."
   ]
  },
  {
   "cell_type": "code",
   "execution_count": 2,
   "metadata": {
    "collapsed": false
   },
   "outputs": [],
   "source": [
    "source_dir = 'deduplicated_logs'\n",
    "target_dir = 'parsed_logs'\n",
    "\n",
    "filenames = glob.glob(source_dir + '/*')\n",
    "\n",
    "# Compute monthly filename.json (e.g. : 2017-12-26)\n",
    "a_month_ago = pd.datetime.today() + pd.DateOffset(months=-1)\n",
    "date_range = pd.date_range(a_month_ago, pd.datetime.today()).strftime('%Y-%m-%d')\n",
    "monthly_files = ['deduplicated_logs/' + file + '.json' for file in date_range]\n",
    "\n",
    "unhandled_actions = []\n",
    "visits_parsed = []\n",
    "for filename in monthly_files:\n",
    "    with open(filename, 'r') as f:\n",
    "        visits = json.load(f)\n",
    "    visits_parsed_file, unhandled_actions_file = utils.parse_visits(visits)\n",
    "    visits_parsed += visits_parsed_file\n",
    "    unhandled_actions += unhandled_actions_file\n",
    "    with open(os.path.join(target_dir, os.path.basename(filename)), 'w') as f:\n",
    "        json.dump(visits_parsed_file, f)\n",
    "with open(os.path.join(target_dir, os.path.basename('all_visits_parsed_file')), 'w') as f:\n",
    "    json.dump(visits_parsed, f)"
   ]
  },
  {
   "cell_type": "code",
   "execution_count": 3,
   "metadata": {
    "collapsed": false
   },
   "outputs": [
    {
     "data": {
      "text/plain": [
       "283243"
      ]
     },
     "execution_count": 3,
     "metadata": {},
     "output_type": "execute_result"
    }
   ],
   "source": [
    "len(visits_parsed)"
   ]
  },
  {
   "cell_type": "code",
   "execution_count": 4,
   "metadata": {
    "collapsed": false
   },
   "outputs": [
    {
     "data": {
      "text/plain": [
       "171242"
      ]
     },
     "execution_count": 4,
     "metadata": {},
     "output_type": "execute_result"
    }
   ],
   "source": [
    "len(unhandled_actions)"
   ]
  },
  {
   "cell_type": "markdown",
   "metadata": {},
   "source": [
    "`unhandled_actions` contains mainly \"territoires\", \"avatar\" and odd URL. Majority of the datasets were correctly parsed so let's keep going.\n",
    "\n",
    "`visits_parsed` is a list of list of tuples : `[[(a, b), (a,c)], [(c,d)], [(a,c)], ...]`\n",
    "\n",
    "each tuple is a (type, name) were `type` can be: `id` (=API community), `keyword` (=keyword search), `slug_or_id` (dataset_API or dataset) and name is the value (e.g. a dataset name).\n",
    "\n",
    "API Community eg : https://www.data.gouv.fr/api/1/datasets/community_resources/?sort=-created_at&page_size=10&dataset=58e53811c751df03df38f42d&lang=fr&_=1512404531050\n",
    "\n",
    "-> \"58e53811c751df03df38f42d\" correspond au RNA, mais quel diff avec api ?\n",
    "\n",
    "\n",
    "We will focus our study on `slug_or_id`."
   ]
  },
  {
   "cell_type": "code",
   "execution_count": 5,
   "metadata": {
    "collapsed": false
   },
   "outputs": [
    {
     "data": {
      "text/plain": [
       "[('slug_or_id', 'geofla-limites-des-communes-en-france'),\n",
       " ('slug_or_id', 'geofla-limites-des-communes-en-france'),\n",
       " ('slug_or_id', 'geofla-limites-des-communes-en-france'),\n",
       " ('slug_or_id',\n",
       "  'decoupage-administratif-communal-francais-issu-d-openstreetmap'),\n",
       " ('slug_or_id',\n",
       "  'decoupage-administratif-communal-francais-issu-d-openstreetmap'),\n",
       " ('slug_or_id', 'communes-nouvelles-et-fusions-2017'),\n",
       " ('slug_or_id', 'communes-nouvelles-et-fusions-2017'),\n",
       " ('slug_or_id',\n",
       "  'decoupage-administratif-communal-francais-issu-d-openstreetmap'),\n",
       " ('slug_or_id', 'cantons-3')]"
      ]
     },
     "execution_count": 5,
     "metadata": {},
     "output_type": "execute_result"
    }
   ],
   "source": [
    "# Dict session_num -> list_of_action_tuple\n",
    "visits_parsed_as_dict = dict(zip(range(0,len(visits_parsed)), visits_parsed))\n",
    "visits_parsed_as_dict[2]"
   ]
  },
  {
   "cell_type": "code",
   "execution_count": 6,
   "metadata": {
    "collapsed": false
   },
   "outputs": [],
   "source": [
    "# Dict session_num -> set() of visited datasets (by API or through web)\n",
    "session_datasets = {}\n",
    "for key, value in visits_parsed_as_dict.items():\n",
    "    if len(value) > 0:\n",
    "        unique_list = set(tup[1] for tup in value if tup[0] == \"slug_or_id\")\n",
    "        if len(unique_list) > 1 : # list of at least 2 different datasets\n",
    "            session_datasets[key] = unique_list\n",
    "    else:\n",
    "        pass # We don't care about empty session"
   ]
  },
  {
   "cell_type": "code",
   "execution_count": 7,
   "metadata": {
    "collapsed": false
   },
   "outputs": [
    {
     "data": {
      "text/plain": [
       "29849"
      ]
     },
     "execution_count": 7,
     "metadata": {},
     "output_type": "execute_result"
    }
   ],
   "source": [
    "len(session_datasets)"
   ]
  },
  {
   "cell_type": "markdown",
   "metadata": {},
   "source": [
    "### First, let's replace dataset-id by their name (or slug) in order. All of them are supposedly unique so no problem.\n",
    "\n",
    "To do so, we first need to import the list of all datasets (datasets.csv) il order to get the mapping."
   ]
  },
  {
   "cell_type": "code",
   "execution_count": 8,
   "metadata": {
    "collapsed": false
   },
   "outputs": [],
   "source": [
    "datasets_ref = pd.read_csv('./list_of_all_datasets_dgfr/datasets-2017-12-13-18-23.csv', sep=';')\n",
    "# Mapping id -> slug\n",
    "datasets_id_slug = datasets_ref.set_index('id')['slug'].to_dict()"
   ]
  },
  {
   "cell_type": "code",
   "execution_count": 9,
   "metadata": {
    "collapsed": false
   },
   "outputs": [],
   "source": [
    "# Replace all dataset_id by dataset_slug (caution: we keep the same dict name)\n",
    "session_datasets = {key: [datasets_id_slug.get(el, el) for el in value] for key, value in session_datasets.items()}"
   ]
  },
  {
   "cell_type": "markdown",
   "metadata": {},
   "source": [
    "### Now that we have a dict of set of datasets, let's count how many pairwise datasets appears together.\n",
    "\n",
    "For example"
   ]
  },
  {
   "cell_type": "code",
   "execution_count": 10,
   "metadata": {
    "collapsed": false
   },
   "outputs": [
    {
     "name": "stdout",
     "output_type": "stream",
     "text": [
      "L1=  Counter({('a', 'b'): 1, ('a', 'c'): 1, ('a', 'd'): 1, ('b', 'c'): 1, ('b', 'd'): 1, ('c', 'd'): 1})\n",
      "Somme= Counter({('a', 'b'): 2, ('a', 'c'): 2, ('b', 'c'): 2, ('a', 'd'): 1, ('b', 'd'): 1, ('c', 'd'): 1})\n"
     ]
    }
   ],
   "source": [
    "# Two lists\n",
    "L1 = ['a', 'b', 'c', 'd'] \n",
    "L2 =  ['b', 'a', 'c'] \n",
    "# We want : (a, b): 2 (a, c): 2 (b, c): 2, (b, d): 1 (c, d):1\n",
    "\n",
    "# Compute combination (we need to sort beforehand !)\n",
    "L1_comb = list(itertools.combinations(np.sort(L1), 2)) # (ab) (ac) (ad) (bc) (bd) (cd)\n",
    "L2_comb = list(itertools.combinations(np.sort(L2), 2)) # (ba) (bc) (ac)\n",
    "\n",
    "# Counter tuple\n",
    "c1 = Counter(L1_comb)\n",
    "print('L1=  %s' % c1)\n",
    "c2 = Counter(L2_comb)\n",
    "print('Somme= %s' % (c1 + c2))"
   ]
  },
  {
   "cell_type": "code",
   "execution_count": 11,
   "metadata": {
    "collapsed": false
   },
   "outputs": [
    {
     "name": "stdout",
     "output_type": "stream",
     "text": [
      "29849/29849\n"
     ]
    }
   ],
   "source": [
    "# Could be optimize. Caution : ~10min.\n",
    "pairwise_count = Counter()\n",
    "c = 0\n",
    "for key, val in session_datasets.items():\n",
    "    val_as_list = np.sort(list(val))\n",
    "    val_combinations = list(itertools.combinations(val_as_list, 2))\n",
    "    pairwise_count += Counter(val_combinations)\n",
    "    c += 1\n",
    "    clear_output(wait=True)\n",
    "    print('%s/%s' % (c, len(session_datasets.items())))"
   ]
  },
  {
   "cell_type": "code",
   "execution_count": 12,
   "metadata": {
    "collapsed": false
   },
   "outputs": [
    {
     "data": {
      "text/plain": [
       "[(('cadastre', 'pci-vecteur-plan-cadastral-informatise'), 1682),\n",
       " (('base-officielle-des-codes-postaux',\n",
       "   'correspondance-entre-les-codes-postaux-et-codes-insee-des-communes-francaises'),\n",
       "  413),\n",
       " (('base-sirene-des-entreprises-et-de-leurs-etablissements-siren-siret',\n",
       "   'base-sirene-des-entreprises-et-de-leurs-etablissements-siren-siret'),\n",
       "  400),\n",
       " (('associations', 'repertoire-national-des-associations-rna'), 368),\n",
       " (('base-officielle-des-codes-postaux', 'geofla-r'), 317)]"
      ]
     },
     "execution_count": 12,
     "metadata": {},
     "output_type": "execute_result"
    }
   ],
   "source": [
    "pairwise_count.most_common(5)"
   ]
  },
  {
   "cell_type": "code",
   "execution_count": 13,
   "metadata": {
    "collapsed": false,
    "scrolled": false
   },
   "outputs": [
    {
     "data": {
      "text/html": [
       "<div>\n",
       "<style>\n",
       "    .dataframe thead tr:only-child th {\n",
       "        text-align: right;\n",
       "    }\n",
       "\n",
       "    .dataframe thead th {\n",
       "        text-align: left;\n",
       "    }\n",
       "\n",
       "    .dataframe tbody tr th {\n",
       "        vertical-align: top;\n",
       "    }\n",
       "</style>\n",
       "<table border=\"1\" class=\"dataframe\">\n",
       "  <thead>\n",
       "    <tr style=\"text-align: right;\">\n",
       "      <th></th>\n",
       "      <th>paired_datasets</th>\n",
       "      <th>co_occurence</th>\n",
       "    </tr>\n",
       "  </thead>\n",
       "  <tbody>\n",
       "    <tr>\n",
       "      <th>1060</th>\n",
       "      <td>(cadastre, pci-vecteur-plan-cadastral-informat...</td>\n",
       "      <td>1682</td>\n",
       "    </tr>\n",
       "    <tr>\n",
       "      <th>8450</th>\n",
       "      <td>(base-officielle-des-codes-postaux, correspond...</td>\n",
       "      <td>413</td>\n",
       "    </tr>\n",
       "    <tr>\n",
       "      <th>1195</th>\n",
       "      <td>(base-sirene-des-entreprises-et-de-leurs-etabl...</td>\n",
       "      <td>400</td>\n",
       "    </tr>\n",
       "    <tr>\n",
       "      <th>2365</th>\n",
       "      <td>(associations, repertoire-national-des-associa...</td>\n",
       "      <td>368</td>\n",
       "    </tr>\n",
       "    <tr>\n",
       "      <th>8633</th>\n",
       "      <td>(base-officielle-des-codes-postaux, geofla-r)</td>\n",
       "      <td>317</td>\n",
       "    </tr>\n",
       "  </tbody>\n",
       "</table>\n",
       "</div>"
      ],
      "text/plain": [
       "                                        paired_datasets  co_occurence\n",
       "1060  (cadastre, pci-vecteur-plan-cadastral-informat...          1682\n",
       "8450  (base-officielle-des-codes-postaux, correspond...           413\n",
       "1195  (base-sirene-des-entreprises-et-de-leurs-etabl...           400\n",
       "2365  (associations, repertoire-national-des-associa...           368\n",
       "8633      (base-officielle-des-codes-postaux, geofla-r)           317"
      ]
     },
     "execution_count": 13,
     "metadata": {},
     "output_type": "execute_result"
    }
   ],
   "source": [
    "paired_df = pd.DataFrame(list(pairwise_count.items()), columns=['paired_datasets', 'co_occurence'])\n",
    "paired_df.sort_values('co_occurence', ascending=False, inplace=True)\n",
    "paired_df.head()"
   ]
  },
  {
   "cell_type": "markdown",
   "metadata": {},
   "source": [
    "### Now it could be interesting to have : for each datasets, all _twins_ ordered by co-occurence"
   ]
  },
  {
   "cell_type": "code",
   "execution_count": 14,
   "metadata": {
    "collapsed": false
   },
   "outputs": [],
   "source": [
    "paired_df[['dataset_1', 'dataset_2']] = paired_df.paired_datasets.apply(pd.Series)\n",
    "paired_df = paired_df.loc[:, ['dataset_1', 'dataset_2','co_occurence']]\n",
    "# Only co-occurence > 1\n",
    "paired_df = paired_df.loc[paired_df.co_occurence > 1]"
   ]
  },
  {
   "cell_type": "code",
   "execution_count": 15,
   "metadata": {
    "collapsed": false
   },
   "outputs": [
    {
     "data": {
      "text/html": [
       "<div>\n",
       "<style>\n",
       "    .dataframe thead tr:only-child th {\n",
       "        text-align: right;\n",
       "    }\n",
       "\n",
       "    .dataframe thead th {\n",
       "        text-align: left;\n",
       "    }\n",
       "\n",
       "    .dataframe tbody tr th {\n",
       "        vertical-align: top;\n",
       "    }\n",
       "</style>\n",
       "<table border=\"1\" class=\"dataframe\">\n",
       "  <thead>\n",
       "    <tr style=\"text-align: right;\">\n",
       "      <th></th>\n",
       "      <th>dataset_1</th>\n",
       "      <th>dataset_2</th>\n",
       "      <th>co_occurence</th>\n",
       "    </tr>\n",
       "  </thead>\n",
       "  <tbody>\n",
       "    <tr>\n",
       "      <th>1060</th>\n",
       "      <td>cadastre</td>\n",
       "      <td>pci-vecteur-plan-cadastral-informatise</td>\n",
       "      <td>1682</td>\n",
       "    </tr>\n",
       "    <tr>\n",
       "      <th>8450</th>\n",
       "      <td>base-officielle-des-codes-postaux</td>\n",
       "      <td>correspondance-entre-les-codes-postaux-et-code...</td>\n",
       "      <td>413</td>\n",
       "    </tr>\n",
       "  </tbody>\n",
       "</table>\n",
       "</div>"
      ],
      "text/plain": [
       "                              dataset_1  \\\n",
       "1060                           cadastre   \n",
       "8450  base-officielle-des-codes-postaux   \n",
       "\n",
       "                                              dataset_2  co_occurence  \n",
       "1060             pci-vecteur-plan-cadastral-informatise          1682  \n",
       "8450  correspondance-entre-les-codes-postaux-et-code...           413  "
      ]
     },
     "execution_count": 15,
     "metadata": {},
     "output_type": "execute_result"
    }
   ],
   "source": [
    "paired_df.head(2)"
   ]
  },
  {
   "cell_type": "code",
   "execution_count": 16,
   "metadata": {
    "collapsed": false,
    "scrolled": true
   },
   "outputs": [
    {
     "data": {
      "text/html": [
       "<div>\n",
       "<style>\n",
       "    .dataframe thead tr:only-child th {\n",
       "        text-align: right;\n",
       "    }\n",
       "\n",
       "    .dataframe thead th {\n",
       "        text-align: left;\n",
       "    }\n",
       "\n",
       "    .dataframe tbody tr th {\n",
       "        vertical-align: top;\n",
       "    }\n",
       "</style>\n",
       "<table border=\"1\" class=\"dataframe\">\n",
       "  <thead>\n",
       "    <tr style=\"text-align: right;\">\n",
       "      <th></th>\n",
       "      <th>dataset_1</th>\n",
       "      <th>dataset_2</th>\n",
       "      <th>co_occurence</th>\n",
       "      <th>all_co_occurence</th>\n",
       "    </tr>\n",
       "  </thead>\n",
       "  <tbody>\n",
       "    <tr>\n",
       "      <th>0</th>\n",
       "      <td>15-succes-du-programme-national-de-renovation-...</td>\n",
       "      <td>[base-sirene-des-entreprises-et-de-leurs-etabl...</td>\n",
       "      <td>[4, 4, 3, 3, 3, 2, 2, 2, 2, 2, 2, 2, 2]</td>\n",
       "      <td>((base-sirene-des-entreprises-et-de-leurs-etab...</td>\n",
       "    </tr>\n",
       "    <tr>\n",
       "      <th>1</th>\n",
       "      <td>15010-flux-dimmigration-en-provenance-des-pays...</td>\n",
       "      <td>[2013-tableau-ndeg-1-les-etrangers-selon-leur-...</td>\n",
       "      <td>[2]</td>\n",
       "      <td>((2013-tableau-ndeg-1-les-etrangers-selon-leur...</td>\n",
       "    </tr>\n",
       "  </tbody>\n",
       "</table>\n",
       "</div>"
      ],
      "text/plain": [
       "                                           dataset_1  \\\n",
       "0  15-succes-du-programme-national-de-renovation-...   \n",
       "1  15010-flux-dimmigration-en-provenance-des-pays...   \n",
       "\n",
       "                                           dataset_2  \\\n",
       "0  [base-sirene-des-entreprises-et-de-leurs-etabl...   \n",
       "1  [2013-tableau-ndeg-1-les-etrangers-selon-leur-...   \n",
       "\n",
       "                              co_occurence  \\\n",
       "0  [4, 4, 3, 3, 3, 2, 2, 2, 2, 2, 2, 2, 2]   \n",
       "1                                      [2]   \n",
       "\n",
       "                                    all_co_occurence  \n",
       "0  ((base-sirene-des-entreprises-et-de-leurs-etab...  \n",
       "1  ((2013-tableau-ndeg-1-les-etrangers-selon-leur...  "
      ]
     },
     "execution_count": 16,
     "metadata": {},
     "output_type": "execute_result"
    }
   ],
   "source": [
    "# Let's build a dict : dataset_A -> (dataset_E : 200), (dataset_B : 130), ...\n",
    "\n",
    "paired_df_grouped = paired_df.groupby('dataset_1')['dataset_2', 'co_occurence'].agg(lambda x: list(x))\n",
    "paired_df_grouped.reset_index(inplace=True)\n",
    "paired_df_grouped['all_co_occurence'] = paired_df_grouped.apply(lambda x: tuple(zip(x.dataset_2, x.co_occurence)), axis=1)\n",
    "paired_df_grouped.head(2)"
   ]
  },
  {
   "cell_type": "markdown",
   "metadata": {},
   "source": [
    "### Some datasets are linked with tons of others, let's select only the one that distinguish themselves from others.\n",
    "\n",
    "\n",
    "To do this will proceed in 2 steps : \n",
    "\n",
    "- Select only top10 of co_occurrence : since we want to compute some recommendation on datagouv, we don't need more than 10 linked datasets (less would be nice).\n",
    "\n",
    "- Apply rule of thumb to select only the best ones (see method below)"
   ]
  },
  {
   "cell_type": "code",
   "execution_count": 17,
   "metadata": {
    "collapsed": false
   },
   "outputs": [
    {
     "data": {
      "text/plain": [
       "[100, 80]"
      ]
     },
     "execution_count": 17,
     "metadata": {},
     "output_type": "execute_result"
    }
   ],
   "source": [
    "def rule_of_thumb(mylist): \n",
    "    '''Compute rule of thumb on a list\n",
    "    eg: [100, 80, 20, 14, 12, 11, 1]  => [100, 80] (return the index where to cut)\n",
    "    '''\n",
    "    if len(mylist) > 1:\n",
    "        # list of drops\n",
    "        difflist = [mylist[el] - mylist[1:][el] for el in range(0, len(mylist) - 1)]\n",
    "        max_drop = max(difflist)\n",
    "\n",
    "        # index of maximum(s)\n",
    "        max_drop_index = max([i for i, j in enumerate(difflist) if j == max(difflist)])\n",
    "\n",
    "        return max_drop_index + 1\n",
    "\n",
    "    return mylist[0]\n",
    "\n",
    "mylist = [100, 80, 20, 14, 12, 11, 1]\n",
    "mylist[:rule_of_thumb(mylist)]"
   ]
  },
  {
   "cell_type": "code",
   "execution_count": 18,
   "metadata": {
    "collapsed": false
   },
   "outputs": [],
   "source": [
    "# Sort by co_occurence (max co_occurences in first row of df)\n",
    "paired_df_grouped.sort_values('co_occurence', ascending=False, inplace=True)\n",
    "paired_df_grouped.loc[:, ['dataset_1', 'all_co_occurence']].head(20)\n",
    "\n",
    "# Keep only top10 co-occurence\n",
    "paired_df_grouped['top10'] = paired_df_grouped.co_occurence.apply(lambda x: x[:10])\n"
   ]
  },
  {
   "cell_type": "code",
   "execution_count": 19,
   "metadata": {
    "collapsed": false
   },
   "outputs": [
    {
     "data": {
      "text/html": [
       "<div>\n",
       "<style>\n",
       "    .dataframe thead tr:only-child th {\n",
       "        text-align: right;\n",
       "    }\n",
       "\n",
       "    .dataframe thead th {\n",
       "        text-align: left;\n",
       "    }\n",
       "\n",
       "    .dataframe tbody tr th {\n",
       "        vertical-align: top;\n",
       "    }\n",
       "</style>\n",
       "<table border=\"1\" class=\"dataframe\">\n",
       "  <thead>\n",
       "    <tr style=\"text-align: right;\">\n",
       "      <th></th>\n",
       "      <th>dataset_1</th>\n",
       "      <th>dataset_2</th>\n",
       "      <th>co_occurence</th>\n",
       "      <th>all_co_occurence</th>\n",
       "      <th>top10</th>\n",
       "    </tr>\n",
       "  </thead>\n",
       "  <tbody>\n",
       "    <tr>\n",
       "      <th>1100</th>\n",
       "      <td>cadastre</td>\n",
       "      <td>[pci-vecteur-plan-cadastral-informatise, cadas...</td>\n",
       "      <td>[1682, 145, 137, 100, 94, 54, 49, 48, 42, 39, ...</td>\n",
       "      <td>((pci-vecteur-plan-cadastral-informatise, 1682...</td>\n",
       "      <td>[1682, 145, 137, 100, 94, 54, 49, 48, 42, 39]</td>\n",
       "    </tr>\n",
       "    <tr>\n",
       "      <th>921</th>\n",
       "      <td>base-officielle-des-codes-postaux</td>\n",
       "      <td>[correspondance-entre-les-codes-postaux-et-cod...</td>\n",
       "      <td>[413, 317, 276, 203, 185, 163, 150, 87, 79, 76...</td>\n",
       "      <td>((correspondance-entre-les-codes-postaux-et-co...</td>\n",
       "      <td>[413, 317, 276, 203, 185, 163, 150, 87, 79, 76]</td>\n",
       "    </tr>\n",
       "  </tbody>\n",
       "</table>\n",
       "</div>"
      ],
      "text/plain": [
       "                              dataset_1  \\\n",
       "1100                           cadastre   \n",
       "921   base-officielle-des-codes-postaux   \n",
       "\n",
       "                                              dataset_2  \\\n",
       "1100  [pci-vecteur-plan-cadastral-informatise, cadas...   \n",
       "921   [correspondance-entre-les-codes-postaux-et-cod...   \n",
       "\n",
       "                                           co_occurence  \\\n",
       "1100  [1682, 145, 137, 100, 94, 54, 49, 48, 42, 39, ...   \n",
       "921   [413, 317, 276, 203, 185, 163, 150, 87, 79, 76...   \n",
       "\n",
       "                                       all_co_occurence  \\\n",
       "1100  ((pci-vecteur-plan-cadastral-informatise, 1682...   \n",
       "921   ((correspondance-entre-les-codes-postaux-et-co...   \n",
       "\n",
       "                                                top10  \n",
       "1100    [1682, 145, 137, 100, 94, 54, 49, 48, 42, 39]  \n",
       "921   [413, 317, 276, 203, 185, 163, 150, 87, 79, 76]  "
      ]
     },
     "execution_count": 19,
     "metadata": {},
     "output_type": "execute_result"
    }
   ],
   "source": [
    "paired_df_grouped.head(2)"
   ]
  },
  {
   "cell_type": "code",
   "execution_count": 20,
   "metadata": {
    "collapsed": false,
    "scrolled": true
   },
   "outputs": [
    {
     "data": {
      "text/html": [
       "<div>\n",
       "<style>\n",
       "    .dataframe thead tr:only-child th {\n",
       "        text-align: right;\n",
       "    }\n",
       "\n",
       "    .dataframe thead th {\n",
       "        text-align: left;\n",
       "    }\n",
       "\n",
       "    .dataframe tbody tr th {\n",
       "        vertical-align: top;\n",
       "    }\n",
       "</style>\n",
       "<table border=\"1\" class=\"dataframe\">\n",
       "  <thead>\n",
       "    <tr style=\"text-align: right;\">\n",
       "      <th></th>\n",
       "      <th>dataset_1</th>\n",
       "      <th>dataset_2</th>\n",
       "      <th>co_occurence</th>\n",
       "      <th>all_co_occurence</th>\n",
       "      <th>best_co_occurence</th>\n",
       "    </tr>\n",
       "  </thead>\n",
       "  <tbody>\n",
       "    <tr>\n",
       "      <th>1100</th>\n",
       "      <td>cadastre</td>\n",
       "      <td>[pci-vecteur-plan-cadastral-informatise, cadas...</td>\n",
       "      <td>[1682, 145, 137, 100, 94, 54, 49, 48, 42, 39, ...</td>\n",
       "      <td>((pci-vecteur-plan-cadastral-informatise, 1682...</td>\n",
       "      <td>((pci-vecteur-plan-cadastral-informatise, 1682),)</td>\n",
       "    </tr>\n",
       "    <tr>\n",
       "      <th>921</th>\n",
       "      <td>base-officielle-des-codes-postaux</td>\n",
       "      <td>[correspondance-entre-les-codes-postaux-et-cod...</td>\n",
       "      <td>[413, 317, 276, 203, 185, 163, 150, 87, 79, 76...</td>\n",
       "      <td>((correspondance-entre-les-codes-postaux-et-co...</td>\n",
       "      <td>((correspondance-entre-les-codes-postaux-et-co...</td>\n",
       "    </tr>\n",
       "    <tr>\n",
       "      <th>935</th>\n",
       "      <td>base-sirene-des-entreprises-et-de-leurs-etabli...</td>\n",
       "      <td>[base-sirene-des-entreprises-et-de-leurs-etabl...</td>\n",
       "      <td>[400, 296, 295, 276, 192, 190, 183, 172, 152, ...</td>\n",
       "      <td>((base-sirene-des-entreprises-et-de-leurs-etab...</td>\n",
       "      <td>((base-sirene-des-entreprises-et-de-leurs-etab...</td>\n",
       "    </tr>\n",
       "    <tr>\n",
       "      <th>769</th>\n",
       "      <td>associations</td>\n",
       "      <td>[repertoire-national-des-associations-rna, ass...</td>\n",
       "      <td>[368, 47, 35, 30, 16, 9, 9, 7, 7, 6, 6, 5, 5, ...</td>\n",
       "      <td>((repertoire-national-des-associations-rna, 36...</td>\n",
       "      <td>((repertoire-national-des-associations-rna, 36...</td>\n",
       "    </tr>\n",
       "    <tr>\n",
       "      <th>3026</th>\n",
       "      <td>immeubles-proteges-au-titre-des-monuments-hist...</td>\n",
       "      <td>[monuments-historiques-liste-des-immeubles-pro...</td>\n",
       "      <td>[283, 25, 10, 8, 8, 7, 7, 6, 6, 5, 5, 5, 5, 5,...</td>\n",
       "      <td>((monuments-historiques-liste-des-immeubles-pr...</td>\n",
       "      <td>((monuments-historiques-liste-des-immeubles-pr...</td>\n",
       "    </tr>\n",
       "    <tr>\n",
       "      <th>1665</th>\n",
       "      <td>contours-des-departements-francais-issus-d-ope...</td>\n",
       "      <td>[decoupage-administratif-communal-francais-iss...</td>\n",
       "      <td>[261, 173, 51, 48, 36, 35, 34, 34, 29, 26, 21,...</td>\n",
       "      <td>((decoupage-administratif-communal-francais-is...</td>\n",
       "      <td>((decoupage-administratif-communal-francais-is...</td>\n",
       "    </tr>\n",
       "    <tr>\n",
       "      <th>1870</th>\n",
       "      <td>decoupage-administratif-communal-francais-issu...</td>\n",
       "      <td>[geofla-limites-des-communes-en-france, limite...</td>\n",
       "      <td>[236, 210, 121, 107, 89, 70, 69, 62, 60, 53, 5...</td>\n",
       "      <td>((geofla-limites-des-communes-en-france, 236),...</td>\n",
       "      <td>((geofla-limites-des-communes-en-france, 236),...</td>\n",
       "    </tr>\n",
       "    <tr>\n",
       "      <th>1701</th>\n",
       "      <td>correspondance-code-insee-code-postal</td>\n",
       "      <td>[correspondance-entre-les-codes-postaux-et-cod...</td>\n",
       "      <td>[212, 17, 11, 11, 11, 10, 9, 7, 6, 4, 3, 2, 2,...</td>\n",
       "      <td>((correspondance-entre-les-codes-postaux-et-co...</td>\n",
       "      <td>((correspondance-entre-les-codes-postaux-et-co...</td>\n",
       "    </tr>\n",
       "    <tr>\n",
       "      <th>2741</th>\n",
       "      <td>faits-constates-mensuels-par-departements</td>\n",
       "      <td>[faits-constates-par-index-par-departement-et-...</td>\n",
       "      <td>[210, 33, 30, 25, 25, 22, 21, 19, 19, 18, 17, ...</td>\n",
       "      <td>((faits-constates-par-index-par-departement-et...</td>\n",
       "      <td>((faits-constates-par-index-par-departement-et...</td>\n",
       "    </tr>\n",
       "    <tr>\n",
       "      <th>1670</th>\n",
       "      <td>contours-des-regions-francaises-sur-openstreetmap</td>\n",
       "      <td>[decoupage-administratif-communal-francais-iss...</td>\n",
       "      <td>[196, 76, 63, 59, 40, 38, 26, 22, 20, 19, 16, ...</td>\n",
       "      <td>((decoupage-administratif-communal-francais-is...</td>\n",
       "      <td>((decoupage-administratif-communal-francais-is...</td>\n",
       "    </tr>\n",
       "  </tbody>\n",
       "</table>\n",
       "</div>"
      ],
      "text/plain": [
       "                                              dataset_1  \\\n",
       "1100                                           cadastre   \n",
       "921                   base-officielle-des-codes-postaux   \n",
       "935   base-sirene-des-entreprises-et-de-leurs-etabli...   \n",
       "769                                        associations   \n",
       "3026  immeubles-proteges-au-titre-des-monuments-hist...   \n",
       "1665  contours-des-departements-francais-issus-d-ope...   \n",
       "1870  decoupage-administratif-communal-francais-issu...   \n",
       "1701              correspondance-code-insee-code-postal   \n",
       "2741          faits-constates-mensuels-par-departements   \n",
       "1670  contours-des-regions-francaises-sur-openstreetmap   \n",
       "\n",
       "                                              dataset_2  \\\n",
       "1100  [pci-vecteur-plan-cadastral-informatise, cadas...   \n",
       "921   [correspondance-entre-les-codes-postaux-et-cod...   \n",
       "935   [base-sirene-des-entreprises-et-de-leurs-etabl...   \n",
       "769   [repertoire-national-des-associations-rna, ass...   \n",
       "3026  [monuments-historiques-liste-des-immeubles-pro...   \n",
       "1665  [decoupage-administratif-communal-francais-iss...   \n",
       "1870  [geofla-limites-des-communes-en-france, limite...   \n",
       "1701  [correspondance-entre-les-codes-postaux-et-cod...   \n",
       "2741  [faits-constates-par-index-par-departement-et-...   \n",
       "1670  [decoupage-administratif-communal-francais-iss...   \n",
       "\n",
       "                                           co_occurence  \\\n",
       "1100  [1682, 145, 137, 100, 94, 54, 49, 48, 42, 39, ...   \n",
       "921   [413, 317, 276, 203, 185, 163, 150, 87, 79, 76...   \n",
       "935   [400, 296, 295, 276, 192, 190, 183, 172, 152, ...   \n",
       "769   [368, 47, 35, 30, 16, 9, 9, 7, 7, 6, 6, 5, 5, ...   \n",
       "3026  [283, 25, 10, 8, 8, 7, 7, 6, 6, 5, 5, 5, 5, 5,...   \n",
       "1665  [261, 173, 51, 48, 36, 35, 34, 34, 29, 26, 21,...   \n",
       "1870  [236, 210, 121, 107, 89, 70, 69, 62, 60, 53, 5...   \n",
       "1701  [212, 17, 11, 11, 11, 10, 9, 7, 6, 4, 3, 2, 2,...   \n",
       "2741  [210, 33, 30, 25, 25, 22, 21, 19, 19, 18, 17, ...   \n",
       "1670  [196, 76, 63, 59, 40, 38, 26, 22, 20, 19, 16, ...   \n",
       "\n",
       "                                       all_co_occurence  \\\n",
       "1100  ((pci-vecteur-plan-cadastral-informatise, 1682...   \n",
       "921   ((correspondance-entre-les-codes-postaux-et-co...   \n",
       "935   ((base-sirene-des-entreprises-et-de-leurs-etab...   \n",
       "769   ((repertoire-national-des-associations-rna, 36...   \n",
       "3026  ((monuments-historiques-liste-des-immeubles-pr...   \n",
       "1665  ((decoupage-administratif-communal-francais-is...   \n",
       "1870  ((geofla-limites-des-communes-en-france, 236),...   \n",
       "1701  ((correspondance-entre-les-codes-postaux-et-co...   \n",
       "2741  ((faits-constates-par-index-par-departement-et...   \n",
       "1670  ((decoupage-administratif-communal-francais-is...   \n",
       "\n",
       "                                      best_co_occurence  \n",
       "1100  ((pci-vecteur-plan-cadastral-informatise, 1682),)  \n",
       "921   ((correspondance-entre-les-codes-postaux-et-co...  \n",
       "935   ((base-sirene-des-entreprises-et-de-leurs-etab...  \n",
       "769   ((repertoire-national-des-associations-rna, 36...  \n",
       "3026  ((monuments-historiques-liste-des-immeubles-pr...  \n",
       "1665  ((decoupage-administratif-communal-francais-is...  \n",
       "1870  ((geofla-limites-des-communes-en-france, 236),...  \n",
       "1701  ((correspondance-entre-les-codes-postaux-et-co...  \n",
       "2741  ((faits-constates-par-index-par-departement-et...  \n",
       "1670  ((decoupage-administratif-communal-francais-is...  "
      ]
     },
     "execution_count": 20,
     "metadata": {},
     "output_type": "execute_result"
    }
   ],
   "source": [
    "# Apply rule of thumbs to top10 \n",
    "paired_df_grouped['best_co_occurence'] = paired_df_grouped.apply(lambda x: x['all_co_occurence'][:rule_of_thumb(x['top10'])], axis=1)\n",
    "del paired_df_grouped['top10']\n",
    "paired_df_grouped.head(10)\n"
   ]
  },
  {
   "cell_type": "markdown",
   "metadata": {},
   "source": [
    "25% of datasets are linked with only 1 other. That's not much but that's enough for now.\n",
    "\n",
    "We could definitely find a lighter rule if we want to recommend at least 3 datasets."
   ]
  },
  {
   "cell_type": "code",
   "execution_count": 21,
   "metadata": {
    "collapsed": false,
    "scrolled": true
   },
   "outputs": [
    {
     "data": {
      "text/html": [
       "<div>\n",
       "<style>\n",
       "    .dataframe thead tr:only-child th {\n",
       "        text-align: right;\n",
       "    }\n",
       "\n",
       "    .dataframe thead th {\n",
       "        text-align: left;\n",
       "    }\n",
       "\n",
       "    .dataframe tbody tr th {\n",
       "        vertical-align: top;\n",
       "    }\n",
       "</style>\n",
       "<table border=\"1\" class=\"dataframe\">\n",
       "  <thead>\n",
       "    <tr style=\"text-align: right;\">\n",
       "      <th></th>\n",
       "      <th>dataset_1</th>\n",
       "      <th>best_co_occurence</th>\n",
       "    </tr>\n",
       "  </thead>\n",
       "  <tbody>\n",
       "    <tr>\n",
       "      <th>1100</th>\n",
       "      <td>cadastre</td>\n",
       "      <td>((pci-vecteur-plan-cadastral-informatise, 1682),)</td>\n",
       "    </tr>\n",
       "    <tr>\n",
       "      <th>921</th>\n",
       "      <td>base-officielle-des-codes-postaux</td>\n",
       "      <td>((correspondance-entre-les-codes-postaux-et-codes-insee-des-communes-francaises, 413),)</td>\n",
       "    </tr>\n",
       "    <tr>\n",
       "      <th>935</th>\n",
       "      <td>base-sirene-des-entreprises-et-de-leurs-etablissements-siren-siret</td>\n",
       "      <td>((base-sirene-des-entreprises-et-de-leurs-etablissements-siren-siret, 400),)</td>\n",
       "    </tr>\n",
       "    <tr>\n",
       "      <th>769</th>\n",
       "      <td>associations</td>\n",
       "      <td>((repertoire-national-des-associations-rna, 368),)</td>\n",
       "    </tr>\n",
       "    <tr>\n",
       "      <th>3026</th>\n",
       "      <td>immeubles-proteges-au-titre-des-monuments-historiques</td>\n",
       "      <td>((monuments-historiques-liste-des-immeubles-proteges-au-titre-des-monuments-historiques, 283),)</td>\n",
       "    </tr>\n",
       "    <tr>\n",
       "      <th>1665</th>\n",
       "      <td>contours-des-departements-francais-issus-d-openstreetmap</td>\n",
       "      <td>((decoupage-administratif-communal-francais-issu-d-openstreetmap, 261), (contours-des-regions-francaises-sur-openstreetmap, 173))</td>\n",
       "    </tr>\n",
       "    <tr>\n",
       "      <th>1870</th>\n",
       "      <td>decoupage-administratif-communal-francais-issu-d-openstreetmap</td>\n",
       "      <td>((geofla-limites-des-communes-en-france, 236), (limites-administratives-francaises-issues-d-openstreetmap, 210))</td>\n",
       "    </tr>\n",
       "    <tr>\n",
       "      <th>1701</th>\n",
       "      <td>correspondance-code-insee-code-postal</td>\n",
       "      <td>((correspondance-entre-les-codes-postaux-et-codes-insee-des-communes-francaises, 212),)</td>\n",
       "    </tr>\n",
       "    <tr>\n",
       "      <th>2741</th>\n",
       "      <td>faits-constates-mensuels-par-departements</td>\n",
       "      <td>((faits-constates-par-index-par-departement-et-par-annee, 210),)</td>\n",
       "    </tr>\n",
       "    <tr>\n",
       "      <th>1670</th>\n",
       "      <td>contours-des-regions-francaises-sur-openstreetmap</td>\n",
       "      <td>((decoupage-administratif-communal-francais-issu-d-openstreetmap, 196),)</td>\n",
       "    </tr>\n",
       "    <tr>\n",
       "      <th>774</th>\n",
       "      <td>associations-reconnues-d-utilite-publique</td>\n",
       "      <td>((repertoire-national-des-associations-rna, 190),)</td>\n",
       "    </tr>\n",
       "    <tr>\n",
       "      <th>1214</th>\n",
       "      <td>carte-des-departements-2</td>\n",
       "      <td>((contours-des-departements-francais-issus-d-openstreetmap, 188),)</td>\n",
       "    </tr>\n",
       "    <tr>\n",
       "      <th>850</th>\n",
       "      <td>ban-base-adresse-nationale</td>\n",
       "      <td>((base-sirene-des-entreprises-et-de-leurs-etablissements-siren-siret, 182), (base-officielle-des-codes-postaux, 162), (pci-vecteur-plan-cadastral-informatise, 139))</td>\n",
       "    </tr>\n",
       "    <tr>\n",
       "      <th>308</th>\n",
       "      <td>adresse-et-geolocalisation-des-etablissements-denseignement-du-premier-et-second-degres</td>\n",
       "      <td>((base-sirene-des-entreprises-et-de-leurs-etablissements-siren-siret, 172),)</td>\n",
       "    </tr>\n",
       "    <tr>\n",
       "      <th>4332</th>\n",
       "      <td>pci-vecteur-plan-cadastral-informatise</td>\n",
       "      <td>((pci-vecteur-plan-cadastral-informatise, 166),)</td>\n",
       "    </tr>\n",
       "    <tr>\n",
       "      <th>1360</th>\n",
       "      <td>chiffres-cles-2017</td>\n",
       "      <td>((entreprises-immatriculees-en-2017, 140), (liste-des-greffes, 139))</td>\n",
       "    </tr>\n",
       "    <tr>\n",
       "      <th>2515</th>\n",
       "      <td>entreprises-immatriculees-en-2017</td>\n",
       "      <td>((liste-des-greffes, 139),)</td>\n",
       "    </tr>\n",
       "    <tr>\n",
       "      <th>1055</th>\n",
       "      <td>brevets-europeens</td>\n",
       "      <td>((marques-francaises, 131), (brevets-francais, 124), (dessins-et-modeles, 123))</td>\n",
       "    </tr>\n",
       "    <tr>\n",
       "      <th>1056</th>\n",
       "      <td>brevets-francais</td>\n",
       "      <td>((marques-francaises, 128), (dessins-et-modeles, 125))</td>\n",
       "    </tr>\n",
       "    <tr>\n",
       "      <th>1956</th>\n",
       "      <td>dessins-et-modeles</td>\n",
       "      <td>((marques-francaises, 127),)</td>\n",
       "    </tr>\n",
       "    <tr>\n",
       "      <th>1205</th>\n",
       "      <td>carte-de-comptages-oise</td>\n",
       "      <td>((trafic-sur-rd-oise, 125),)</td>\n",
       "    </tr>\n",
       "    <tr>\n",
       "      <th>403</th>\n",
       "      <td>agriculture-biologique-2008-2011-nombre-d-operateurs-engages-en-agriculture-biologique-30378896</td>\n",
       "      <td>((agriculture-biologique-2008-2011-productions-animales-bio-tetes-par-departement-30378956, 124),)</td>\n",
       "    </tr>\n",
       "    <tr>\n",
       "      <th>298</th>\n",
       "      <td>admin-express</td>\n",
       "      <td>((geofla-r, 121),)</td>\n",
       "    </tr>\n",
       "    <tr>\n",
       "      <th>2088</th>\n",
       "      <td>donnees-d-observation-des-principales-stations-meteorologiques</td>\n",
       "      <td>((donnees-dobservation-en-mer-bouees-et-bateaux-3, 115), (donnees-de-modele-atmospherique-a-aire-limitee-a-haute-resolution-sur-loutre-mer, 115), (hackrisques-episode-de-vent-fort-sur-la-region-marseillaise-du-27-10-2012-au-28-10-2012, 104), (donnees-du-modele-atmospherique-global-arpege, 66))</td>\n",
       "    </tr>\n",
       "    <tr>\n",
       "      <th>2099</th>\n",
       "      <td>donnees-de-modele-atmospherique-a-aire-limitee-a-haute-resolution-sur-loutre-mer</td>\n",
       "      <td>((donnees-dobservation-en-mer-bouees-et-bateaux-3, 114), (hackrisques-episode-de-vent-fort-sur-la-region-marseillaise-du-27-10-2012-au-28-10-2012, 103))</td>\n",
       "    </tr>\n",
       "    <tr>\n",
       "      <th>309</th>\n",
       "      <td>adresse-et-geolocalisation-des-etablissements-denseignement-du-premier-et-second-degres-1</td>\n",
       "      <td>((la-formation-continue-dans-l-enseignement-superieur-00000000, 113), (base-sirene-des-entreprises-et-de-leurs-etablissements-siren-siret, 103), (les-diplomes-d-ingenieurs-et-de-commerce-00000000, 101))</td>\n",
       "    </tr>\n",
       "    <tr>\n",
       "      <th>1660</th>\n",
       "      <td>contour-des-iris-insee-tout-en-un</td>\n",
       "      <td>((contours-iris, 113),)</td>\n",
       "    </tr>\n",
       "    <tr>\n",
       "      <th>5177</th>\n",
       "      <td>registre-parcellaire-graphique-2012-contours-des-ilots-culturaux-et-leur-groupe-de-cultures-majorita</td>\n",
       "      <td>((registre-parcellaire-graphique-rpg-contours-des-ilots-culturaux-et-leur-groupe-de-cultures-majoritaire, 113),)</td>\n",
       "    </tr>\n",
       "    <tr>\n",
       "      <th>1123</th>\n",
       "      <td>cadastre-mtn</td>\n",
       "      <td>((pci-vecteur-plan-cadastral-informatise, 113),)</td>\n",
       "    </tr>\n",
       "    <tr>\n",
       "      <th>263</th>\n",
       "      <td>accidents-de-la-route</td>\n",
       "      <td>((base-de-donnees-accidents-corporels-de-la-circulation, 104),)</td>\n",
       "    </tr>\n",
       "    <tr>\n",
       "      <th>...</th>\n",
       "      <td>...</td>\n",
       "      <td>...</td>\n",
       "    </tr>\n",
       "    <tr>\n",
       "      <th>1226</th>\n",
       "      <td>carte-des-regions-fourrageres-aveyron</td>\n",
       "      <td>((une-carte-a-13-regions, 2),)</td>\n",
       "    </tr>\n",
       "    <tr>\n",
       "      <th>4606</th>\n",
       "      <td>plan-de-prevention-des-risques-naturels-vezere-commune-de-les-eyzies-de-tayac-sireuil-1</td>\n",
       "      <td>((plan-de-prevention-des-risques-naturels-vezere-commune-de-peyzac-le-moustier-1, 2),)</td>\n",
       "    </tr>\n",
       "    <tr>\n",
       "      <th>1225</th>\n",
       "      <td>carte-des-principaux-types-de-sols-departement-de-tarn-et-garonne</td>\n",
       "      <td>((zone-daide-a-finalite-regionale-afr, 2),)</td>\n",
       "    </tr>\n",
       "    <tr>\n",
       "      <th>4645</th>\n",
       "      <td>plan-local-durbanisme-de-la-commune-de-saint-fuscien</td>\n",
       "      <td>((zone-du-plu-de-la-commune-de-saint-fuscien, 2),)</td>\n",
       "    </tr>\n",
       "    <tr>\n",
       "      <th>1241</th>\n",
       "      <td>carte-scolaire-des-ecoles-maternelles-mtn</td>\n",
       "      <td>((effectifs-scolaires-mtn, 2),)</td>\n",
       "    </tr>\n",
       "    <tr>\n",
       "      <th>4687</th>\n",
       "      <td>plf-2014-jaune-donnees-associations-subventionnees-2012-576332</td>\n",
       "      <td>((plf-jaune-associations-subventionnees, 2),)</td>\n",
       "    </tr>\n",
       "    <tr>\n",
       "      <th>489</th>\n",
       "      <td>aleas-mouvement-de-terrain-erosions-de-berge</td>\n",
       "      <td>((base-sirene-des-entreprises-et-de-leurs-etablissements-siren-siret, 2),)</td>\n",
       "    </tr>\n",
       "    <tr>\n",
       "      <th>4685</th>\n",
       "      <td>plans-locaux-durbanisme-secteur-sauvegarde</td>\n",
       "      <td>((plans-locaux-durbanisme-zonages, 2),)</td>\n",
       "    </tr>\n",
       "    <tr>\n",
       "      <th>486</th>\n",
       "      <td>aleas-mouvement-de-terrain-eboulements-chutes-de-blocs-ou-phenomenes-aggravant-falaises-1</td>\n",
       "      <td>((base-sirene-des-entreprises-et-de-leurs-etablissements-siren-siret, 2),)</td>\n",
       "    </tr>\n",
       "    <tr>\n",
       "      <th>487</th>\n",
       "      <td>aleas-mouvement-de-terrain-effondrements-et-affaissements-induits-par-des-cavites-souterraines-naturelles</td>\n",
       "      <td>((base-sirene-des-entreprises-et-de-leurs-etablissements-siren-siret, 2),)</td>\n",
       "    </tr>\n",
       "    <tr>\n",
       "      <th>4678</th>\n",
       "      <td>plans-de-prevention-des-risques-naturels-pprn-communes-concernees-en-pays-de-la-loire</td>\n",
       "      <td>((risques-naturels-et-technologiques-des-communes-du-departement-du-doubs, 2),)</td>\n",
       "    </tr>\n",
       "    <tr>\n",
       "      <th>4677</th>\n",
       "      <td>plans-de-prevention-des-risques-naturels-pprn-approuves-haute-loire</td>\n",
       "      <td>((zones-contaminees-par-les-termites-ou-susceptibles-de-letre-a-court-terme-dans-le-departement-dindre-et-loire, 2),)</td>\n",
       "    </tr>\n",
       "    <tr>\n",
       "      <th>488</th>\n",
       "      <td>aleas-mouvement-de-terrain-effondrements-et-affaissements-induits-par-des-cavites-souterraines-naturelles-1</td>\n",
       "      <td>((base-sirene-des-entreprises-et-de-leurs-etablissements-siren-siret, 2),)</td>\n",
       "    </tr>\n",
       "    <tr>\n",
       "      <th>4672</th>\n",
       "      <td>plans-dalignement-lie-aux-servitudes-de-la-categorie-el7-alignement-des-voies-publiques-en-seine-et-marne</td>\n",
       "      <td>((zone-submersible-generatrice-de-servitude-el2-en-seine-et-marne, 2),)</td>\n",
       "    </tr>\n",
       "    <tr>\n",
       "      <th>4670</th>\n",
       "      <td>plans-dalignement-lie-aux-servitudes-de-la-categorie-el7-alignement-des-voies-publiques-dans-le-departement-de-la-marne</td>\n",
       "      <td>((sup-el7-plans-dalignement-lie-aux-servitudes-de-la-categorie-el7-alignement-des-voies-publiques, 2),)</td>\n",
       "    </tr>\n",
       "    <tr>\n",
       "      <th>4668</th>\n",
       "      <td>plan-ratp-schematique-metro-ratp</td>\n",
       "      <td>((positions-geographiques-des-stations-du-reseau-ratp-ratp, 2),)</td>\n",
       "    </tr>\n",
       "    <tr>\n",
       "      <th>4665</th>\n",
       "      <td>plan-locaux-durbanisme-intercommunaux-plui-sur-le-departement-des-pyrenees-atlantiques-l-plui-zsup-064-shp</td>\n",
       "      <td>((recensement-des-equipements-sportifs-espaces-et-sites-de-pratiques, 2),)</td>\n",
       "    </tr>\n",
       "    <tr>\n",
       "      <th>490</th>\n",
       "      <td>aleas-mouvement-de-terrain-erosions-de-berge-1</td>\n",
       "      <td>((base-sirene-des-entreprises-et-de-leurs-etablissements-siren-siret, 2),)</td>\n",
       "    </tr>\n",
       "    <tr>\n",
       "      <th>4649</th>\n",
       "      <td>plan-local-durbanisme-de-lezat-sur-leze</td>\n",
       "      <td>((zones-reglementees-du-plan-local-durbanisme-de-lezat-sur-leze, 2),)</td>\n",
       "    </tr>\n",
       "    <tr>\n",
       "      <th>4660</th>\n",
       "      <td>plan-local-durbanisme-du-29-06-2012-de-la-commune-de-domont</td>\n",
       "      <td>((zonages-reglementaires-du-plu-du-29-06-2012-de-la-commune-de-domont, 2),)</td>\n",
       "    </tr>\n",
       "    <tr>\n",
       "      <th>4659</th>\n",
       "      <td>plan-local-durbanisme-du-13-12-2007-de-la-commune-dharavilliers</td>\n",
       "      <td>((prescriptions-lineaires-du-plu-du-13-12-2007-de-la-commune-dharavilliers, 2),)</td>\n",
       "    </tr>\n",
       "    <tr>\n",
       "      <th>2849</th>\n",
       "      <td>friches-et-dents-creuses-dans-le-departement-de-la-marne</td>\n",
       "      <td>((sites-et-sols-pollues-ou-potentiellement-pollues-en-franche-comte, 2),)</td>\n",
       "    </tr>\n",
       "    <tr>\n",
       "      <th>491</th>\n",
       "      <td>aleas-mouvement-de-terrain-glissements-de-terrain-averes</td>\n",
       "      <td>((base-sirene-des-entreprises-et-de-leurs-etablissements-siren-siret, 2),)</td>\n",
       "    </tr>\n",
       "    <tr>\n",
       "      <th>4656</th>\n",
       "      <td>plan-local-durbanisme-de-vieux-vy-sur-couesnon</td>\n",
       "      <td>((repertoire-national-des-associations-rna, 2),)</td>\n",
       "    </tr>\n",
       "    <tr>\n",
       "      <th>492</th>\n",
       "      <td>aleas-mouvement-de-terrain-glissements-de-terrain-averes-1</td>\n",
       "      <td>((base-sirene-des-entreprises-et-de-leurs-etablissements-siren-siret, 2),)</td>\n",
       "    </tr>\n",
       "    <tr>\n",
       "      <th>493</th>\n",
       "      <td>aleas-mouvement-de-terrain-sensibilite-au-glissements-de-terrain</td>\n",
       "      <td>((base-sirene-des-entreprises-et-de-leurs-etablissements-siren-siret, 2),)</td>\n",
       "    </tr>\n",
       "    <tr>\n",
       "      <th>4653</th>\n",
       "      <td>plan-local-durbanisme-de-saint-lizier</td>\n",
       "      <td>((zones-reglementees-du-plan-local-durbanisme-de-saint-lizier, 2),)</td>\n",
       "    </tr>\n",
       "    <tr>\n",
       "      <th>4652</th>\n",
       "      <td>plan-local-durbanisme-de-rabat-les-trois-seigneurs</td>\n",
       "      <td>((zones-reglementees-du-plan-local-durbanisme-de-rabat-les-trois-seigneurs, 2),)</td>\n",
       "    </tr>\n",
       "    <tr>\n",
       "      <th>494</th>\n",
       "      <td>alertes-recherche-logement-vacant</td>\n",
       "      <td>((ressources-logements-vacants-recenses-sur-oqp-io, 2),)</td>\n",
       "    </tr>\n",
       "    <tr>\n",
       "      <th>3040</th>\n",
       "      <td>indemnites-des-elus-municipaux-de-la-ville-de-nogent-sur-marne</td>\n",
       "      <td>((statistiques-de-la-delinquance-a-nogent-sur-marne, 2),)</td>\n",
       "    </tr>\n",
       "  </tbody>\n",
       "</table>\n",
       "<p>6081 rows × 2 columns</p>\n",
       "</div>"
      ],
      "text/plain": [
       "                                                                                                                    dataset_1  \\\n",
       "1100  cadastre                                                                                                                  \n",
       "921   base-officielle-des-codes-postaux                                                                                         \n",
       "935   base-sirene-des-entreprises-et-de-leurs-etablissements-siren-siret                                                        \n",
       "769   associations                                                                                                              \n",
       "3026  immeubles-proteges-au-titre-des-monuments-historiques                                                                     \n",
       "1665  contours-des-departements-francais-issus-d-openstreetmap                                                                  \n",
       "1870  decoupage-administratif-communal-francais-issu-d-openstreetmap                                                            \n",
       "1701  correspondance-code-insee-code-postal                                                                                     \n",
       "2741  faits-constates-mensuels-par-departements                                                                                 \n",
       "1670  contours-des-regions-francaises-sur-openstreetmap                                                                         \n",
       "774   associations-reconnues-d-utilite-publique                                                                                 \n",
       "1214  carte-des-departements-2                                                                                                  \n",
       "850   ban-base-adresse-nationale                                                                                                \n",
       "308   adresse-et-geolocalisation-des-etablissements-denseignement-du-premier-et-second-degres                                   \n",
       "4332  pci-vecteur-plan-cadastral-informatise                                                                                    \n",
       "1360  chiffres-cles-2017                                                                                                        \n",
       "2515  entreprises-immatriculees-en-2017                                                                                         \n",
       "1055  brevets-europeens                                                                                                         \n",
       "1056  brevets-francais                                                                                                          \n",
       "1956  dessins-et-modeles                                                                                                        \n",
       "1205  carte-de-comptages-oise                                                                                                   \n",
       "403   agriculture-biologique-2008-2011-nombre-d-operateurs-engages-en-agriculture-biologique-30378896                           \n",
       "298   admin-express                                                                                                             \n",
       "2088  donnees-d-observation-des-principales-stations-meteorologiques                                                            \n",
       "2099  donnees-de-modele-atmospherique-a-aire-limitee-a-haute-resolution-sur-loutre-mer                                          \n",
       "309   adresse-et-geolocalisation-des-etablissements-denseignement-du-premier-et-second-degres-1                                 \n",
       "1660  contour-des-iris-insee-tout-en-un                                                                                         \n",
       "5177  registre-parcellaire-graphique-2012-contours-des-ilots-culturaux-et-leur-groupe-de-cultures-majorita                      \n",
       "1123  cadastre-mtn                                                                                                              \n",
       "263   accidents-de-la-route                                                                                                     \n",
       "...                     ...                                                                                                     \n",
       "1226  carte-des-regions-fourrageres-aveyron                                                                                     \n",
       "4606  plan-de-prevention-des-risques-naturels-vezere-commune-de-les-eyzies-de-tayac-sireuil-1                                   \n",
       "1225  carte-des-principaux-types-de-sols-departement-de-tarn-et-garonne                                                         \n",
       "4645  plan-local-durbanisme-de-la-commune-de-saint-fuscien                                                                      \n",
       "1241  carte-scolaire-des-ecoles-maternelles-mtn                                                                                 \n",
       "4687  plf-2014-jaune-donnees-associations-subventionnees-2012-576332                                                            \n",
       "489   aleas-mouvement-de-terrain-erosions-de-berge                                                                              \n",
       "4685  plans-locaux-durbanisme-secteur-sauvegarde                                                                                \n",
       "486   aleas-mouvement-de-terrain-eboulements-chutes-de-blocs-ou-phenomenes-aggravant-falaises-1                                 \n",
       "487   aleas-mouvement-de-terrain-effondrements-et-affaissements-induits-par-des-cavites-souterraines-naturelles                 \n",
       "4678  plans-de-prevention-des-risques-naturels-pprn-communes-concernees-en-pays-de-la-loire                                     \n",
       "4677  plans-de-prevention-des-risques-naturels-pprn-approuves-haute-loire                                                       \n",
       "488   aleas-mouvement-de-terrain-effondrements-et-affaissements-induits-par-des-cavites-souterraines-naturelles-1               \n",
       "4672  plans-dalignement-lie-aux-servitudes-de-la-categorie-el7-alignement-des-voies-publiques-en-seine-et-marne                 \n",
       "4670  plans-dalignement-lie-aux-servitudes-de-la-categorie-el7-alignement-des-voies-publiques-dans-le-departement-de-la-marne   \n",
       "4668  plan-ratp-schematique-metro-ratp                                                                                          \n",
       "4665  plan-locaux-durbanisme-intercommunaux-plui-sur-le-departement-des-pyrenees-atlantiques-l-plui-zsup-064-shp                \n",
       "490   aleas-mouvement-de-terrain-erosions-de-berge-1                                                                            \n",
       "4649  plan-local-durbanisme-de-lezat-sur-leze                                                                                   \n",
       "4660  plan-local-durbanisme-du-29-06-2012-de-la-commune-de-domont                                                               \n",
       "4659  plan-local-durbanisme-du-13-12-2007-de-la-commune-dharavilliers                                                           \n",
       "2849  friches-et-dents-creuses-dans-le-departement-de-la-marne                                                                  \n",
       "491   aleas-mouvement-de-terrain-glissements-de-terrain-averes                                                                  \n",
       "4656  plan-local-durbanisme-de-vieux-vy-sur-couesnon                                                                            \n",
       "492   aleas-mouvement-de-terrain-glissements-de-terrain-averes-1                                                                \n",
       "493   aleas-mouvement-de-terrain-sensibilite-au-glissements-de-terrain                                                          \n",
       "4653  plan-local-durbanisme-de-saint-lizier                                                                                     \n",
       "4652  plan-local-durbanisme-de-rabat-les-trois-seigneurs                                                                        \n",
       "494   alertes-recherche-logement-vacant                                                                                         \n",
       "3040  indemnites-des-elus-municipaux-de-la-ville-de-nogent-sur-marne                                                            \n",
       "\n",
       "                                                                                                                                                                                                                                                                                           best_co_occurence  \n",
       "1100  ((pci-vecteur-plan-cadastral-informatise, 1682),)                                                                                                                                                                                                                                                       \n",
       "921   ((correspondance-entre-les-codes-postaux-et-codes-insee-des-communes-francaises, 413),)                                                                                                                                                                                                                 \n",
       "935   ((base-sirene-des-entreprises-et-de-leurs-etablissements-siren-siret, 400),)                                                                                                                                                                                                                            \n",
       "769   ((repertoire-national-des-associations-rna, 368),)                                                                                                                                                                                                                                                      \n",
       "3026  ((monuments-historiques-liste-des-immeubles-proteges-au-titre-des-monuments-historiques, 283),)                                                                                                                                                                                                         \n",
       "1665  ((decoupage-administratif-communal-francais-issu-d-openstreetmap, 261), (contours-des-regions-francaises-sur-openstreetmap, 173))                                                                                                                                                                       \n",
       "1870  ((geofla-limites-des-communes-en-france, 236), (limites-administratives-francaises-issues-d-openstreetmap, 210))                                                                                                                                                                                        \n",
       "1701  ((correspondance-entre-les-codes-postaux-et-codes-insee-des-communes-francaises, 212),)                                                                                                                                                                                                                 \n",
       "2741  ((faits-constates-par-index-par-departement-et-par-annee, 210),)                                                                                                                                                                                                                                        \n",
       "1670  ((decoupage-administratif-communal-francais-issu-d-openstreetmap, 196),)                                                                                                                                                                                                                                \n",
       "774   ((repertoire-national-des-associations-rna, 190),)                                                                                                                                                                                                                                                      \n",
       "1214  ((contours-des-departements-francais-issus-d-openstreetmap, 188),)                                                                                                                                                                                                                                      \n",
       "850   ((base-sirene-des-entreprises-et-de-leurs-etablissements-siren-siret, 182), (base-officielle-des-codes-postaux, 162), (pci-vecteur-plan-cadastral-informatise, 139))                                                                                                                                    \n",
       "308   ((base-sirene-des-entreprises-et-de-leurs-etablissements-siren-siret, 172),)                                                                                                                                                                                                                            \n",
       "4332  ((pci-vecteur-plan-cadastral-informatise, 166),)                                                                                                                                                                                                                                                        \n",
       "1360  ((entreprises-immatriculees-en-2017, 140), (liste-des-greffes, 139))                                                                                                                                                                                                                                    \n",
       "2515  ((liste-des-greffes, 139),)                                                                                                                                                                                                                                                                             \n",
       "1055  ((marques-francaises, 131), (brevets-francais, 124), (dessins-et-modeles, 123))                                                                                                                                                                                                                         \n",
       "1056  ((marques-francaises, 128), (dessins-et-modeles, 125))                                                                                                                                                                                                                                                  \n",
       "1956  ((marques-francaises, 127),)                                                                                                                                                                                                                                                                            \n",
       "1205  ((trafic-sur-rd-oise, 125),)                                                                                                                                                                                                                                                                            \n",
       "403   ((agriculture-biologique-2008-2011-productions-animales-bio-tetes-par-departement-30378956, 124),)                                                                                                                                                                                                      \n",
       "298   ((geofla-r, 121),)                                                                                                                                                                                                                                                                                      \n",
       "2088  ((donnees-dobservation-en-mer-bouees-et-bateaux-3, 115), (donnees-de-modele-atmospherique-a-aire-limitee-a-haute-resolution-sur-loutre-mer, 115), (hackrisques-episode-de-vent-fort-sur-la-region-marseillaise-du-27-10-2012-au-28-10-2012, 104), (donnees-du-modele-atmospherique-global-arpege, 66))  \n",
       "2099  ((donnees-dobservation-en-mer-bouees-et-bateaux-3, 114), (hackrisques-episode-de-vent-fort-sur-la-region-marseillaise-du-27-10-2012-au-28-10-2012, 103))                                                                                                                                                \n",
       "309   ((la-formation-continue-dans-l-enseignement-superieur-00000000, 113), (base-sirene-des-entreprises-et-de-leurs-etablissements-siren-siret, 103), (les-diplomes-d-ingenieurs-et-de-commerce-00000000, 101))                                                                                              \n",
       "1660  ((contours-iris, 113),)                                                                                                                                                                                                                                                                                 \n",
       "5177  ((registre-parcellaire-graphique-rpg-contours-des-ilots-culturaux-et-leur-groupe-de-cultures-majoritaire, 113),)                                                                                                                                                                                        \n",
       "1123  ((pci-vecteur-plan-cadastral-informatise, 113),)                                                                                                                                                                                                                                                        \n",
       "263   ((base-de-donnees-accidents-corporels-de-la-circulation, 104),)                                                                                                                                                                                                                                         \n",
       "...                                                               ...                                                                                                                                                                                                                                         \n",
       "1226  ((une-carte-a-13-regions, 2),)                                                                                                                                                                                                                                                                          \n",
       "4606  ((plan-de-prevention-des-risques-naturels-vezere-commune-de-peyzac-le-moustier-1, 2),)                                                                                                                                                                                                                  \n",
       "1225  ((zone-daide-a-finalite-regionale-afr, 2),)                                                                                                                                                                                                                                                             \n",
       "4645  ((zone-du-plu-de-la-commune-de-saint-fuscien, 2),)                                                                                                                                                                                                                                                      \n",
       "1241  ((effectifs-scolaires-mtn, 2),)                                                                                                                                                                                                                                                                         \n",
       "4687  ((plf-jaune-associations-subventionnees, 2),)                                                                                                                                                                                                                                                           \n",
       "489   ((base-sirene-des-entreprises-et-de-leurs-etablissements-siren-siret, 2),)                                                                                                                                                                                                                              \n",
       "4685  ((plans-locaux-durbanisme-zonages, 2),)                                                                                                                                                                                                                                                                 \n",
       "486   ((base-sirene-des-entreprises-et-de-leurs-etablissements-siren-siret, 2),)                                                                                                                                                                                                                              \n",
       "487   ((base-sirene-des-entreprises-et-de-leurs-etablissements-siren-siret, 2),)                                                                                                                                                                                                                              \n",
       "4678  ((risques-naturels-et-technologiques-des-communes-du-departement-du-doubs, 2),)                                                                                                                                                                                                                         \n",
       "4677  ((zones-contaminees-par-les-termites-ou-susceptibles-de-letre-a-court-terme-dans-le-departement-dindre-et-loire, 2),)                                                                                                                                                                                   \n",
       "488   ((base-sirene-des-entreprises-et-de-leurs-etablissements-siren-siret, 2),)                                                                                                                                                                                                                              \n",
       "4672  ((zone-submersible-generatrice-de-servitude-el2-en-seine-et-marne, 2),)                                                                                                                                                                                                                                 \n",
       "4670  ((sup-el7-plans-dalignement-lie-aux-servitudes-de-la-categorie-el7-alignement-des-voies-publiques, 2),)                                                                                                                                                                                                 \n",
       "4668  ((positions-geographiques-des-stations-du-reseau-ratp-ratp, 2),)                                                                                                                                                                                                                                        \n",
       "4665  ((recensement-des-equipements-sportifs-espaces-et-sites-de-pratiques, 2),)                                                                                                                                                                                                                              \n",
       "490   ((base-sirene-des-entreprises-et-de-leurs-etablissements-siren-siret, 2),)                                                                                                                                                                                                                              \n",
       "4649  ((zones-reglementees-du-plan-local-durbanisme-de-lezat-sur-leze, 2),)                                                                                                                                                                                                                                   \n",
       "4660  ((zonages-reglementaires-du-plu-du-29-06-2012-de-la-commune-de-domont, 2),)                                                                                                                                                                                                                             \n",
       "4659  ((prescriptions-lineaires-du-plu-du-13-12-2007-de-la-commune-dharavilliers, 2),)                                                                                                                                                                                                                        \n",
       "2849  ((sites-et-sols-pollues-ou-potentiellement-pollues-en-franche-comte, 2),)                                                                                                                                                                                                                               \n",
       "491   ((base-sirene-des-entreprises-et-de-leurs-etablissements-siren-siret, 2),)                                                                                                                                                                                                                              \n",
       "4656  ((repertoire-national-des-associations-rna, 2),)                                                                                                                                                                                                                                                        \n",
       "492   ((base-sirene-des-entreprises-et-de-leurs-etablissements-siren-siret, 2),)                                                                                                                                                                                                                              \n",
       "493   ((base-sirene-des-entreprises-et-de-leurs-etablissements-siren-siret, 2),)                                                                                                                                                                                                                              \n",
       "4653  ((zones-reglementees-du-plan-local-durbanisme-de-saint-lizier, 2),)                                                                                                                                                                                                                                     \n",
       "4652  ((zones-reglementees-du-plan-local-durbanisme-de-rabat-les-trois-seigneurs, 2),)                                                                                                                                                                                                                        \n",
       "494   ((ressources-logements-vacants-recenses-sur-oqp-io, 2),)                                                                                                                                                                                                                                                \n",
       "3040  ((statistiques-de-la-delinquance-a-nogent-sur-marne, 2),)                                                                                                                                                                                                                                               \n",
       "\n",
       "[6081 rows x 2 columns]"
      ]
     },
     "execution_count": 21,
     "metadata": {},
     "output_type": "execute_result"
    }
   ],
   "source": [
    "pd.set_option('display.max_colwidth', -1)\n",
    "paired_df_grouped[['dataset_1', 'best_co_occurence']]"
   ]
  },
  {
   "cell_type": "code",
   "execution_count": 22,
   "metadata": {
    "collapsed": false
   },
   "outputs": [],
   "source": [
    "pd.set_option('display.max_colwidth', 100)"
   ]
  },
  {
   "cell_type": "markdown",
   "metadata": {},
   "source": [
    "# Export"
   ]
  },
  {
   "cell_type": "code",
   "execution_count": 23,
   "metadata": {
    "collapsed": false,
    "scrolled": true
   },
   "outputs": [],
   "source": [
    "# Convert to dict\n",
    "datasets_co_occurence = paired_df_grouped[['dataset_1', 'best_co_occurence']].set_index('dataset_1').to_dict()['best_co_occurence']"
   ]
  }
 ],
 "metadata": {
  "kernelspec": {
   "display_name": "Python 3",
   "language": "python",
   "name": "python3"
  },
  "language_info": {
   "codemirror_mode": {
    "name": "ipython",
    "version": 3
   },
   "file_extension": ".py",
   "mimetype": "text/x-python",
   "name": "python",
   "nbconvert_exporter": "python",
   "pygments_lexer": "ipython3",
   "version": "3.6.0"
  }
 },
 "nbformat": 4,
 "nbformat_minor": 2
}
