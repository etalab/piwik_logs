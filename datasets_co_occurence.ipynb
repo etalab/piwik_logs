{
 "cells": [
  {
   "cell_type": "markdown",
   "metadata": {},
   "source": [
    "# \"Voir aussi\" feature implementation\n",
    "\n",
    "The purpose of this notebook is to find similarity between dataset in order to build recommendation.\n",
    "\n",
    "More datasets are visited together in a same session, closer they are from each other.\n",
    "\n",
    "We checked both session & API."
   ]
  },
  {
   "cell_type": "code",
   "execution_count": 1,
   "metadata": {
    "collapsed": false
   },
   "outputs": [],
   "source": [
    "import json\n",
    "from collections import defaultdict, Counter\n",
    "import pickle\n",
    "import glob\n",
    "import os\n",
    "import itertools\n",
    "\n",
    "import networkx as nx\n",
    "import numpy as np\n",
    "import pandas as pd\n",
    "from matplotlib import pyplot as plt\n",
    "%matplotlib inline\n",
    "\n",
    "from src import utils\n",
    "from IPython.display import clear_output"
   ]
  },
  {
   "cell_type": "markdown",
   "metadata": {},
   "source": [
    "# Parse actions to dataset ids\n",
    "\n",
    "First, we need to group visited URL by type. For instance, we want to group .fr/.en/.es for the same actions.\n",
    "\n",
    "By action, we mean \"search, posts, actions, goal, ..\"."
   ]
  },
  {
   "cell_type": "code",
   "execution_count": 2,
   "metadata": {
    "collapsed": true
   },
   "outputs": [],
   "source": [
    "source_dir = 'deduplicated_logs'\n",
    "target_dir = 'parsed_logs'\n",
    "\n",
    "filenames = glob.glob(source_dir + '/*')\n",
    "\n",
    "# Compute monthly filename.json (e.g. : 2017-12-26)\n",
    "a_month_ago = pd.datetime.today() + pd.DateOffset(months=-1)\n",
    "date_range = pd.date_range(a_month_ago, pd.datetime.today()).strftime('%Y-%m-%d')\n",
    "monthly_files = ['deduplicated_logs/' + file + '.json' for file in date_range]\n",
    "\n",
    "unhandled_actions = []\n",
    "visits_parsed = []\n",
    "for filename in monthly_files:\n",
    "    with open(filename, 'r') as f:\n",
    "        visits = json.load(f)\n",
    "    visits_parsed_file, unhandled_actions_file = utils.parse_visits(visits)\n",
    "    visits_parsed += visits_parsed_file\n",
    "    unhandled_actions += unhandled_actions_file\n",
    "    with open(os.path.join(target_dir, os.path.basename(filename)), 'w') as f:\n",
    "        json.dump(visits_parsed_file, f)\n",
    "with open(os.path.join(target_dir, os.path.basename('all_visits_parsed_file')), 'w') as f:\n",
    "    json.dump(visits_parsed, f)"
   ]
  },
  {
   "cell_type": "code",
   "execution_count": 3,
   "metadata": {
    "collapsed": false
   },
   "outputs": [
    {
     "data": {
      "text/plain": [
       "287404"
      ]
     },
     "execution_count": 3,
     "metadata": {},
     "output_type": "execute_result"
    }
   ],
   "source": [
    "len(visits_parsed)"
   ]
  },
  {
   "cell_type": "code",
   "execution_count": 4,
   "metadata": {
    "collapsed": false
   },
   "outputs": [
    {
     "data": {
      "text/plain": [
       "179689"
      ]
     },
     "execution_count": 4,
     "metadata": {},
     "output_type": "execute_result"
    }
   ],
   "source": [
    "len(unhandled_actions)"
   ]
  },
  {
   "cell_type": "markdown",
   "metadata": {},
   "source": [
    "`unhandled_actions` contains mainly \"territoires\", \"avatar\" and odd URL. Majority of the datasets were correctly parsed so let's keep going.\n",
    "\n",
    "`visits_parsed` is a list of list of tuples : `[[(a, b), (a,c)], [(c,d)], [(a,c)], ...]`\n",
    "\n",
    "each tuple is a (type, name) were `type` can be: `id` (=API community), `keyword` (=keyword search), `slug_or_id` (dataset_API or dataset) and name is the value (e.g. a dataset name).\n",
    "\n",
    "API Community eg : https://www.data.gouv.fr/api/1/datasets/community_resources/?sort=-created_at&page_size=10&dataset=58e53811c751df03df38f42d&lang=fr&_=1512404531050\n",
    "\n",
    "-> \"58e53811c751df03df38f42d\" correspond au RNA, mais quel diff avec api ?\n",
    "\n",
    "\n",
    "We will focus our study on `slug_or_id`."
   ]
  },
  {
   "cell_type": "code",
   "execution_count": 5,
   "metadata": {
    "collapsed": false
   },
   "outputs": [
    {
     "data": {
      "text/plain": [
       "[]"
      ]
     },
     "execution_count": 5,
     "metadata": {},
     "output_type": "execute_result"
    }
   ],
   "source": [
    "# Dict session_num -> list_of_action_tuple\n",
    "visits_parsed_as_dict = dict(zip(range(0,len(visits_parsed)), visits_parsed))\n",
    "visits_parsed_as_dict[2]"
   ]
  },
  {
   "cell_type": "markdown",
   "metadata": {},
   "source": [
    "### First, let's replace dataset-id by their name (or slug) in order. All of them are supposedly unique so no problem.\n",
    "\n",
    "To do so, we first need to import the list of all datasets (datasets.csv) il order to get the mapping."
   ]
  },
  {
   "cell_type": "code",
   "execution_count": 6,
   "metadata": {
    "collapsed": true
   },
   "outputs": [],
   "source": [
    "datasets_ref = pd.read_csv('./list_of_all_datasets_dgfr/datasets-2017-12-13-18-23.csv', sep=';')\n",
    "# Mapping id -> slug\n",
    "datasets_slug_id = datasets_ref.set_index('slug')['id'].to_dict()\n",
    "# Mapping id -> slug (will be used for readability)\n",
    "datasets_id_slug = datasets_ref.set_index('id')['slug'].to_dict()"
   ]
  },
  {
   "cell_type": "code",
   "execution_count": 7,
   "metadata": {
    "collapsed": false
   },
   "outputs": [],
   "source": [
    "# Dict session_num -> set() of visited datasets (by API or through web)\n",
    "session_datasets = {}\n",
    "slug_not_found = []\n",
    "for key, value in visits_parsed_as_dict.items():\n",
    "    if len(value) > 0:\n",
    "        # (optional) : slug not found in dict datasets_ref\n",
    "        slug_not_found += set(tup[1] for tup in value if (tup[0] == \"slug_or_id\") & ((tup[1] not in datasets_slug_id) & (tup[1] not in datasets_id_slug.keys())))\n",
    "        # convert slug to id & build unique list\n",
    "        unique_list = set(datasets_slug_id.get(tup[1], tup[1]) for tup in value if tup[0] == \"slug_or_id\")\n",
    "        if len(unique_list) > 1 : # list of at least 2 different datasets\n",
    "            session_datasets[key] = unique_list\n",
    "    else:\n",
    "        pass # We don't care about empty session"
   ]
  },
  {
   "cell_type": "code",
   "execution_count": 8,
   "metadata": {
    "collapsed": false
   },
   "outputs": [
    {
     "data": {
      "text/plain": [
       "9128"
      ]
     },
     "execution_count": 8,
     "metadata": {},
     "output_type": "execute_result"
    }
   ],
   "source": [
    "len(slug_not_found)"
   ]
  },
  {
   "cell_type": "code",
   "execution_count": 9,
   "metadata": {
    "collapsed": false
   },
   "outputs": [
    {
     "data": {
      "text/plain": [
       "['contrats-de-milieu-guadeloupe-onm',\n",
       " 'bd-carthage-guadeloupe-cours-deau',\n",
       " 'taux-de-ch-mage-par-sexe-et-ge-dp',\n",
       " 'bilanagropluie-sept-2011-aout2012',\n",
       " 'prix-de-limmobilier-dans-lherault',\n",
       " '559ac361c751df7a03390bd5',\n",
       " 'bilans-riz-annee-de-campagne-dp',\n",
       " 'ch-mage-par-sexe-et-ge-1-000-dp',\n",
       " '95ddt20130016-pprmt-epiais-rhus',\n",
       " 'decoupage-des-departements-metropolitains-issu-d-openstreetmap']"
      ]
     },
     "execution_count": 9,
     "metadata": {},
     "output_type": "execute_result"
    }
   ],
   "source": [
    "slug_not_found[:10]"
   ]
  },
  {
   "cell_type": "code",
   "execution_count": 10,
   "metadata": {
    "collapsed": false,
    "scrolled": true
   },
   "outputs": [
    {
     "data": {
      "text/plain": [
       "'key not found :('"
      ]
     },
     "execution_count": 10,
     "metadata": {},
     "output_type": "execute_result"
    }
   ],
   "source": [
    "datasets_slug_id.get('contrats-de-milieu-guadeloupe-onm', 'key not found :(')"
   ]
  },
  {
   "cell_type": "markdown",
   "metadata": {},
   "source": [
    "When looking inside session_datasets, we observe that ~9K slug were not found in the dict `datasets_slug_id`.\n",
    "\n",
    "They are stored in `slug_not_found` so someone can have a look.\n",
    "\n",
    "Some of them are definitely working links, some other are 404's.\n",
    "\n",
    "\n",
    "**We ignore them for now, but it could be interesting to have a closer look into them**"
   ]
  },
  {
   "cell_type": "code",
   "execution_count": 11,
   "metadata": {
    "collapsed": false
   },
   "outputs": [
    {
     "data": {
      "text/plain": [
       "30305"
      ]
     },
     "execution_count": 11,
     "metadata": {},
     "output_type": "execute_result"
    }
   ],
   "source": [
    "len(session_datasets)"
   ]
  },
  {
   "cell_type": "markdown",
   "metadata": {},
   "source": [
    "### Now that we have a dict of set of datasets, let's count how many pairwise datasets appears together.\n",
    "\n",
    "For example"
   ]
  },
  {
   "cell_type": "code",
   "execution_count": 12,
   "metadata": {
    "collapsed": false
   },
   "outputs": [
    {
     "name": "stdout",
     "output_type": "stream",
     "text": [
      "L1=  Counter({('a', 'b'): 1, ('a', 'c'): 1, ('a', 'd'): 1, ('b', 'c'): 1, ('b', 'd'): 1, ('c', 'd'): 1})\n",
      "Somme= Counter({('a', 'b'): 2, ('a', 'c'): 2, ('b', 'c'): 2, ('a', 'd'): 1, ('b', 'd'): 1, ('c', 'd'): 1})\n"
     ]
    }
   ],
   "source": [
    "# Two lists\n",
    "L1 = ['a', 'b', 'c', 'd'] \n",
    "L2 =  ['b', 'a', 'c'] \n",
    "# We want : (a, b): 2 (a, c): 2 (b, c): 2, (b, d): 1 (c, d):1\n",
    "\n",
    "# Compute combination (we need to sort beforehand !)\n",
    "L1_comb = list(itertools.combinations(np.sort(L1), 2)) # (ab) (ac) (ad) (bc) (bd) (cd)\n",
    "L2_comb = list(itertools.combinations(np.sort(L2), 2)) # (ba) (bc) (ac)\n",
    "\n",
    "# Counter tuple\n",
    "c1 = Counter(L1_comb)\n",
    "print('L1=  %s' % c1)\n",
    "c2 = Counter(L2_comb)\n",
    "print('Somme= %s' % (c1 + c2))"
   ]
  },
  {
   "cell_type": "code",
   "execution_count": 13,
   "metadata": {
    "collapsed": false
   },
   "outputs": [
    {
     "name": "stdout",
     "output_type": "stream",
     "text": [
      "30305/30305\n"
     ]
    }
   ],
   "source": [
    "# Could be optimize. Caution : ~10min.\n",
    "pairwise_count = Counter()\n",
    "c = 0\n",
    "for key, val in session_datasets.items():\n",
    "    val_as_list = np.sort(list(val))\n",
    "    val_combinations = list(itertools.combinations(val_as_list, 2))\n",
    "    pairwise_count += Counter(val_combinations)\n",
    "    c += 1\n",
    "    clear_output(wait=True)\n",
    "    print('%s/%s' % (c, len(session_datasets.items())))"
   ]
  },
  {
   "cell_type": "code",
   "execution_count": 14,
   "metadata": {
    "collapsed": false
   },
   "outputs": [
    {
     "data": {
      "text/plain": [
       "[(('58e5924b88ee3802ca255566', '59b0020ec751df07d5f13bcf'), 1310),\n",
       " (('536991c5a3a729239d203d4b', '545b55e1c751df52de9b6045'), 421),\n",
       " (('53ca2be2a3a7294a1ddd7847', '58e53811c751df03df38f42d'), 350),\n",
       " (('545b55e1c751df52de9b6045', '5809e241c751df2646c562c5'), 321),\n",
       " (('5369995ba3a729239d205221', '545b55e1c751df52de9b6045'), 280)]"
      ]
     },
     "execution_count": 14,
     "metadata": {},
     "output_type": "execute_result"
    }
   ],
   "source": [
    "pairwise_count.most_common(5)"
   ]
  },
  {
   "cell_type": "code",
   "execution_count": 15,
   "metadata": {
    "collapsed": false,
    "scrolled": false
   },
   "outputs": [
    {
     "data": {
      "text/html": [
       "<div>\n",
       "<style>\n",
       "    .dataframe thead tr:only-child th {\n",
       "        text-align: right;\n",
       "    }\n",
       "\n",
       "    .dataframe thead th {\n",
       "        text-align: left;\n",
       "    }\n",
       "\n",
       "    .dataframe tbody tr th {\n",
       "        vertical-align: top;\n",
       "    }\n",
       "</style>\n",
       "<table border=\"1\" class=\"dataframe\">\n",
       "  <thead>\n",
       "    <tr style=\"text-align: right;\">\n",
       "      <th></th>\n",
       "      <th>paired_datasets</th>\n",
       "      <th>co_occurence</th>\n",
       "    </tr>\n",
       "  </thead>\n",
       "  <tbody>\n",
       "    <tr>\n",
       "      <th>5410</th>\n",
       "      <td>(58e5924b88ee3802ca255566, 59b0020ec751df07d5f...</td>\n",
       "      <td>1310</td>\n",
       "    </tr>\n",
       "    <tr>\n",
       "      <th>18746</th>\n",
       "      <td>(536991c5a3a729239d203d4b, 545b55e1c751df52de9...</td>\n",
       "      <td>421</td>\n",
       "    </tr>\n",
       "    <tr>\n",
       "      <th>18667</th>\n",
       "      <td>(53ca2be2a3a7294a1ddd7847, 58e53811c751df03df3...</td>\n",
       "      <td>350</td>\n",
       "    </tr>\n",
       "    <tr>\n",
       "      <th>21902</th>\n",
       "      <td>(545b55e1c751df52de9b6045, 5809e241c751df2646c...</td>\n",
       "      <td>321</td>\n",
       "    </tr>\n",
       "    <tr>\n",
       "      <th>23620</th>\n",
       "      <td>(5369995ba3a729239d205221, 545b55e1c751df52de9...</td>\n",
       "      <td>280</td>\n",
       "    </tr>\n",
       "  </tbody>\n",
       "</table>\n",
       "</div>"
      ],
      "text/plain": [
       "                                         paired_datasets  co_occurence\n",
       "5410   (58e5924b88ee3802ca255566, 59b0020ec751df07d5f...          1310\n",
       "18746  (536991c5a3a729239d203d4b, 545b55e1c751df52de9...           421\n",
       "18667  (53ca2be2a3a7294a1ddd7847, 58e53811c751df03df3...           350\n",
       "21902  (545b55e1c751df52de9b6045, 5809e241c751df2646c...           321\n",
       "23620  (5369995ba3a729239d205221, 545b55e1c751df52de9...           280"
      ]
     },
     "execution_count": 15,
     "metadata": {},
     "output_type": "execute_result"
    }
   ],
   "source": [
    "paired_df = pd.DataFrame(list(pairwise_count.items()), columns=['paired_datasets', 'co_occurence'])\n",
    "paired_df.sort_values('co_occurence', ascending=False, inplace=True)\n",
    "paired_df.head()"
   ]
  },
  {
   "cell_type": "markdown",
   "metadata": {},
   "source": [
    "### Now it could be interesting to have : for each datasets, all _twins_ ordered by co-occurence"
   ]
  },
  {
   "cell_type": "code",
   "execution_count": 16,
   "metadata": {
    "collapsed": false
   },
   "outputs": [],
   "source": [
    "paired_df[['dataset_1', 'dataset_2']] = paired_df.paired_datasets.apply(pd.Series)\n",
    "paired_df = paired_df.loc[:, ['dataset_1', 'dataset_2','co_occurence']]\n",
    "# Only co-occurence > 1\n",
    "paired_df = paired_df.loc[paired_df.co_occurence > 1]"
   ]
  },
  {
   "cell_type": "code",
   "execution_count": 17,
   "metadata": {
    "collapsed": false
   },
   "outputs": [
    {
     "data": {
      "text/html": [
       "<div>\n",
       "<style>\n",
       "    .dataframe thead tr:only-child th {\n",
       "        text-align: right;\n",
       "    }\n",
       "\n",
       "    .dataframe thead th {\n",
       "        text-align: left;\n",
       "    }\n",
       "\n",
       "    .dataframe tbody tr th {\n",
       "        vertical-align: top;\n",
       "    }\n",
       "</style>\n",
       "<table border=\"1\" class=\"dataframe\">\n",
       "  <thead>\n",
       "    <tr style=\"text-align: right;\">\n",
       "      <th></th>\n",
       "      <th>dataset_1</th>\n",
       "      <th>dataset_2</th>\n",
       "      <th>co_occurence</th>\n",
       "    </tr>\n",
       "  </thead>\n",
       "  <tbody>\n",
       "    <tr>\n",
       "      <th>5410</th>\n",
       "      <td>58e5924b88ee3802ca255566</td>\n",
       "      <td>59b0020ec751df07d5f13bcf</td>\n",
       "      <td>1310</td>\n",
       "    </tr>\n",
       "    <tr>\n",
       "      <th>18746</th>\n",
       "      <td>536991c5a3a729239d203d4b</td>\n",
       "      <td>545b55e1c751df52de9b6045</td>\n",
       "      <td>421</td>\n",
       "    </tr>\n",
       "  </tbody>\n",
       "</table>\n",
       "</div>"
      ],
      "text/plain": [
       "                      dataset_1                 dataset_2  co_occurence\n",
       "5410   58e5924b88ee3802ca255566  59b0020ec751df07d5f13bcf          1310\n",
       "18746  536991c5a3a729239d203d4b  545b55e1c751df52de9b6045           421"
      ]
     },
     "execution_count": 17,
     "metadata": {},
     "output_type": "execute_result"
    }
   ],
   "source": [
    "paired_df.head(2)"
   ]
  },
  {
   "cell_type": "code",
   "execution_count": 18,
   "metadata": {
    "collapsed": false,
    "scrolled": true
   },
   "outputs": [
    {
     "data": {
      "text/html": [
       "<div>\n",
       "<style>\n",
       "    .dataframe thead tr:only-child th {\n",
       "        text-align: right;\n",
       "    }\n",
       "\n",
       "    .dataframe thead th {\n",
       "        text-align: left;\n",
       "    }\n",
       "\n",
       "    .dataframe tbody tr th {\n",
       "        vertical-align: top;\n",
       "    }\n",
       "</style>\n",
       "<table border=\"1\" class=\"dataframe\">\n",
       "  <thead>\n",
       "    <tr style=\"text-align: right;\">\n",
       "      <th></th>\n",
       "      <th>dataset_1</th>\n",
       "      <th>dataset_2</th>\n",
       "      <th>co_occurence</th>\n",
       "      <th>all_co_occurence</th>\n",
       "    </tr>\n",
       "  </thead>\n",
       "  <tbody>\n",
       "    <tr>\n",
       "      <th>0</th>\n",
       "      <td>53698e0aa3a729239d203372</td>\n",
       "      <td>[53699842a3a729239d204eec, 543bd36688ee3805983...</td>\n",
       "      <td>[2, 2, 2, 2, 2]</td>\n",
       "      <td>((53699842a3a729239d204eec, 2), (543bd36688ee3...</td>\n",
       "    </tr>\n",
       "    <tr>\n",
       "      <th>1</th>\n",
       "      <td>53698e0ea3a729239d20337c</td>\n",
       "      <td>[591af43d88ee3826b379093a, 566e964188ee3875bea...</td>\n",
       "      <td>[2, 2, 2, 2, 2, 2, 2, 2, 2, 2, 2, 2, 2, 2, 2, ...</td>\n",
       "      <td>((591af43d88ee3826b379093a, 2), (566e964188ee3...</td>\n",
       "    </tr>\n",
       "  </tbody>\n",
       "</table>\n",
       "</div>"
      ],
      "text/plain": [
       "                  dataset_1  \\\n",
       "0  53698e0aa3a729239d203372   \n",
       "1  53698e0ea3a729239d20337c   \n",
       "\n",
       "                                           dataset_2  \\\n",
       "0  [53699842a3a729239d204eec, 543bd36688ee3805983...   \n",
       "1  [591af43d88ee3826b379093a, 566e964188ee3875bea...   \n",
       "\n",
       "                                        co_occurence  \\\n",
       "0                                    [2, 2, 2, 2, 2]   \n",
       "1  [2, 2, 2, 2, 2, 2, 2, 2, 2, 2, 2, 2, 2, 2, 2, ...   \n",
       "\n",
       "                                    all_co_occurence  \n",
       "0  ((53699842a3a729239d204eec, 2), (543bd36688ee3...  \n",
       "1  ((591af43d88ee3826b379093a, 2), (566e964188ee3...  "
      ]
     },
     "execution_count": 18,
     "metadata": {},
     "output_type": "execute_result"
    }
   ],
   "source": [
    "# Let's build a dict : dataset_A -> (dataset_E : 200), (dataset_B : 130), ...\n",
    "\n",
    "paired_df_grouped = paired_df.groupby('dataset_1')['dataset_2', 'co_occurence'].agg(lambda x: list(x))\n",
    "paired_df_grouped.reset_index(inplace=True)\n",
    "paired_df_grouped['all_co_occurence'] = paired_df_grouped.apply(lambda x: tuple(zip(x.dataset_2, x.co_occurence)), axis=1)\n",
    "paired_df_grouped.head(2)"
   ]
  },
  {
   "cell_type": "markdown",
   "metadata": {},
   "source": [
    "### Some datasets are linked with tons of others, let's select only the one that distinguish themselves from others.\n",
    "\n",
    "\n",
    "To do this will proceed in 2 steps : \n",
    "\n",
    "- Select only top10 of co_occurrence : since we want to compute some recommendation on datagouv, we don't need more than 10 linked datasets (less would be nice).\n",
    "\n",
    "- Apply rule of thumb to select only the best ones (see method below)"
   ]
  },
  {
   "cell_type": "code",
   "execution_count": 19,
   "metadata": {
    "collapsed": false
   },
   "outputs": [
    {
     "data": {
      "text/plain": [
       "[100, 80]"
      ]
     },
     "execution_count": 19,
     "metadata": {},
     "output_type": "execute_result"
    }
   ],
   "source": [
    "def rule_of_thumb(mylist): \n",
    "    '''Compute rule of thumb on a list\n",
    "    eg: [100, 80, 20, 14, 12, 11, 1]  => [100, 80] (return the index where to cut)\n",
    "    '''\n",
    "    if len(mylist) > 1:\n",
    "        # list of drops\n",
    "        difflist = [mylist[el] - mylist[1:][el] for el in range(0, len(mylist) - 1)]\n",
    "        max_drop = max(difflist)\n",
    "\n",
    "        # index of maximum(s)\n",
    "        max_drop_index = max([i for i, j in enumerate(difflist) if j == max(difflist)])\n",
    "\n",
    "        return max_drop_index + 1\n",
    "\n",
    "    return mylist[0]\n",
    "\n",
    "mylist = [100, 80, 20, 14, 12, 11, 1]\n",
    "mylist[:rule_of_thumb(mylist)]"
   ]
  },
  {
   "cell_type": "code",
   "execution_count": 20,
   "metadata": {
    "collapsed": false
   },
   "outputs": [],
   "source": [
    "# Sort by co_occurence (max co_occurences in first row of df)\n",
    "paired_df_grouped.sort_values('co_occurence', ascending=False, inplace=True)\n",
    "paired_df_grouped.loc[:, ['dataset_1', 'all_co_occurence']].head(20)\n",
    "\n",
    "# Keep only top10 co-occurence\n",
    "paired_df_grouped['top10'] = paired_df_grouped.co_occurence.apply(lambda x: x[:10])\n"
   ]
  },
  {
   "cell_type": "code",
   "execution_count": 21,
   "metadata": {
    "collapsed": false,
    "scrolled": false
   },
   "outputs": [],
   "source": [
    "# Apply rule of thumbs to top10 \n",
    "paired_df_grouped['best_co_occurence'] = paired_df_grouped.apply(lambda x: x['all_co_occurence'][:rule_of_thumb(x['top10'])], axis=1)\n",
    "del paired_df_grouped['top10']\n"
   ]
  },
  {
   "cell_type": "markdown",
   "metadata": {},
   "source": [
    "25% of datasets are linked with only 1 other. That's not much but that's enough for now.\n",
    "\n",
    "We could definitely find a lighter rule if we want to recommend at least 3 datasets."
   ]
  },
  {
   "cell_type": "code",
   "execution_count": 22,
   "metadata": {
    "collapsed": false,
    "scrolled": true
   },
   "outputs": [
    {
     "data": {
      "text/html": [
       "<div>\n",
       "<style>\n",
       "    .dataframe thead tr:only-child th {\n",
       "        text-align: right;\n",
       "    }\n",
       "\n",
       "    .dataframe thead th {\n",
       "        text-align: left;\n",
       "    }\n",
       "\n",
       "    .dataframe tbody tr th {\n",
       "        vertical-align: top;\n",
       "    }\n",
       "</style>\n",
       "<table border=\"1\" class=\"dataframe\">\n",
       "  <thead>\n",
       "    <tr style=\"text-align: right;\">\n",
       "      <th></th>\n",
       "      <th>dataset_1</th>\n",
       "      <th>all_co_occurence</th>\n",
       "      <th>best_co_occurence</th>\n",
       "      <th>n_best_co_occurence</th>\n",
       "    </tr>\n",
       "  </thead>\n",
       "  <tbody>\n",
       "    <tr>\n",
       "      <th>5143</th>\n",
       "      <td>58e5924b88ee3802ca255566</td>\n",
       "      <td>((59b0020ec751df07d5f13bcf, 1310), (59d2c07888ee3814dbdaf501, 43), (59d4602da3a7291992b1ebc1, 40), (5a1dd4e5c751df02b116a0d6, 27), (591564e4c751df0d4ed32b0d, 15), (5a1295cdc751df7acd724663, 10), (new, 8), (5a05df4388ee3848c27a2ff9, 7), (5a0effeac751df5832ded865, 6), (59b774aaa3a729499ae72a5f, 6), (599d0f28a3a729783d0f6ce2, 5), (5a1ce3eaa3a72925df1cfa49, 5), (5a2e6517c751df0874ef6bc7, 4), (xxx, 4), (59fc6ab1c751df63968ec72e, 4), (5a1572c9c751df784fb348fd, 4), (5a0f119cc751df77123e1107, 4), (5...</td>\n",
       "      <td>((59b0020ec751df07d5f13bcf, 1310),)</td>\n",
       "      <td>1</td>\n",
       "    </tr>\n",
       "    <tr>\n",
       "      <th>317</th>\n",
       "      <td>536991c5a3a729239d203d4b</td>\n",
       "      <td>((545b55e1c751df52de9b6045, 421), (59591ca4a3a7291dcf9c8150, 225), (5809e241c751df2646c562c5, 37), (5369995ba3a729239d205221, 37), (548ab97ec751df0f384120e7, 33), (58c984b088ee386cdb1261f3, 31), (5862206588ee38254d3f4e5e, 30), (53699233a3a729239d203e69, 28), (53699d0ea3a729239d205b2e, 27), (536991c5a3a729239d203d51, 22), (53699cfba3a729239d205af9, 20), (553f31fec751df67c0e96a3b, 18), (5369997ea3a729239d205279, 18), (5878ee30a3a7291484cac7d4, 16), (536995ada3a729239d2047b3, 15), (5808de39c751...</td>\n",
       "      <td>((545b55e1c751df52de9b6045, 421),)</td>\n",
       "      <td>1</td>\n",
       "    </tr>\n",
       "    <tr>\n",
       "      <th>1581</th>\n",
       "      <td>53ca2be2a3a7294a1ddd7847</td>\n",
       "      <td>((58e53811c751df03df38f42d, 350), (53cdfd2ba3a7292987895b2b, 34), (5862206588ee38254d3f4e5e, 25), (53ca2e62a3a7294a1ddd784b, 11), (5530fbacc751df5ff937dddb, 9), (59591f21a3a7291dcf9c8194, 7), (594d2ca488ee38192969686d, 5), (53d04837a3a72970fff91f17, 5), (5a0b0be188ee3871db07ce4e, 5), (59591ca4a3a7291dcf9c8150, 4), (559395f1c751df0f51a453b9, 4), (jorf-les-donnees-de-l-edition-lois-et-decrets-du-journal-officiel, 4), (555defefc751df4b6ec98e0f, 3), (55f134e188ee385f7fa46ec1, 3), (587ccbcd88ee38...</td>\n",
       "      <td>((58e53811c751df03df38f42d, 350),)</td>\n",
       "      <td>1</td>\n",
       "    </tr>\n",
       "    <tr>\n",
       "      <th>1752</th>\n",
       "      <td>545b55e1c751df52de9b6045</td>\n",
       "      <td>((5809e241c751df2646c562c5, 321), (59591ca4a3a7291dcf9c8150, 215), (5862206588ee38254d3f4e5e, 193), (5530fbacc751df5ff937dddb, 160), (548ab97ec751df0f384120e7, 81), (586a824588ee3835ec3f4e61, 75), (59b0020ec751df07d5f13bcf, 71), (5808de39c751df1e0679df72, 52), (58c984b088ee386cdb1261f3, 43), (596ff4b9b595082d11c49694, 42), (58e5924b88ee3802ca255566, 41), (54de1e8fc751df388646738b, 38), (54903bfac751df244d6accbc, 35), (57343feb88ee3823b0d1b934, 32), (56d44af588ee3867bcfa79cf, 30), (58dcc236c7...</td>\n",
       "      <td>((5809e241c751df2646c562c5, 321),)</td>\n",
       "      <td>1</td>\n",
       "    </tr>\n",
       "    <tr>\n",
       "      <th>997</th>\n",
       "      <td>5369995ba3a729239d205221</td>\n",
       "      <td>((545b55e1c751df52de9b6045, 280), (5878ee5fa3a7291485cac7ed, 61), (53699d0ea3a729239d205b2e, 33), (5862206588ee38254d3f4e5e, 32), (5809e241c751df2646c562c5, 32), (548ab97ec751df0f384120e7, 30), (5726ef67c751df48e1fcca0d, 18), (5530fbacc751df5ff937dddb, 16), (56ebf05fc751df7756cc7140, 15), (5661a04088ee3863e240355f, 15), (58c984b088ee386cdb1261f3, 13), (53f6ff21a3a7290b9a513198, 12), (53f31ab2a3a72908bd9dfc09, 10), (559c02e388ee38188e764f61, 10), (553f31fec751df67c0e96a3b, 10), (53699fe4a3a72...</td>\n",
       "      <td>((545b55e1c751df52de9b6045, 280),)</td>\n",
       "      <td>1</td>\n",
       "    </tr>\n",
       "    <tr>\n",
       "      <th>1455</th>\n",
       "      <td>536c47bfa3a72933d8d1b3a6</td>\n",
       "      <td>((5890bf73a3a72974c1f0dc84, 274), (5862206588ee38254d3f4e5e, 29), (59b0020ec751df07d5f13bcf, 18), (536c47d9a3a72933d8d1b3b2, 16), (5890bf74a3a72974c1f0dc86, 16), (545b55e1c751df52de9b6045, 16), (53ba4c07a3a729219b7bead3, 14), (5530fbacc751df5ff937dddb, 14), (54b4e584c751df56c0ae2624, 13), (560d0c4688ee38743b83905a, 12), (586a824588ee3835ec3f4e61, 11), (562f498ac751df31f1dcc3f1, 11), (58e5924b88ee3802ca255566, 9), (548acaf2c751df1eac4120e7, 9), (567bba4dc751df4361c664bc, 8), (5448d3e0c751df01...</td>\n",
       "      <td>((5890bf73a3a72974c1f0dc84, 274),)</td>\n",
       "      <td>1</td>\n",
       "    </tr>\n",
       "    <tr>\n",
       "      <th>4393</th>\n",
       "      <td>5862206588ee38254d3f4e5e</td>\n",
       "      <td>((58e53811c751df03df38f42d, 250), (59b0020ec751df07d5f13bcf, 195), (58e5924b88ee3802ca255566, 125), (58b97cbea3a7295fa30a2b44, 123), (599d0f28a3a729783d0f6ce2, 107), (586a824588ee3835ec3f4e61, 92), (58dded5688ee385381896373, 84), (58c984b088ee386cdb1261f3, 70), (5a1dd4e5c751df02b116a0d6, 65), (5889d042a3a72974cbf0d5b8, 58), (58da857388ee384902e505f5, 53), (5a0effeac751df5832ded865, 48), (589af3c9c751df787cae0a65, 45), (5972092a88ee3867fb06c7c8, 45), (59df6cb7c751df4bd38d228e, 44), (58e584268...</td>\n",
       "      <td>((58e53811c751df03df38f42d, 250), (59b0020ec751df07d5f13bcf, 195))</td>\n",
       "      <td>2</td>\n",
       "    </tr>\n",
       "    <tr>\n",
       "      <th>309</th>\n",
       "      <td>536991b0a3a729239d203d13</td>\n",
       "      <td>((53699233a3a729239d203e69, 247), (5726ef67c751df48e1fcca0d, 203), (536991b2a3a729239d203d1a, 161), (536998c8a3a729239d205051, 48), (559c0341c751df4853390be6, 46), (55717121c751df588de5726c, 33), (5369995ba3a729239d205221, 32), (53f6ff21a3a7290b9a513198, 31), (539a6f33a3a7293bc2728390, 30), (53699333a3a729239d204119, 29), (536991b1a3a729239d203d17, 23), (536995f5a3a729239d20487f, 21), (5862206588ee38254d3f4e5e, 19), (545b55e1c751df52de9b6045, 19), (536995b0a3a729239d2047be, 18), (53699d0ea3a...</td>\n",
       "      <td>((53699233a3a729239d203e69, 247), (5726ef67c751df48e1fcca0d, 203), (536991b2a3a729239d203d1a, 161))</td>\n",
       "      <td>3</td>\n",
       "    </tr>\n",
       "    <tr>\n",
       "      <th>589</th>\n",
       "      <td>53699576a3a729239d20471b</td>\n",
       "      <td>((5862206588ee38254d3f4e5e, 225), (53699577a3a729239d20471e, 158), (58e53811c751df03df38f42d, 32), (55b0f44088ee3838d13ca28a, 27), (55682fc4c751df5acfe57269, 27), (58dded5688ee385381896373, 27), (542bf79488ee386c3ecb3922, 26), (5387f347a3a7291cb36754a1, 26), (542c011d88ee386c3fcb3923, 26), (542c02e488ee386c40cb3922, 26), (542c022488ee386c3ecb3923, 26), (59b0020ec751df07d5f13bcf, 24), (582c8978c751df788ec0bb7e, 24), (58b97cbea3a7295fa30a2b44, 24), (5617ad4dc751df6211cdbb49, 23), (599d0f28a3a7...</td>\n",
       "      <td>((5862206588ee38254d3f4e5e, 225), (53699577a3a729239d20471e, 158))</td>\n",
       "      <td>2</td>\n",
       "    </tr>\n",
       "    <tr>\n",
       "      <th>348</th>\n",
       "      <td>53699233a3a729239d203e69</td>\n",
       "      <td>((559c0341c751df4853390be6, 213), (536998c8a3a729239d205051, 198), (545b55e1c751df52de9b6045, 163), (5726ef67c751df48e1fcca0d, 142), (5862206588ee38254d3f4e5e, 132), (59b0020ec751df07d5f13bcf, 113), (53699d0ea3a729239d205b2e, 110), (58e5924b88ee3802ca255566, 85), (5867a84dc751df68ca2b7154, 83), (54f63501c751df466f882844, 82), (53699333a3a729239d204119, 78), (5530fbacc751df5ff937dddb, 74), (548ab97ec751df0f384120e7, 73), (5809e241c751df2646c562c5, 67), (538071a9a3a7297e4d35d6ce, 66), (5369995...</td>\n",
       "      <td>((559c0341c751df4853390be6, 213), (536998c8a3a729239d205051, 198))</td>\n",
       "      <td>2</td>\n",
       "    </tr>\n",
       "  </tbody>\n",
       "</table>\n",
       "</div>"
      ],
      "text/plain": [
       "                     dataset_1  \\\n",
       "5143  58e5924b88ee3802ca255566   \n",
       "317   536991c5a3a729239d203d4b   \n",
       "1581  53ca2be2a3a7294a1ddd7847   \n",
       "1752  545b55e1c751df52de9b6045   \n",
       "997   5369995ba3a729239d205221   \n",
       "1455  536c47bfa3a72933d8d1b3a6   \n",
       "4393  5862206588ee38254d3f4e5e   \n",
       "309   536991b0a3a729239d203d13   \n",
       "589   53699576a3a729239d20471b   \n",
       "348   53699233a3a729239d203e69   \n",
       "\n",
       "                                                                                                                                                                                                                                                                                                                                                                                                                                                                                                         all_co_occurence  \\\n",
       "5143  ((59b0020ec751df07d5f13bcf, 1310), (59d2c07888ee3814dbdaf501, 43), (59d4602da3a7291992b1ebc1, 40), (5a1dd4e5c751df02b116a0d6, 27), (591564e4c751df0d4ed32b0d, 15), (5a1295cdc751df7acd724663, 10), (new, 8), (5a05df4388ee3848c27a2ff9, 7), (5a0effeac751df5832ded865, 6), (59b774aaa3a729499ae72a5f, 6), (599d0f28a3a729783d0f6ce2, 5), (5a1ce3eaa3a72925df1cfa49, 5), (5a2e6517c751df0874ef6bc7, 4), (xxx, 4), (59fc6ab1c751df63968ec72e, 4), (5a1572c9c751df784fb348fd, 4), (5a0f119cc751df77123e1107, 4), (5...   \n",
       "317   ((545b55e1c751df52de9b6045, 421), (59591ca4a3a7291dcf9c8150, 225), (5809e241c751df2646c562c5, 37), (5369995ba3a729239d205221, 37), (548ab97ec751df0f384120e7, 33), (58c984b088ee386cdb1261f3, 31), (5862206588ee38254d3f4e5e, 30), (53699233a3a729239d203e69, 28), (53699d0ea3a729239d205b2e, 27), (536991c5a3a729239d203d51, 22), (53699cfba3a729239d205af9, 20), (553f31fec751df67c0e96a3b, 18), (5369997ea3a729239d205279, 18), (5878ee30a3a7291484cac7d4, 16), (536995ada3a729239d2047b3, 15), (5808de39c751...   \n",
       "1581  ((58e53811c751df03df38f42d, 350), (53cdfd2ba3a7292987895b2b, 34), (5862206588ee38254d3f4e5e, 25), (53ca2e62a3a7294a1ddd784b, 11), (5530fbacc751df5ff937dddb, 9), (59591f21a3a7291dcf9c8194, 7), (594d2ca488ee38192969686d, 5), (53d04837a3a72970fff91f17, 5), (5a0b0be188ee3871db07ce4e, 5), (59591ca4a3a7291dcf9c8150, 4), (559395f1c751df0f51a453b9, 4), (jorf-les-donnees-de-l-edition-lois-et-decrets-du-journal-officiel, 4), (555defefc751df4b6ec98e0f, 3), (55f134e188ee385f7fa46ec1, 3), (587ccbcd88ee38...   \n",
       "1752  ((5809e241c751df2646c562c5, 321), (59591ca4a3a7291dcf9c8150, 215), (5862206588ee38254d3f4e5e, 193), (5530fbacc751df5ff937dddb, 160), (548ab97ec751df0f384120e7, 81), (586a824588ee3835ec3f4e61, 75), (59b0020ec751df07d5f13bcf, 71), (5808de39c751df1e0679df72, 52), (58c984b088ee386cdb1261f3, 43), (596ff4b9b595082d11c49694, 42), (58e5924b88ee3802ca255566, 41), (54de1e8fc751df388646738b, 38), (54903bfac751df244d6accbc, 35), (57343feb88ee3823b0d1b934, 32), (56d44af588ee3867bcfa79cf, 30), (58dcc236c7...   \n",
       "997   ((545b55e1c751df52de9b6045, 280), (5878ee5fa3a7291485cac7ed, 61), (53699d0ea3a729239d205b2e, 33), (5862206588ee38254d3f4e5e, 32), (5809e241c751df2646c562c5, 32), (548ab97ec751df0f384120e7, 30), (5726ef67c751df48e1fcca0d, 18), (5530fbacc751df5ff937dddb, 16), (56ebf05fc751df7756cc7140, 15), (5661a04088ee3863e240355f, 15), (58c984b088ee386cdb1261f3, 13), (53f6ff21a3a7290b9a513198, 12), (53f31ab2a3a72908bd9dfc09, 10), (559c02e388ee38188e764f61, 10), (553f31fec751df67c0e96a3b, 10), (53699fe4a3a72...   \n",
       "1455  ((5890bf73a3a72974c1f0dc84, 274), (5862206588ee38254d3f4e5e, 29), (59b0020ec751df07d5f13bcf, 18), (536c47d9a3a72933d8d1b3b2, 16), (5890bf74a3a72974c1f0dc86, 16), (545b55e1c751df52de9b6045, 16), (53ba4c07a3a729219b7bead3, 14), (5530fbacc751df5ff937dddb, 14), (54b4e584c751df56c0ae2624, 13), (560d0c4688ee38743b83905a, 12), (586a824588ee3835ec3f4e61, 11), (562f498ac751df31f1dcc3f1, 11), (58e5924b88ee3802ca255566, 9), (548acaf2c751df1eac4120e7, 9), (567bba4dc751df4361c664bc, 8), (5448d3e0c751df01...   \n",
       "4393  ((58e53811c751df03df38f42d, 250), (59b0020ec751df07d5f13bcf, 195), (58e5924b88ee3802ca255566, 125), (58b97cbea3a7295fa30a2b44, 123), (599d0f28a3a729783d0f6ce2, 107), (586a824588ee3835ec3f4e61, 92), (58dded5688ee385381896373, 84), (58c984b088ee386cdb1261f3, 70), (5a1dd4e5c751df02b116a0d6, 65), (5889d042a3a72974cbf0d5b8, 58), (58da857388ee384902e505f5, 53), (5a0effeac751df5832ded865, 48), (589af3c9c751df787cae0a65, 45), (5972092a88ee3867fb06c7c8, 45), (59df6cb7c751df4bd38d228e, 44), (58e584268...   \n",
       "309   ((53699233a3a729239d203e69, 247), (5726ef67c751df48e1fcca0d, 203), (536991b2a3a729239d203d1a, 161), (536998c8a3a729239d205051, 48), (559c0341c751df4853390be6, 46), (55717121c751df588de5726c, 33), (5369995ba3a729239d205221, 32), (53f6ff21a3a7290b9a513198, 31), (539a6f33a3a7293bc2728390, 30), (53699333a3a729239d204119, 29), (536991b1a3a729239d203d17, 23), (536995f5a3a729239d20487f, 21), (5862206588ee38254d3f4e5e, 19), (545b55e1c751df52de9b6045, 19), (536995b0a3a729239d2047be, 18), (53699d0ea3a...   \n",
       "589   ((5862206588ee38254d3f4e5e, 225), (53699577a3a729239d20471e, 158), (58e53811c751df03df38f42d, 32), (55b0f44088ee3838d13ca28a, 27), (55682fc4c751df5acfe57269, 27), (58dded5688ee385381896373, 27), (542bf79488ee386c3ecb3922, 26), (5387f347a3a7291cb36754a1, 26), (542c011d88ee386c3fcb3923, 26), (542c02e488ee386c40cb3922, 26), (542c022488ee386c3ecb3923, 26), (59b0020ec751df07d5f13bcf, 24), (582c8978c751df788ec0bb7e, 24), (58b97cbea3a7295fa30a2b44, 24), (5617ad4dc751df6211cdbb49, 23), (599d0f28a3a7...   \n",
       "348   ((559c0341c751df4853390be6, 213), (536998c8a3a729239d205051, 198), (545b55e1c751df52de9b6045, 163), (5726ef67c751df48e1fcca0d, 142), (5862206588ee38254d3f4e5e, 132), (59b0020ec751df07d5f13bcf, 113), (53699d0ea3a729239d205b2e, 110), (58e5924b88ee3802ca255566, 85), (5867a84dc751df68ca2b7154, 83), (54f63501c751df466f882844, 82), (53699333a3a729239d204119, 78), (5530fbacc751df5ff937dddb, 74), (548ab97ec751df0f384120e7, 73), (5809e241c751df2646c562c5, 67), (538071a9a3a7297e4d35d6ce, 66), (5369995...   \n",
       "\n",
       "                                                                                        best_co_occurence  \\\n",
       "5143                                                                  ((59b0020ec751df07d5f13bcf, 1310),)   \n",
       "317                                                                    ((545b55e1c751df52de9b6045, 421),)   \n",
       "1581                                                                   ((58e53811c751df03df38f42d, 350),)   \n",
       "1752                                                                   ((5809e241c751df2646c562c5, 321),)   \n",
       "997                                                                    ((545b55e1c751df52de9b6045, 280),)   \n",
       "1455                                                                   ((5890bf73a3a72974c1f0dc84, 274),)   \n",
       "4393                                   ((58e53811c751df03df38f42d, 250), (59b0020ec751df07d5f13bcf, 195))   \n",
       "309   ((53699233a3a729239d203e69, 247), (5726ef67c751df48e1fcca0d, 203), (536991b2a3a729239d203d1a, 161))   \n",
       "589                                    ((5862206588ee38254d3f4e5e, 225), (53699577a3a729239d20471e, 158))   \n",
       "348                                    ((559c0341c751df4853390be6, 213), (536998c8a3a729239d205051, 198))   \n",
       "\n",
       "      n_best_co_occurence  \n",
       "5143                    1  \n",
       "317                     1  \n",
       "1581                    1  \n",
       "1752                    1  \n",
       "997                     1  \n",
       "1455                    1  \n",
       "4393                    2  \n",
       "309                     3  \n",
       "589                     2  \n",
       "348                     2  "
      ]
     },
     "execution_count": 22,
     "metadata": {},
     "output_type": "execute_result"
    }
   ],
   "source": [
    "pd.set_option('display.max_colwidth', 500)\n",
    "paired_df_grouped['n_best_co_occurence'] = paired_df_grouped.best_co_occurence.apply(lambda x: len(x))\n",
    "paired_df_grouped[['dataset_1', 'all_co_occurence', 'best_co_occurence', 'n_best_co_occurence']].head(10)"
   ]
  },
  {
   "cell_type": "code",
   "execution_count": 23,
   "metadata": {
    "collapsed": false
   },
   "outputs": [
    {
     "data": {
      "text/plain": [
       "<matplotlib.axes._subplots.AxesSubplot at 0x17211fba8>"
      ]
     },
     "execution_count": 23,
     "metadata": {},
     "output_type": "execute_result"
    },
    {
     "data": {
      "image/png": "[encoded data removed]",
      "text/plain": [
       "<matplotlib.figure.Figure at 0x172139668>"
      ]
     },
     "metadata": {},
     "output_type": "display_data"
    }
   ],
   "source": [
    "paired_df_grouped.n_best_co_occurence.hist(bins=20)"
   ]
  },
  {
   "cell_type": "code",
   "execution_count": 24,
   "metadata": {
    "collapsed": false
   },
   "outputs": [
    {
     "data": {
      "text/plain": [
       "count    6488.000000\n",
       "mean        3.351572\n",
       "std         3.024362\n",
       "min         1.000000\n",
       "25%         1.000000\n",
       "50%         2.000000\n",
       "75%         5.000000\n",
       "max         9.000000\n",
       "Name: n_best_co_occurence, dtype: float64"
      ]
     },
     "execution_count": 24,
     "metadata": {},
     "output_type": "execute_result"
    }
   ],
   "source": [
    "paired_df_grouped.n_best_co_occurence.describe()"
   ]
  },
  {
   "cell_type": "code",
   "execution_count": 25,
   "metadata": {
    "collapsed": false
   },
   "outputs": [],
   "source": [
    "pd.set_option('display.max_colwidth', 100)"
   ]
  },
  {
   "cell_type": "markdown",
   "metadata": {},
   "source": [
    "# Export"
   ]
  },
  {
   "cell_type": "code",
   "execution_count": 26,
   "metadata": {
    "collapsed": false,
    "scrolled": true
   },
   "outputs": [],
   "source": [
    "# Dict of all co_occurences\n",
    "datasets_co_occurence = paired_df_grouped[['dataset_1', 'best_co_occurence']].set_index('dataset_1').to_dict()['best_co_occurence']"
   ]
  },
  {
   "cell_type": "markdown",
   "metadata": {},
   "source": [
    "We would like to show only co_occurence of top50 datasets in the following format :\n",
    "\n",
    "`{dataset -> [(co_dataset, n_co_occurence), (..., ...)]}`"
   ]
  },
  {
   "cell_type": "code",
   "execution_count": 27,
   "metadata": {
    "collapsed": false
   },
   "outputs": [],
   "source": [
    "# Import top50 datasets\n",
    "top50 = pd.read_csv('./top50visited.csv', sep=';')\n",
    "# Remove URL form top50 (optional)\n",
    "top50['dataset_slug'] = [x.split('www.data.gouv.fr/datasets/')[1] for x in top50.dataset]\n",
    "\n",
    "top50['dataset_id'] = top50.dataset_slug.map(datasets_slug_id)\n",
    "\n",
    "# Keep only top50 datasets in dict\n",
    "co_occurence_on_top50 = {ds: [el for el in datasets_co_occurence[ds]] for ds in top50.dataset_id.tolist()}"
   ]
  },
  {
   "cell_type": "markdown",
   "metadata": {},
   "source": [
    "### Wanna see slug instead of idea ?"
   ]
  },
  {
   "cell_type": "code",
   "execution_count": 28,
   "metadata": {
    "collapsed": false,
    "scrolled": true
   },
   "outputs": [],
   "source": [
    "co_occurence_on_top50_slug = {datasets_id_slug.get(k): [(datasets_id_slug.get(el[0]), el[1]) for el in v] for k, v in co_occurence_on_top50.items()}"
   ]
  },
  {
   "cell_type": "code",
   "execution_count": 29,
   "metadata": {
    "collapsed": false
   },
   "outputs": [
    {
     "data": {
      "text/plain": [
       "{'adresse-et-geolocalisation-des-etablissements-denseignement-du-premier-et-second-degres': [('base-sirene-des-entreprises-et-de-leurs-etablissements-siren-siret',\n",
       "   146)],\n",
       " 'agreste-cartographie-des-donnees-du-recensement-agricole': [('base-sirene-des-entreprises-et-de-leurs-etablissements-siren-siret',\n",
       "   50)],\n",
       " 'agriculture-biologique-2008-2011-nombre-d-operateurs-engages-en-agriculture-biologique-30378896': [('agriculture-biologique-2008-2011-productions-animales-bio-tetes-par-departement-30378956',\n",
       "   128)],\n",
       " 'associations': [('repertoire-national-des-associations-rna', 350)],\n",
       " 'associations-reconnues-d-utilite-publique': [('repertoire-national-des-associations-rna',\n",
       "   192)],\n",
       " 'ban-base-adresse-nationale': [('base-sirene-des-entreprises-et-de-leurs-etablissements-siren-siret',\n",
       "   179)],\n",
       " 'base-d-adresses-nationale-ouverte-bano': [('ban-base-adresse-nationale',\n",
       "   89)],\n",
       " 'base-de-donnees-accidents-corporels-de-la-circulation': [('base-de-donnees-des-accidents-corporels-de-la-circulation',\n",
       "   75)],\n",
       " 'base-de-donnees-publique-des-medicaments-base-officielle': [('transparence-sante-1',\n",
       "   33),\n",
       "  ('open-medic-base-complete-sur-les-depenses-de-medicaments-interregimes',\n",
       "   31),\n",
       "  ('cartographie-des-bases-de-donnees-publiques-en-sante', 31),\n",
       "  ('open-damir-base-complete-sur-les-depenses-dassurance-maladie-inter-regimes',\n",
       "   24)],\n",
       " 'base-officielle-des-codes-postaux': [('geofla-r', 321)],\n",
       " 'base-permanente-des-equipements-1': [('base-sirene-des-entreprises-et-de-leurs-etablissements-siren-siret',\n",
       "   163)],\n",
       " 'base-sirene-des-entreprises-et-de-leurs-etablissements-siren-siret': [('repertoire-national-des-associations-rna',\n",
       "   250),\n",
       "  ('cadastre', 195)],\n",
       " 'cadastre': [('referentiel-topographique-simplifie-rts-eurometropole-de-strasbourg',\n",
       "   70)],\n",
       " 'carte-de-comptages-oise': [('trafic-sur-rd-oise', 144)],\n",
       " 'carte-des-departements-2': [('cadastre', 19), ('geofla-r', 15)],\n",
       " 'contour-des-iris-insee-tout-en-un': [('contours-iris', 109)],\n",
       " 'contours-des-departements-francais-issus-d-openstreetmap': [('decoupage-administratif-communal-francais-issu-d-openstreetmap',\n",
       "   247),\n",
       "  ('carte-des-departements-2', 203),\n",
       "  ('contours-des-regions-francaises-sur-openstreetmap', 161)],\n",
       " 'contours-des-regions-francaises-sur-openstreetmap': [('decoupage-administratif-communal-francais-issu-d-openstreetmap',\n",
       "   176)],\n",
       " 'contours-iris': [('decoupage-iris-combine-aux-limites-communales-openstreetmap',\n",
       "   25)],\n",
       " 'correspondance-code-insee-code-postal': [('base-officielle-des-codes-postaux-1',\n",
       "   6)],\n",
       " 'correspondance-entre-les-codes-postaux-et-codes-insee-des-communes-francaises': [('base-officielle-des-codes-postaux',\n",
       "   421)],\n",
       " 'data-insee-sur-les-communes': [('base-sirene-des-entreprises-et-de-leurs-etablissements-siren-siret',\n",
       "   27),\n",
       "  ('geofla-limites-des-communes-en-france', 26),\n",
       "  ('ban-base-adresse-nationale', 23),\n",
       "  ('geofla-r', 22),\n",
       "  ('balances-comptables-des-communes', 20)],\n",
       " 'decoupage-administratif-communal-francais-issu-d-openstreetmap': [('geofla-limites-des-communes-en-france',\n",
       "   213),\n",
       "  ('limites-administratives-francaises-issues-d-openstreetmap', 198)],\n",
       " 'donnees-carroyees-a-200-m-sur-la-population': [('base-sirene-des-entreprises-et-de-leurs-etablissements-siren-siret',\n",
       "   162),\n",
       "  ('marche-du-travail', 134),\n",
       "  ('base-permanente-des-equipements-1', 106)],\n",
       " 'donnees-openstreetmap-integrales-de-france-metropolitaine': [('base-sirene-des-entreprises-et-de-leurs-etablissements-siren-siret',\n",
       "   68),\n",
       "  ('contours-osm-des-cantons-electoraux-departementaux-2015', 58),\n",
       "  ('limites-administratives-francaises-issues-d-openstreetmap', 56),\n",
       "  ('contours-geographiques-des-academies', 47)],\n",
       " 'faits-constates-mensuels-par-departements': [('base-sirene-des-entreprises-et-de-leurs-etablissements-siren-siret',\n",
       "   225),\n",
       "  ('faits-constates-par-index-par-departement-et-par-annee', 158)],\n",
       " 'fichier-consolide-des-bornes-de-recharge-pour-vehicules-electriques-irve': [('cadastre',\n",
       "   48)],\n",
       " 'fichier-des-prenoms-edition-2016': [('repertoire-des-logements-locatifs-des-bailleurs-sociaux-rpls',\n",
       "   25),\n",
       "  ('pci-vecteur-plan-cadastral-informatise', 22),\n",
       "  ('cadastre', 19)],\n",
       " 'fichier-fantoir-des-voies-et-lieux-dits': [('pci-vecteur-plan-cadastral-informatise',\n",
       "   45),\n",
       "  ('base-d-adresses-nationale-ouverte-bano', 40),\n",
       "  ('ban-base-adresse-nationale', 38),\n",
       "  ('cadastre', 37),\n",
       "  ('base-officielle-des-codes-postaux', 31),\n",
       "  ('index-des-rues', 27),\n",
       "  ('base-sirene-des-entreprises-et-de-leurs-etablissements-siren-siret', 21)],\n",
       " 'finess-extraction-du-fichier-des-etablissements': [('base-sirene-des-entreprises-et-de-leurs-etablissements-siren-siret',\n",
       "   103)],\n",
       " 'geofla-limites-des-communes-en-france': [('geofla-r', 94)],\n",
       " 'geofla-r': [('base-sirene-des-entreprises-et-de-leurs-etablissements-siren-siret',\n",
       "   31),\n",
       "  ('geofla-r-communes-2016', 30)],\n",
       " 'immeubles-proteges-au-titre-des-monuments-historiques': [('frequentation-des-musees-de-france',\n",
       "   20)],\n",
       " 'limites-administratives-francaises-issues-d-openstreetmap': [('geofla-limites-des-communes-en-france',\n",
       "   55),\n",
       "  ('contours-geographiques-des-academies', 48),\n",
       "  ('contours-osm-des-cantons-electoraux-departementaux-2015', 48),\n",
       "  ('base-sirene-des-entreprises-et-de-leurs-etablissements-siren-siret', 41)],\n",
       " 'liste-et-localisation-des-musees-de-france': [('base-sirene-des-entreprises-et-de-leurs-etablissements-siren-siret',\n",
       "   70),\n",
       "  ('population', 66)],\n",
       " 'liste-publique-des-organismes-de-formation-l-6351-7-1-du-code-du-travail': [('base-sirene-des-entreprises-et-de-leurs-etablissements-siren-siret',\n",
       "   138)],\n",
       " 'listes-des-communes-geolocalisees-par-regions-departements-circonscriptions-nd': [('base-officielle-des-codes-postaux',\n",
       "   280)],\n",
       " 'marche-du-travail': [('base-sirene-des-entreprises-et-de-leurs-etablissements-siren-siret',\n",
       "   193),\n",
       "  ('base-permanente-des-equipements-1', 135)],\n",
       " 'monuments-historiques-liste-des-immeubles-proteges-au-titre-des-monuments-historiques': [('immeubles-proteges-au-titre-des-monuments-historiques',\n",
       "   274)],\n",
       " 'open-damir-base-complete-sur-les-depenses-dassurance-maladie-inter-regimes': [('base-sirene-des-entreprises-et-de-leurs-etablissements-siren-siret',\n",
       "   44),\n",
       "  ('fichier-des-prenoms-edition-2016', 36),\n",
       "  ('ban-base-adresse-nationale', 36),\n",
       "  ('referentiel-de-lorganisation-administrative-de-letat', 27),\n",
       "  ('open-medic-base-complete-sur-les-depenses-de-medicaments-interregimes',\n",
       "   22)],\n",
       " 'pci-vecteur-plan-cadastral-informatise': [('cadastre', 1310)],\n",
       " 'population': [('base-sirene-des-entreprises-et-de-leurs-etablissements-siren-siret',\n",
       "   163),\n",
       "  ('base-officielle-des-codes-postaux', 138)],\n",
       " 'produits-alimentaires-ingredients-nutrition-labels': [('base-sirene-des-entreprises-et-de-leurs-etablissements-siren-siret',\n",
       "   91),\n",
       "  ('fichier-des-prenoms-edition-2016', 79)],\n",
       " 'recensement-des-equipements-sportifs-espaces-et-sites-de-pratiques': [('base-sirene-des-entreprises-et-de-leurs-etablissements-siren-siret',\n",
       "   66),\n",
       "  ('recensement-des-licences-et-clubs-aupres-des-federations-sportives-agreees-par-le-ministere-charge-d',\n",
       "   64)],\n",
       " 'registre-parcellaire-graphique-2012-contours-des-ilots-culturaux-et-leur-groupe-de-cultures-majorita': [('registre-parcellaire-graphique-rpg-contours-des-ilots-culturaux-et-leur-groupe-de-cultures-majoritaire',\n",
       "   119)],\n",
       " 'registre-parcellaire-graphique-rpg-contours-des-ilots-culturaux-et-leur-groupe-de-cultures-majoritaire': [('pci-vecteur-plan-cadastral-informatise',\n",
       "   47)],\n",
       " 'repertoire-des-logements-locatifs-des-bailleurs-sociaux-rpls': [('irve-de-laube',\n",
       "   10),\n",
       "  ('mode-de-deplacement-domicile-travail', 10),\n",
       "  ('donnees-eco2mix-nationales-consolidees-et-definitives-2012-a-2017-1', 9),\n",
       "  ('budget-primitif-2017-3', 8),\n",
       "  ('calendrier-des-manifestations-2017', 8),\n",
       "  ('ville-de-redon-budget-2017', 8),\n",
       "  ('lavenir-de-lassurance-maladie-1', 8),\n",
       "  ('demandes-citoyennes-donnees-statistiques', 7),\n",
       "  ('donnees-eco2mix-regionales-consolidees-et-definitives-2013-a-2017', 7)],\n",
       " 'repertoire-national-des-associations-rna': [('pci-vecteur-plan-cadastral-informatise',\n",
       "   29),\n",
       "  ('cadastre', 29)],\n",
       " 'service-public-fr-annuaire-de-l-administration-base-de-donnees-locales': [('base-sirene-des-entreprises-et-de-leurs-etablissements-siren-siret',\n",
       "   117)],\n",
       " 'service-public-fr-guide-vos-droits-et-demarches-particuliers': [('service-public-fr-guide-vos-droits-et-demarches-professionnels-entreprises',\n",
       "   20)]}"
      ]
     },
     "execution_count": 29,
     "metadata": {},
     "output_type": "execute_result"
    }
   ],
   "source": [
    "co_occurence_on_top50_slug"
   ]
  },
  {
   "cell_type": "markdown",
   "metadata": {},
   "source": [
    "## Build a graph.\n",
    "\n",
    "Now it would be ideal to build a graph using networkX of all linked datasets form top50 (to begin with).\n",
    "\n",
    "To do, so we'll first need to build 2 dicts :\n",
    "\n",
    "1. A dict of correspondance : dsA -> [dsB, dsC, dsD]\n",
    "2. A dict of weight : dsA -> [1, 4, 8]\n"
   ]
  },
  {
   "cell_type": "code",
   "execution_count": 30,
   "metadata": {
    "collapsed": false
   },
   "outputs": [],
   "source": [
    "full_weight_dict = {}\n",
    "for key, value in co_occurence_on_top50_slug.items():\n",
    "    for tup in value:\n",
    "        full_weight_dict[key]={tup[0]: {'weight':tup[1]}}"
   ]
  },
  {
   "cell_type": "code",
   "execution_count": 31,
   "metadata": {
    "collapsed": false
   },
   "outputs": [],
   "source": [
    "co_occ_by_list = []\n",
    "G2=nx.Graph()\n",
    "for key, value in co_occurence_on_top50_slug.items():\n",
    "    for tup in value:\n",
    "        G2.add_edge(key, tup[0])\n",
    "        G2[key][tup[0]]['weight']=tup[1]\n"
   ]
  },
  {
   "cell_type": "code",
   "execution_count": 32,
   "metadata": {
    "collapsed": true
   },
   "outputs": [],
   "source": [
    "nx.write_gexf(G2, './datasets_graphs/graph2.gexf')"
   ]
  },
  {
   "cell_type": "code",
   "execution_count": 33,
   "metadata": {
    "collapsed": false,
    "scrolled": true
   },
   "outputs": [
    {
     "data": {
      "image/png": "[encoded data removed]",
      "text/plain": [
       "<matplotlib.figure.Figure at 0x171d60c18>"
      ]
     },
     "metadata": {},
     "output_type": "display_data"
    }
   ],
   "source": [
    "plt.figure(figsize=(15,15))\n",
    "nx.draw_networkx(G2, with_labels=True, node_size=10)"
   ]
  },
  {
   "cell_type": "code",
   "execution_count": null,
   "metadata": {
    "collapsed": true
   },
   "outputs": [],
   "source": []
  }
 ],
 "metadata": {
  "kernelspec": {
   "display_name": "Python 3",
   "language": "python",
   "name": "python3"
  },
  "language_info": {
   "codemirror_mode": {
    "name": "ipython",
    "version": 3
   },
   "file_extension": ".py",
   "mimetype": "text/x-python",
   "name": "python",
   "nbconvert_exporter": "python",
   "pygments_lexer": "ipython3",
   "version": "3.6.0"
  }
 },
 "nbformat": 4,
 "nbformat_minor": 2
}
