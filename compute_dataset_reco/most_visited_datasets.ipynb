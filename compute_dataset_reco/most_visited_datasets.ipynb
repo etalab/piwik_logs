{
 "cells": [
  {
   "cell_type": "markdown",
   "metadata": {},
   "source": [
    "# Finding the most visited datasets last month (by visit or API)\n",
    "\n",
    "Last update : 10/01/2017\n",
    "\n",
    "How to :\n",
    "\n",
    "1. Run fetch_log.ipynb\n",
    "2. Run aggregate_logs.ipynb\n",
    "3. Run this notebook\n"
   ]
  },
  {
   "cell_type": "code",
   "execution_count": 1,
   "metadata": {
    "collapsed": true
   },
   "outputs": [],
   "source": [
    "import json\n",
    "from collections import defaultdict, Counter\n",
    "import pickle\n",
    "import glob\n",
    "import os\n",
    "import itertools\n",
    "from IPython.display import clear_output\n",
    "\n",
    "\n",
    "import pandas as pd\n",
    "import numpy as np\n",
    "from matplotlib import pyplot as plt\n",
    "%matplotlib inline\n",
    "\n",
    "# import parser (regex on logs)\n",
    "from src import utils"
   ]
  },
  {
   "cell_type": "markdown",
   "metadata": {},
   "source": [
    "## Import deduplicated logs"
   ]
  },
  {
   "cell_type": "code",
   "execution_count": 2,
   "metadata": {
    "collapsed": false
   },
   "outputs": [],
   "source": [
    "# Compute monthly filename.json (e.g. : 2017-12-26)\n",
    "a_month_ago = pd.datetime.today() + pd.DateOffset(months=-1)\n",
    "date_range = pd.date_range(a_month_ago, pd.datetime.today()).strftime('%Y-%m-%d')\n",
    "monthly_files = ['../deduplicated_logs/' + file + '.json' for file in date_range]\n",
    "\n",
    "unhandled_actions = []\n",
    "visits_parsed = []\n",
    "for filename in monthly_files:\n",
    "    with open(filename, 'r') as f:\n",
    "        visits = json.load(f)\n",
    "    visits_parsed_file, unhandled_actions_file = utils.parse_visits(visits)\n",
    "    visits_parsed += visits_parsed_file\n"
   ]
  },
  {
   "cell_type": "markdown",
   "metadata": {},
   "source": [
    "## Keep only slug_or_id session"
   ]
  },
  {
   "cell_type": "code",
   "execution_count": 3,
   "metadata": {
    "collapsed": false
   },
   "outputs": [],
   "source": [
    "# Dict session_num -> list_of_action_tuple\n",
    "visits_parsed_as_dict = dict(zip(range(0,len(visits_parsed)), visits_parsed))\n",
    "visits_parsed_as_dict[2]\n",
    "\n",
    "# Dict session_num -> set() of visited datasets (by API or through web)\n",
    "session_datasets = {}\n",
    "for key, value in visits_parsed_as_dict.items():\n",
    "    if len(value) > 0:\n",
    "        unique_list = set(tup[1] for tup in value if tup[0] == \"slug_or_id\")\n",
    "        if len(unique_list) > 1 : # list of at least 2 different datasets\n",
    "            session_datasets[key] = unique_list\n",
    "    else:\n",
    "        pass # We don't care about empty session\n",
    "    \n",
    "\n",
    "datasets_ref = pd.read_csv('../list_of_all_datasets_dgfr/datasets-2017-12-13-18-23.csv', sep=';')\n",
    "# Mapping id -> slug\n",
    "datasets_id_slug = datasets_ref.set_index('id')['slug'].to_dict()\n",
    "# Replace all dataset_id by dataset_slug (caution: we keep the same dict name)\n",
    "session_datasets = {key: [datasets_id_slug.get(el, el) for el in value] for key, value in session_datasets.items()}"
   ]
  },
  {
   "cell_type": "code",
   "execution_count": 4,
   "metadata": {
    "collapsed": false
   },
   "outputs": [],
   "source": [
    "all_datasets_as_list = []\n",
    "for datasets in session_datasets.values():\n",
    "    all_datasets_as_list += datasets"
   ]
  },
  {
   "cell_type": "code",
   "execution_count": 5,
   "metadata": {
    "collapsed": false,
    "scrolled": false
   },
   "outputs": [],
   "source": [
    "all_datasets_as_list = ['www.data.gouv.fr/datasets/' + ds for ds in all_datasets_as_list]"
   ]
  },
  {
   "cell_type": "markdown",
   "metadata": {},
   "source": [
    "## top50 most visited datasets (through visits or API)"
   ]
  },
  {
   "cell_type": "code",
   "execution_count": 6,
   "metadata": {
    "collapsed": true
   },
   "outputs": [],
   "source": [
    "pd.set_option('display.max_colwidth', -1)\n",
    "top50 = pd.DataFrame(Counter(all_datasets_as_list).most_common(50), columns=['dataset', 'last_month_visits'])"
   ]
  },
  {
   "cell_type": "code",
   "execution_count": 7,
   "metadata": {
    "collapsed": false
   },
   "outputs": [
    {
     "data": {
      "text/plain": [
       "array([[<matplotlib.axes._subplots.AxesSubplot object at 0x11f2ddb70>]], dtype=object)"
      ]
     },
     "execution_count": 7,
     "metadata": {},
     "output_type": "execute_result"
    },
    {
     "data": {
      "image/png": "[encoded data removed]",
      "text/plain": [
       "<matplotlib.figure.Figure at 0x113580e10>"
      ]
     },
     "metadata": {},
     "output_type": "display_data"
    }
   ],
   "source": [
    "top50.hist()"
   ]
  },
  {
   "cell_type": "code",
   "execution_count": 8,
   "metadata": {
    "collapsed": true
   },
   "outputs": [],
   "source": [
    "top50.to_csv('../top50visited.csv', sep=';', index=False)"
   ]
  }
 ],
 "metadata": {
  "kernelspec": {
   "display_name": "Python 3",
   "language": "python",
   "name": "python3"
  },
  "language_info": {
   "codemirror_mode": {
    "name": "ipython",
    "version": 3
   },
   "file_extension": ".py",
   "mimetype": "text/x-python",
   "name": "python",
   "nbconvert_exporter": "python",
   "pygments_lexer": "ipython3",
   "version": "3.6.0"
  }
 },
 "nbformat": 4,
 "nbformat_minor": 2
}
