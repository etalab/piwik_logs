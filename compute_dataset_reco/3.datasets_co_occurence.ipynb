{
 "cells": [
  {
   "cell_type": "markdown",
   "metadata": {},
   "source": [
    "#### /!\\ Notice (read me before !)\n",
    "\n",
    "Before running the following repo, you need to run :\n",
    "\n",
    "1. `/fetch_logs.ipynb` : parse & clean logs\n",
    "2. `/agregate_logs.ipynb` : aggregate logs\n",
    "\n",
    "`most_visited_datasets.ipnyb` is optional cause it doesn't change so much over time. (last run : 10/01/18)\n",
    "\n",
    "\n"
   ]
  },
  {
   "cell_type": "markdown",
   "metadata": {},
   "source": [
    "# \"Voir aussi\" feature implementation\n",
    "\n",
    "The purpose of this notebook is to find similarity between dataset in order to build recommendation.\n",
    "\n",
    "More datasets are visited together in a same session, closer they are from each other.\n",
    "\n",
    "We checked both session & API."
   ]
  },
  {
   "cell_type": "code",
   "execution_count": 2,
   "metadata": {
    "collapsed": false
   },
   "outputs": [],
   "source": [
    "import json\n",
    "from collections import defaultdict, Counter\n",
    "import pickle\n",
    "import glob\n",
    "import os\n",
    "import itertools\n",
    "import editdistance # Levenshtein distance\n",
    "\n",
    "import networkx as nx\n",
    "import numpy as np\n",
    "import pandas as pd\n",
    "from matplotlib import pyplot as plt\n",
    "%matplotlib inline\n",
    "\n",
    "from src import utils\n",
    "from IPython.display import clear_output"
   ]
  },
  {
   "cell_type": "markdown",
   "metadata": {},
   "source": [
    "# Parse actions to dataset ids\n",
    "\n",
    "First, we need to group visited URL by type. For instance, we want to group .fr/.en/.es for the same actions.\n",
    "\n",
    "By action, we mean \"search, posts, actions, goal, ..\"."
   ]
  },
  {
   "cell_type": "code",
   "execution_count": 3,
   "metadata": {
    "collapsed": false
   },
   "outputs": [
    {
     "name": "stdout",
     "output_type": "stream",
     "text": [
      "today's date: 2018-01-29\n",
      "parsing json from 2017-12-11 to 2018-01-10\n"
     ]
    }
   ],
   "source": [
    "source_dir = '../deduplicated_logs'\n",
    "target_dir = '../parsed_logs'\n",
    "\n",
    "filenames = glob.glob(source_dir + '/*')\n",
    "\n",
    "## Compute monthly filename.json (e.g. : 2017-12-26)\n",
    "# a_month_ago = pd.datetime.today() + pd.DateOffset(months=-1)\n",
    "# date_range = pd.date_range(a_month_ago, pd.datetime.today()).strftime('%Y-%m-%d')\n",
    "# monthly_files = ['deduplicated_logs/' + date + '.json' for date in date_range]\n",
    "\n",
    "monthly_files = np.sort(filenames)[::-1][:31]\n",
    "print(\"today's date: %s\\nparsing json from %s to %s\" % (\n",
    "    pd.datetime.today().strftime('%Y-%m-%d'), monthly_files[-1].split('/')[2][:-5], monthly_files[0].split('/')[2][:-5]) )\n",
    "unhandled_actions = []\n",
    "visits_parsed = []\n",
    "for filename in monthly_files:\n",
    "    with open(filename, 'r') as f:\n",
    "        visits = json.load(f)\n",
    "    visits_parsed_file, unhandled_actions_file = utils.parse_visits(visits)\n",
    "    visits_parsed += visits_parsed_file\n",
    "    unhandled_actions += unhandled_actions_file\n",
    "    with open(os.path.join(target_dir, os.path.basename(filename)), 'w') as f:\n",
    "        json.dump(visits_parsed_file, f)\n",
    "with open(os.path.join(target_dir, os.path.basename('all_visits_parsed_file')), 'w') as f:\n",
    "    json.dump(visits_parsed, f)"
   ]
  },
  {
   "cell_type": "code",
   "execution_count": 4,
   "metadata": {
    "collapsed": false
   },
   "outputs": [
    {
     "data": {
      "text/plain": [
       "264275"
      ]
     },
     "execution_count": 4,
     "metadata": {},
     "output_type": "execute_result"
    }
   ],
   "source": [
    "len(visits_parsed)"
   ]
  },
  {
   "cell_type": "code",
   "execution_count": 5,
   "metadata": {
    "collapsed": false
   },
   "outputs": [
    {
     "data": {
      "text/plain": [
       "203719"
      ]
     },
     "execution_count": 5,
     "metadata": {},
     "output_type": "execute_result"
    }
   ],
   "source": [
    "len(unhandled_actions)"
   ]
  },
  {
   "cell_type": "markdown",
   "metadata": {},
   "source": [
    "`unhandled_actions` contains mainly \"territoires\", \"avatar\" and odd URL. Majority of the datasets were correctly parsed so let's keep going.\n",
    "\n",
    "`visits_parsed` is a list of list of tuples : `[[(a, b), (a,c)], [(c,d)], [(a,c)], ...]`\n",
    "\n",
    "each tuple is a (type, name) were `type` can be: `id` (=API community), `keyword` (=keyword search), `slug_or_id` (dataset_API or dataset) and name is the value (e.g. a dataset name).\n",
    "\n",
    "API Community eg : https://www.data.gouv.fr/api/1/datasets/community_resources/?sort=-created_at&page_size=10&dataset=58e53811c751df03df38f42d&lang=fr&_=1512404531050\n",
    "\n",
    "-> \"58e53811c751df03df38f42d\" correspond au RNA, mais quel diff avec api ?\n",
    "\n",
    "\n",
    "We will focus our study on `slug_or_id`."
   ]
  },
  {
   "cell_type": "code",
   "execution_count": 6,
   "metadata": {
    "collapsed": false
   },
   "outputs": [
    {
     "data": {
      "text/plain": [
       "[('slug_or_id', 'centres-des-impots-fonciers-par-commune-en-bretagne')]"
      ]
     },
     "execution_count": 6,
     "metadata": {},
     "output_type": "execute_result"
    }
   ],
   "source": [
    "# Dict session_num -> list_of_action_tuple\n",
    "visits_parsed_as_dict = dict(zip(range(0,len(visits_parsed)), visits_parsed))\n",
    "visits_parsed_as_dict[2]"
   ]
  },
  {
   "cell_type": "markdown",
   "metadata": {},
   "source": [
    "### First, let's replace dataset-id by their name (or slug) in order. All of them are supposedly unique so no problem.\n",
    "\n",
    "To do so, we first need to import the list of all datasets (datasets.csv) il order to get the mapping."
   ]
  },
  {
   "cell_type": "code",
   "execution_count": 7,
   "metadata": {
    "collapsed": true
   },
   "outputs": [],
   "source": [
    "datasets_ref = pd.read_csv('../list_of_all_datasets_dgfr/datasets-2017-12-13-18-23.csv', sep=';')\n",
    "# Mapping id -> slug\n",
    "datasets_slug_id = datasets_ref.set_index('slug')['id'].to_dict()\n",
    "# Mapping id -> slug (will be used for readability)\n",
    "datasets_id_slug = datasets_ref.set_index('id')['slug'].to_dict()"
   ]
  },
  {
   "cell_type": "code",
   "execution_count": 8,
   "metadata": {
    "collapsed": false
   },
   "outputs": [
    {
     "data": {
      "text/plain": [
       "1    32077\n",
       "Name: slug, dtype: int64"
      ]
     },
     "execution_count": 8,
     "metadata": {},
     "output_type": "execute_result"
    }
   ],
   "source": [
    "datasets_ref.groupby('id')['slug'].count().value_counts()"
   ]
  },
  {
   "cell_type": "markdown",
   "metadata": {},
   "source": [
    "Chaque `id` possède un unique `slug`. \n",
    "\n",
    "Pas très pratique étant donné que certain slug sont obsolètes (ont été changés) : **comment récupérer les nouveaux id des anciens slugs ?** \n",
    "\n",
    "\n",
    "On verra plus tard."
   ]
  },
  {
   "cell_type": "code",
   "execution_count": 9,
   "metadata": {
    "collapsed": false
   },
   "outputs": [],
   "source": [
    "# Dict session_num -> set() of visited datasets (by API or through web)\n",
    "session_datasets = {}\n",
    "slug_not_found = []\n",
    "for key, value in visits_parsed_as_dict.items():\n",
    "    if len(value) > 0:\n",
    "        # (optional) : slug not found in dict datasets_ref\n",
    "        slug_not_found += set(tup[1] for tup in value if (tup[0] == \"slug_or_id\") & ((tup[1] not in datasets_slug_id) & (tup[1] not in datasets_id_slug.keys())))\n",
    "        # convert slug to id & build unique list\n",
    "        unique_list = set(datasets_slug_id.get(tup[1], tup[1]) for tup in value if tup[0] == \"slug_or_id\")\n",
    "        if len(unique_list) > 1 : # list of at least 2 different datasets\n",
    "            session_datasets[key] = unique_list\n",
    "    else:\n",
    "        pass # We don't care about empty session"
   ]
  },
  {
   "cell_type": "code",
   "execution_count": 10,
   "metadata": {
    "collapsed": false
   },
   "outputs": [
    {
     "data": {
      "text/plain": [
       "9708"
      ]
     },
     "execution_count": 10,
     "metadata": {},
     "output_type": "execute_result"
    }
   ],
   "source": [
    "len(slug_not_found)"
   ]
  },
  {
   "cell_type": "code",
   "execution_count": 11,
   "metadata": {
    "collapsed": false
   },
   "outputs": [
    {
     "data": {
      "text/plain": [
       "['statistiques-nombre-de-pratiquant-de-skateboard',\n",
       " 'nombre-de-deces-3',\n",
       " 'plan-cadastral-informatise-pci',\n",
       " 'horaires-des-lignes-transilien',\n",
       " 'statistiques-nombre-de-pratiquant-de-skateboard',\n",
       " 'reserves-naturelles-regionales-rnr-en-bourgogne',\n",
       " 'zones-vulnerables-aux-nitrates-2012',\n",
       " 'stations-de-traitement-des-eaux-usees-onm',\n",
       " 'plan-cadastral-informatise-pci',\n",
       " 'plan-cadastral-informatise-pci']"
      ]
     },
     "execution_count": 11,
     "metadata": {},
     "output_type": "execute_result"
    }
   ],
   "source": [
    "slug_not_found[:10]"
   ]
  },
  {
   "cell_type": "code",
   "execution_count": 12,
   "metadata": {
    "collapsed": false,
    "scrolled": true
   },
   "outputs": [
    {
     "data": {
      "text/plain": [
       "'key not found :('"
      ]
     },
     "execution_count": 12,
     "metadata": {},
     "output_type": "execute_result"
    }
   ],
   "source": [
    "datasets_slug_id.get('contrats-de-milieu-guadeloupe-onm', 'key not found :(')"
   ]
  },
  {
   "cell_type": "markdown",
   "metadata": {},
   "source": [
    "When looking inside session_datasets, we observe that ~9K slug were not found in the dict `datasets_slug_id`.\n",
    "\n",
    "They are stored in `slug_not_found` so someone can have a look.\n",
    "\n",
    "Some of them are definitely working links, some other are 404's.\n",
    "\n",
    "\n",
    "**We ignore them for now, but it could be interesting to have a closer look into them**"
   ]
  },
  {
   "cell_type": "code",
   "execution_count": 13,
   "metadata": {
    "collapsed": false
   },
   "outputs": [
    {
     "data": {
      "text/plain": [
       "27042"
      ]
     },
     "execution_count": 13,
     "metadata": {},
     "output_type": "execute_result"
    }
   ],
   "source": [
    "len(session_datasets)"
   ]
  },
  {
   "cell_type": "markdown",
   "metadata": {},
   "source": [
    "### Now that we have a dict of set of datasets, let's count how many pairwise datasets appears together.\n",
    "\n",
    "For example"
   ]
  },
  {
   "cell_type": "code",
   "execution_count": 14,
   "metadata": {
    "collapsed": false
   },
   "outputs": [
    {
     "name": "stdout",
     "output_type": "stream",
     "text": [
      "L1=  Counter({('a', 'b'): 1, ('a', 'c'): 1, ('a', 'd'): 1, ('b', 'c'): 1, ('b', 'd'): 1, ('c', 'd'): 1})\n",
      "Somme= Counter({('a', 'b'): 2, ('a', 'c'): 2, ('b', 'c'): 2, ('a', 'd'): 1, ('b', 'd'): 1, ('c', 'd'): 1})\n"
     ]
    }
   ],
   "source": [
    "# Two lists\n",
    "L1 = ['a', 'b', 'c', 'd'] \n",
    "L2 =  ['b', 'a', 'c'] \n",
    "# We want : (a, b): 2 (a, c): 2 (b, c): 2, (b, d): 1 (c, d):1\n",
    "\n",
    "# Compute combination (we need to sort beforehand !)\n",
    "L1_comb = list(itertools.combinations(np.sort(L1), 2)) # (ab) (ac) (ad) (bc) (bd) (cd)\n",
    "L2_comb = list(itertools.combinations(np.sort(L2), 2)) # (ba) (bc) (ac)\n",
    "\n",
    "# Counter tuple\n",
    "c1 = Counter(L1_comb)\n",
    "print('L1=  %s' % c1)\n",
    "c2 = Counter(L2_comb)\n",
    "print('Somme= %s' % (c1 + c2))"
   ]
  },
  {
   "cell_type": "code",
   "execution_count": 15,
   "metadata": {
    "collapsed": false
   },
   "outputs": [
    {
     "name": "stdout",
     "output_type": "stream",
     "text": [
      "27042/27042\n"
     ]
    }
   ],
   "source": [
    "# Could be optimize. Caution : ~10min.\n",
    "pairwise_count = Counter()\n",
    "c = 0\n",
    "for key, val in session_datasets.items():\n",
    "    val_as_list = np.sort(list(val))\n",
    "    val_combinations = list(itertools.combinations(val_as_list, 2))\n",
    "    pairwise_count += Counter(val_combinations)\n",
    "    c += 1\n",
    "    clear_output(wait=True)\n",
    "    print('%s/%s' % (c, len(session_datasets.items())))"
   ]
  },
  {
   "cell_type": "code",
   "execution_count": 16,
   "metadata": {
    "collapsed": false
   },
   "outputs": [
    {
     "data": {
      "text/plain": [
       "[(('58e5924b88ee3802ca255566', '59b0020ec751df07d5f13bcf'), 1074),\n",
       " (('55f6a4d7c751df136147eab3', '57d6ded9c751df275ab8181a'), 459),\n",
       " (('536991c5a3a729239d203d4b', '545b55e1c751df52de9b6045'), 398),\n",
       " (('5369995ba3a729239d205221', '545b55e1c751df52de9b6045'), 278),\n",
       " (('53ca2be2a3a7294a1ddd7847', '58e53811c751df03df38f42d'), 277)]"
      ]
     },
     "execution_count": 16,
     "metadata": {},
     "output_type": "execute_result"
    }
   ],
   "source": [
    "pairwise_count.most_common(5)"
   ]
  },
  {
   "cell_type": "code",
   "execution_count": 17,
   "metadata": {
    "collapsed": false,
    "scrolled": false
   },
   "outputs": [
    {
     "data": {
      "text/html": [
       "<div>\n",
       "<style>\n",
       "    .dataframe thead tr:only-child th {\n",
       "        text-align: right;\n",
       "    }\n",
       "\n",
       "    .dataframe thead th {\n",
       "        text-align: left;\n",
       "    }\n",
       "\n",
       "    .dataframe tbody tr th {\n",
       "        vertical-align: top;\n",
       "    }\n",
       "</style>\n",
       "<table border=\"1\" class=\"dataframe\">\n",
       "  <thead>\n",
       "    <tr style=\"text-align: right;\">\n",
       "      <th></th>\n",
       "      <th>paired_datasets</th>\n",
       "      <th>co_occurence</th>\n",
       "    </tr>\n",
       "  </thead>\n",
       "  <tbody>\n",
       "    <tr>\n",
       "      <th>870</th>\n",
       "      <td>(58e5924b88ee3802ca255566, 59b0020ec751df07d5f...</td>\n",
       "      <td>1074</td>\n",
       "    </tr>\n",
       "    <tr>\n",
       "      <th>624</th>\n",
       "      <td>(55f6a4d7c751df136147eab3, 57d6ded9c751df275ab...</td>\n",
       "      <td>459</td>\n",
       "    </tr>\n",
       "    <tr>\n",
       "      <th>630</th>\n",
       "      <td>(536991c5a3a729239d203d4b, 545b55e1c751df52de9...</td>\n",
       "      <td>398</td>\n",
       "    </tr>\n",
       "    <tr>\n",
       "      <th>1396</th>\n",
       "      <td>(5369995ba3a729239d205221, 545b55e1c751df52de9...</td>\n",
       "      <td>278</td>\n",
       "    </tr>\n",
       "    <tr>\n",
       "      <th>26</th>\n",
       "      <td>(53ca2be2a3a7294a1ddd7847, 58e53811c751df03df3...</td>\n",
       "      <td>277</td>\n",
       "    </tr>\n",
       "  </tbody>\n",
       "</table>\n",
       "</div>"
      ],
      "text/plain": [
       "                                        paired_datasets  co_occurence\n",
       "870   (58e5924b88ee3802ca255566, 59b0020ec751df07d5f...          1074\n",
       "624   (55f6a4d7c751df136147eab3, 57d6ded9c751df275ab...           459\n",
       "630   (536991c5a3a729239d203d4b, 545b55e1c751df52de9...           398\n",
       "1396  (5369995ba3a729239d205221, 545b55e1c751df52de9...           278\n",
       "26    (53ca2be2a3a7294a1ddd7847, 58e53811c751df03df3...           277"
      ]
     },
     "execution_count": 17,
     "metadata": {},
     "output_type": "execute_result"
    }
   ],
   "source": [
    "paired_df = pd.DataFrame(list(pairwise_count.items()), columns=['paired_datasets', 'co_occurence'])\n",
    "paired_df.sort_values('co_occurence', ascending=False, inplace=True)\n",
    "paired_df.head()"
   ]
  },
  {
   "cell_type": "markdown",
   "metadata": {},
   "source": [
    "### Now it could be interesting to have : for each datasets, all _twins_ ordered by co-occurence"
   ]
  },
  {
   "cell_type": "code",
   "execution_count": 18,
   "metadata": {
    "collapsed": false
   },
   "outputs": [],
   "source": [
    "paired_df[['dataset_1', 'dataset_2']] = paired_df.paired_datasets.apply(pd.Series)\n",
    "paired_df = paired_df.loc[:, ['dataset_1', 'dataset_2','co_occurence']]\n",
    "# Only co-occurence > 1\n",
    "paired_df = paired_df.loc[paired_df.co_occurence > 1]"
   ]
  },
  {
   "cell_type": "code",
   "execution_count": 19,
   "metadata": {
    "collapsed": false
   },
   "outputs": [
    {
     "data": {
      "text/html": [
       "<div>\n",
       "<style>\n",
       "    .dataframe thead tr:only-child th {\n",
       "        text-align: right;\n",
       "    }\n",
       "\n",
       "    .dataframe thead th {\n",
       "        text-align: left;\n",
       "    }\n",
       "\n",
       "    .dataframe tbody tr th {\n",
       "        vertical-align: top;\n",
       "    }\n",
       "</style>\n",
       "<table border=\"1\" class=\"dataframe\">\n",
       "  <thead>\n",
       "    <tr style=\"text-align: right;\">\n",
       "      <th></th>\n",
       "      <th>dataset_1</th>\n",
       "      <th>dataset_2</th>\n",
       "      <th>co_occurence</th>\n",
       "    </tr>\n",
       "  </thead>\n",
       "  <tbody>\n",
       "    <tr>\n",
       "      <th>870</th>\n",
       "      <td>58e5924b88ee3802ca255566</td>\n",
       "      <td>59b0020ec751df07d5f13bcf</td>\n",
       "      <td>1074</td>\n",
       "    </tr>\n",
       "    <tr>\n",
       "      <th>624</th>\n",
       "      <td>55f6a4d7c751df136147eab3</td>\n",
       "      <td>57d6ded9c751df275ab8181a</td>\n",
       "      <td>459</td>\n",
       "    </tr>\n",
       "  </tbody>\n",
       "</table>\n",
       "</div>"
      ],
      "text/plain": [
       "                    dataset_1                 dataset_2  co_occurence\n",
       "870  58e5924b88ee3802ca255566  59b0020ec751df07d5f13bcf          1074\n",
       "624  55f6a4d7c751df136147eab3  57d6ded9c751df275ab8181a           459"
      ]
     },
     "execution_count": 19,
     "metadata": {},
     "output_type": "execute_result"
    }
   ],
   "source": [
    "paired_df.head(2)"
   ]
  },
  {
   "cell_type": "code",
   "execution_count": 20,
   "metadata": {
    "collapsed": false,
    "scrolled": true
   },
   "outputs": [
    {
     "data": {
      "text/html": [
       "<div>\n",
       "<style>\n",
       "    .dataframe thead tr:only-child th {\n",
       "        text-align: right;\n",
       "    }\n",
       "\n",
       "    .dataframe thead th {\n",
       "        text-align: left;\n",
       "    }\n",
       "\n",
       "    .dataframe tbody tr th {\n",
       "        vertical-align: top;\n",
       "    }\n",
       "</style>\n",
       "<table border=\"1\" class=\"dataframe\">\n",
       "  <thead>\n",
       "    <tr style=\"text-align: right;\">\n",
       "      <th></th>\n",
       "      <th>dataset_1</th>\n",
       "      <th>dataset_2</th>\n",
       "      <th>co_occurence</th>\n",
       "      <th>all_co_occurence</th>\n",
       "    </tr>\n",
       "  </thead>\n",
       "  <tbody>\n",
       "    <tr>\n",
       "      <th>0</th>\n",
       "      <td>53698e0ea3a729239d20337c</td>\n",
       "      <td>[53698e79a3a729239d203490, 5369968ca3a729239d2...</td>\n",
       "      <td>[2, 2, 2, 2, 2, 2, 2, 2, 2, 2, 2, 2, 2, 2, 2, ...</td>\n",
       "      <td>((53698e79a3a729239d203490, 2), (5369968ca3a72...</td>\n",
       "    </tr>\n",
       "    <tr>\n",
       "      <th>1</th>\n",
       "      <td>53698e0ea3a729239d20337d</td>\n",
       "      <td>[58e53811c751df03df38f42d, 543cc88488ee3805983...</td>\n",
       "      <td>[15, 15, 10, 9, 8, 8, 7, 7, 4, 4, 3, 3, 3, 3, ...</td>\n",
       "      <td>((58e53811c751df03df38f42d, 15), (543cc88488ee...</td>\n",
       "    </tr>\n",
       "  </tbody>\n",
       "</table>\n",
       "</div>"
      ],
      "text/plain": [
       "                  dataset_1  \\\n",
       "0  53698e0ea3a729239d20337c   \n",
       "1  53698e0ea3a729239d20337d   \n",
       "\n",
       "                                           dataset_2  \\\n",
       "0  [53698e79a3a729239d203490, 5369968ca3a729239d2...   \n",
       "1  [58e53811c751df03df38f42d, 543cc88488ee3805983...   \n",
       "\n",
       "                                        co_occurence  \\\n",
       "0  [2, 2, 2, 2, 2, 2, 2, 2, 2, 2, 2, 2, 2, 2, 2, ...   \n",
       "1  [15, 15, 10, 9, 8, 8, 7, 7, 4, 4, 3, 3, 3, 3, ...   \n",
       "\n",
       "                                    all_co_occurence  \n",
       "0  ((53698e79a3a729239d203490, 2), (5369968ca3a72...  \n",
       "1  ((58e53811c751df03df38f42d, 15), (543cc88488ee...  "
      ]
     },
     "execution_count": 20,
     "metadata": {},
     "output_type": "execute_result"
    }
   ],
   "source": [
    "# Let's build a dict : dataset_A -> (dataset_E : 200), (dataset_B : 130), ...\n",
    "\n",
    "paired_df_grouped = paired_df.groupby('dataset_1')['dataset_2', 'co_occurence'].agg(lambda x: list(x))\n",
    "paired_df_grouped.reset_index(inplace=True)\n",
    "paired_df_grouped['all_co_occurence'] = paired_df_grouped.apply(lambda x: tuple(zip(x.dataset_2, x.co_occurence)), axis=1)\n",
    "paired_df_grouped.head(2)"
   ]
  },
  {
   "cell_type": "markdown",
   "metadata": {},
   "source": [
    "### Some datasets are linked with tons of others, let's select only the one that distinguish themselves from others.\n",
    "\n",
    "\n",
    "To do this will proceed in 2 steps : \n",
    "\n",
    "- Select only top10 of co_occurrence : since we want to compute some recommendation on datagouv, we don't need more than 10 linked datasets (less would be nice).\n",
    "\n",
    "- Apply rule of thumb to select only the best ones (see method below)"
   ]
  },
  {
   "cell_type": "code",
   "execution_count": 21,
   "metadata": {
    "collapsed": false
   },
   "outputs": [
    {
     "data": {
      "text/plain": [
       "[100, 80]"
      ]
     },
     "execution_count": 21,
     "metadata": {},
     "output_type": "execute_result"
    }
   ],
   "source": [
    "def rule_of_thumb(mylist): \n",
    "    '''Compute rule of thumb on a list\n",
    "    eg: [100, 80, 20, 14, 12, 11, 1]  => [100, 80] (return the index where to cut)\n",
    "    '''\n",
    "    if len(mylist) > 1:\n",
    "        # list of drops\n",
    "        difflist = [mylist[el] - mylist[1:][el] for el in range(0, len(mylist) - 1)]\n",
    "        max_drop = max(difflist)\n",
    "\n",
    "        # index of maximum(s)\n",
    "        max_drop_index = max([i for i, j in enumerate(difflist) if j == max(difflist)])\n",
    "\n",
    "        return max_drop_index + 1\n",
    "\n",
    "    return mylist[0]\n",
    "\n",
    "mylist = [100, 80, 20, 14, 12, 11, 1]\n",
    "mylist[:rule_of_thumb(mylist)]"
   ]
  },
  {
   "cell_type": "code",
   "execution_count": 22,
   "metadata": {
    "collapsed": false
   },
   "outputs": [],
   "source": [
    "# Sort by co_occurence (max co_occurences in first row of df)\n",
    "paired_df_grouped.sort_values('co_occurence', ascending=False, inplace=True)\n",
    "paired_df_grouped.loc[:, ['dataset_1', 'all_co_occurence']].head(20)\n",
    "\n",
    "# Keep only top10 co-occurence\n",
    "paired_df_grouped['top10'] = paired_df_grouped.co_occurence.apply(lambda x: x[:10])\n"
   ]
  },
  {
   "cell_type": "code",
   "execution_count": 23,
   "metadata": {
    "collapsed": false,
    "scrolled": false
   },
   "outputs": [],
   "source": [
    "# Apply rule of thumbs to top10 \n",
    "paired_df_grouped['best_co_occurence'] = paired_df_grouped.apply(lambda x: x['all_co_occurence'][:rule_of_thumb(x['top10'])], axis=1)\n",
    "del paired_df_grouped['top10']\n"
   ]
  },
  {
   "cell_type": "markdown",
   "metadata": {},
   "source": [
    "25% of datasets are linked with only 1 other. That's not much but that's enough for now.\n",
    "\n",
    "We could definitely find a lighter rule if we want to recommend at least 3 datasets."
   ]
  },
  {
   "cell_type": "code",
   "execution_count": 24,
   "metadata": {
    "collapsed": false,
    "scrolled": true
   },
   "outputs": [
    {
     "data": {
      "text/html": [
       "<div>\n",
       "<style>\n",
       "    .dataframe thead tr:only-child th {\n",
       "        text-align: right;\n",
       "    }\n",
       "\n",
       "    .dataframe thead th {\n",
       "        text-align: left;\n",
       "    }\n",
       "\n",
       "    .dataframe tbody tr th {\n",
       "        vertical-align: top;\n",
       "    }\n",
       "</style>\n",
       "<table border=\"1\" class=\"dataframe\">\n",
       "  <thead>\n",
       "    <tr style=\"text-align: right;\">\n",
       "      <th></th>\n",
       "      <th>dataset_1</th>\n",
       "      <th>all_co_occurence</th>\n",
       "      <th>best_co_occurence</th>\n",
       "      <th>n_best_co_occurence</th>\n",
       "    </tr>\n",
       "  </thead>\n",
       "  <tbody>\n",
       "    <tr>\n",
       "      <th>5172</th>\n",
       "      <td>58e5924b88ee3802ca255566</td>\n",
       "      <td>((59b0020ec751df07d5f13bcf, 1074), (plan-cadastral-informatise-pci, 246), (59d4602da3a7291992b1ebc1, 45), (59d2c07888ee3814dbdaf501, 30), (5a1dd4e5c751df02b116a0d6, 26), (599d0f28a3a729783d0f6ce2, 16), (5a2e6517c751df0874ef6bc7, 8), (new, 7), (5a3bb760c751df27e375554a, 7), (5a1572c9c751df784fb348fd, 6), (5971fbe588ee38523260fa5d, 6), (5a4651eb88ee380bb9eff81e, 5), (5a3cc6b588ee3858d95178fc, 4), (5a3ce59388ee38047e40bd58, 4), (5959286ea3a7291dcf9c8245, 4), (591564e4c751df0d4ed32b0d, 4), (5a31...</td>\n",
       "      <td>((59b0020ec751df07d5f13bcf, 1074),)</td>\n",
       "      <td>1</td>\n",
       "    </tr>\n",
       "    <tr>\n",
       "      <th>3111</th>\n",
       "      <td>55f6a4d7c751df136147eab3</td>\n",
       "      <td>((57d6ded9c751df275ab8181a, 459), (troncons-de-cours-deau-vigicrues-simplifies-avec-niveau-de-vigilance-crues, 101), (5862206588ee38254d3f4e5e, 43), (56175c82c751df068dcdbb4e, 28), (58b97cbea3a7295fa30a2b44, 11), (599d0f28a3a729783d0f6ce2, 11), (597b450ac751df06dd254d46, 11), (5624ae8aa3a7294a8e94b27e, 8), (5624b5a3a3a72928ca32aa4c, 8), (57ebdfc7c751df448f79df72, 7), (58dded5688ee385381896373, 6), (58e53811c751df03df38f42d, 6), (5889d044a3a72974cbf0d5bd, 5), (5889d044a3a72974c1f0d60b, 5), (5...</td>\n",
       "      <td>((57d6ded9c751df275ab8181a, 459),)</td>\n",
       "      <td>1</td>\n",
       "    </tr>\n",
       "    <tr>\n",
       "      <th>324</th>\n",
       "      <td>536991c5a3a729239d203d4b</td>\n",
       "      <td>((545b55e1c751df52de9b6045, 398), (59591ca4a3a7291dcf9c8150, 259), (5369995ba3a729239d205221, 29), (5862206588ee38254d3f4e5e, 26), (548ab97ec751df0f384120e7, 25), (5809e241c751df2646c562c5, 25), (53699d0ea3a729239d205b2e, 20), (58c984b088ee386cdb1261f3, 19), (53699cfba3a729239d205af9, 18), (5369997ea3a729239d205279, 17), (536991c5a3a729239d203d51, 17), (553f31fec751df67c0e96a3b, 17), (53699233a3a729239d203e69, 17), (5878ee30a3a7291484cac7d4, 15), (53699580a3a729239d204738, 11), (5878ee41a3a7...</td>\n",
       "      <td>((545b55e1c751df52de9b6045, 398), (59591ca4a3a7291dcf9c8150, 259))</td>\n",
       "      <td>2</td>\n",
       "    </tr>\n",
       "    <tr>\n",
       "      <th>1002</th>\n",
       "      <td>5369995ba3a729239d205221</td>\n",
       "      <td>((545b55e1c751df52de9b6045, 278), (5878ee5fa3a7291485cac7ed, 52), (5809e241c751df2646c562c5, 33), (5862206588ee38254d3f4e5e, 31), (53699d0ea3a729239d205b2e, 30), (548ab97ec751df0f384120e7, 28), (5661a04088ee3863e240355f, 16), (53699fe4a3a729239d206227, 13), (56ebf05fc751df7756cc7140, 13), (59591ca4a3a7291dcf9c8150, 12), (5726ef67c751df48e1fcca0d, 11), (5530fbacc751df5ff937dddb, 11), (53f6ff21a3a7290b9a513198, 10), (559c0341c751df4853390be6, 10), (5a37ae5588ee385d46165760, 9), (53ae8af9a3a729...</td>\n",
       "      <td>((545b55e1c751df52de9b6045, 278),)</td>\n",
       "      <td>1</td>\n",
       "    </tr>\n",
       "    <tr>\n",
       "      <th>1606</th>\n",
       "      <td>53ca2be2a3a7294a1ddd7847</td>\n",
       "      <td>((58e53811c751df03df38f42d, 277), (53cdfd2ba3a7292987895b2b, 17), (5862206588ee38254d3f4e5e, 17), (53ca2e62a3a7294a1ddd784b, 9), (5a0b0be188ee3871db07ce4e, 5), (559390f9c751df0139a453ba, 5), (582c8978c751df788ec0bb7e, 4), (59591ca4a3a7291dcf9c8150, 4), (559395f1c751df0f51a453b9, 4), (55f134e188ee385f7fa46ec1, 3), (53ca3560a3a7294a1ddd784e, 3), (57343feb88ee3823b0d1b934, 3), (594d1a81c751df02a5b31a33, 3), (5a3a630088ee38031ddf0a1e, 3), (59591f21a3a7291dcf9c8194, 3), (54f63501c751df466f882844,...</td>\n",
       "      <td>((58e53811c751df03df38f42d, 277),)</td>\n",
       "      <td>1</td>\n",
       "    </tr>\n",
       "    <tr>\n",
       "      <th>601</th>\n",
       "      <td>53699576a3a729239d20471b</td>\n",
       "      <td>((5862206588ee38254d3f4e5e, 265), (53699577a3a729239d20471e, 123), (55b0f44088ee3838d13ca28a, 44), (55682fc4c751df5acfe57269, 40), (58dded5688ee385381896373, 40), (599d0f28a3a729783d0f6ce2, 36), (58b97cbea3a7295fa30a2b44, 35), (5624ae8aa3a7294a8e94b27e, 35), (55b0f09388ee3838d73ca288, 35), (58481d25c751df76c2c0bb7e, 30), (5369a228a3a729239d20678b, 26), (5617ad4dc751df6211cdbb49, 26), (542c011d88ee386c3fcb3923, 25), (542bf79488ee386c3ecb3922, 25), (54f32631c751df46a0882844, 25), (542c02e488ee...</td>\n",
       "      <td>((5862206588ee38254d3f4e5e, 265),)</td>\n",
       "      <td>1</td>\n",
       "    </tr>\n",
       "    <tr>\n",
       "      <th>1778</th>\n",
       "      <td>545b55e1c751df52de9b6045</td>\n",
       "      <td>((5809e241c751df2646c562c5, 260), (59591ca4a3a7291dcf9c8150, 224), (5862206588ee38254d3f4e5e, 186), (5530fbacc751df5ff937dddb, 133), (548ab97ec751df0f384120e7, 81), (586a824588ee3835ec3f4e61, 65), (59b0020ec751df07d5f13bcf, 58), (5808de39c751df1e0679df72, 51), (596ff4b9b595082d11c49694, 38), (58dcc236c751df4ecbb0235f, 38), (54de1e8fc751df388646738b, 38), (54903bfac751df244d6accbc, 33), (57343feb88ee3823b0d1b934, 33), (58c984b088ee386cdb1261f3, 31), (58e5924b88ee3802ca255566, 31), (554210a9c7...</td>\n",
       "      <td>((5809e241c751df2646c562c5, 260), (59591ca4a3a7291dcf9c8150, 224), (5862206588ee38254d3f4e5e, 186))</td>\n",
       "      <td>3</td>\n",
       "    </tr>\n",
       "    <tr>\n",
       "      <th>5110</th>\n",
       "      <td>58b97cbea3a7295fa30a2b44</td>\n",
       "      <td>((599d0f28a3a729783d0f6ce2, 214), (58dded5688ee385381896373, 20), (59b0020ec751df07d5f13bcf, 19), (58e5924b88ee3802ca255566, 16), (5971fbe588ee38523260fa5d, 16), (58e53811c751df03df38f42d, 14), (5a2e6517c751df0874ef6bc7, 13), (59cb63c7c751df02bde82986, 12), (5a335931b595087a3f601d60, 10), (58c98b1888ee38770950152b, 8), (58c984b088ee386cdb1261f3, 7), (5a4651eb88ee380bb9eff81e, 7), (58de0740c751df5ececb7334, 7), (5a2fb5dfc751df4658b08d28, 7), (5a315927c751df1c29a2f49a, 7), (59df6cb7c751df4bd38...</td>\n",
       "      <td>((599d0f28a3a729783d0f6ce2, 214),)</td>\n",
       "      <td>1</td>\n",
       "    </tr>\n",
       "    <tr>\n",
       "      <th>500</th>\n",
       "      <td>536993f2a3a729239d204313</td>\n",
       "      <td>((5862206588ee38254d3f4e5e, 194), (548acaf2c751df1eac4120e7, 143), (53699d0ea3a729239d205b2e, 89), (53699434a3a729239d2043b3, 28), (53699576a3a729239d20471b, 28), (53ae94cca3a729709f56d518, 27), (58c984b088ee386cdb1261f3, 26), (5369a052a3a729239d206338, 22), (536998fda3a729239d2050f8, 21), (5889d03fa3a72974cbf0d5b1, 19), (56ba2ce488ee382c284b6d5b, 18), (59b0020ec751df07d5f13bcf, 18), (542bf79488ee386c3ecb3922, 18), (5a355c7bc751df422970a9d1, 17), (542c02e488ee386c40cb3922, 17), (542c011d88ee...</td>\n",
       "      <td>((5862206588ee38254d3f4e5e, 194), (548acaf2c751df1eac4120e7, 143), (53699d0ea3a729239d205b2e, 89))</td>\n",
       "      <td>3</td>\n",
       "    </tr>\n",
       "    <tr>\n",
       "      <th>1482</th>\n",
       "      <td>536c47bfa3a72933d8d1b3a6</td>\n",
       "      <td>((5890bf73a3a72974c1f0dc84, 193), (5862206588ee38254d3f4e5e, 20), (59b0020ec751df07d5f13bcf, 15), (536c47d9a3a72933d8d1b3b2, 12), (5530fbacc751df5ff937dddb, 12), (53ba4c07a3a729219b7bead3, 11), (5890bf74a3a72974c1f0dc86, 10), (586a824588ee3835ec3f4e61, 10), (545b55e1c751df52de9b6045, 9), (58e53811c751df03df38f42d, 8), (548acaf2c751df1eac4120e7, 8), (5448d3e0c751df01f85d0572, 7), (582e1e2888ee386b7ac65bb4, 7), (562f498ac751df31f1dcc3f1, 7), (567bba4dc751df4361c664bc, 6), (5617ad4dc751df6211cd...</td>\n",
       "      <td>((5890bf73a3a72974c1f0dc84, 193),)</td>\n",
       "      <td>1</td>\n",
       "    </tr>\n",
       "  </tbody>\n",
       "</table>\n",
       "</div>"
      ],
      "text/plain": [
       "                     dataset_1  \\\n",
       "5172  58e5924b88ee3802ca255566   \n",
       "3111  55f6a4d7c751df136147eab3   \n",
       "324   536991c5a3a729239d203d4b   \n",
       "1002  5369995ba3a729239d205221   \n",
       "1606  53ca2be2a3a7294a1ddd7847   \n",
       "601   53699576a3a729239d20471b   \n",
       "1778  545b55e1c751df52de9b6045   \n",
       "5110  58b97cbea3a7295fa30a2b44   \n",
       "500   536993f2a3a729239d204313   \n",
       "1482  536c47bfa3a72933d8d1b3a6   \n",
       "\n",
       "                                                                                                                                                                                                                                                                                                                                                                                                                                                                                                         all_co_occurence  \\\n",
       "5172  ((59b0020ec751df07d5f13bcf, 1074), (plan-cadastral-informatise-pci, 246), (59d4602da3a7291992b1ebc1, 45), (59d2c07888ee3814dbdaf501, 30), (5a1dd4e5c751df02b116a0d6, 26), (599d0f28a3a729783d0f6ce2, 16), (5a2e6517c751df0874ef6bc7, 8), (new, 7), (5a3bb760c751df27e375554a, 7), (5a1572c9c751df784fb348fd, 6), (5971fbe588ee38523260fa5d, 6), (5a4651eb88ee380bb9eff81e, 5), (5a3cc6b588ee3858d95178fc, 4), (5a3ce59388ee38047e40bd58, 4), (5959286ea3a7291dcf9c8245, 4), (591564e4c751df0d4ed32b0d, 4), (5a31...   \n",
       "3111  ((57d6ded9c751df275ab8181a, 459), (troncons-de-cours-deau-vigicrues-simplifies-avec-niveau-de-vigilance-crues, 101), (5862206588ee38254d3f4e5e, 43), (56175c82c751df068dcdbb4e, 28), (58b97cbea3a7295fa30a2b44, 11), (599d0f28a3a729783d0f6ce2, 11), (597b450ac751df06dd254d46, 11), (5624ae8aa3a7294a8e94b27e, 8), (5624b5a3a3a72928ca32aa4c, 8), (57ebdfc7c751df448f79df72, 7), (58dded5688ee385381896373, 6), (58e53811c751df03df38f42d, 6), (5889d044a3a72974cbf0d5bd, 5), (5889d044a3a72974c1f0d60b, 5), (5...   \n",
       "324   ((545b55e1c751df52de9b6045, 398), (59591ca4a3a7291dcf9c8150, 259), (5369995ba3a729239d205221, 29), (5862206588ee38254d3f4e5e, 26), (548ab97ec751df0f384120e7, 25), (5809e241c751df2646c562c5, 25), (53699d0ea3a729239d205b2e, 20), (58c984b088ee386cdb1261f3, 19), (53699cfba3a729239d205af9, 18), (5369997ea3a729239d205279, 17), (536991c5a3a729239d203d51, 17), (553f31fec751df67c0e96a3b, 17), (53699233a3a729239d203e69, 17), (5878ee30a3a7291484cac7d4, 15), (53699580a3a729239d204738, 11), (5878ee41a3a7...   \n",
       "1002  ((545b55e1c751df52de9b6045, 278), (5878ee5fa3a7291485cac7ed, 52), (5809e241c751df2646c562c5, 33), (5862206588ee38254d3f4e5e, 31), (53699d0ea3a729239d205b2e, 30), (548ab97ec751df0f384120e7, 28), (5661a04088ee3863e240355f, 16), (53699fe4a3a729239d206227, 13), (56ebf05fc751df7756cc7140, 13), (59591ca4a3a7291dcf9c8150, 12), (5726ef67c751df48e1fcca0d, 11), (5530fbacc751df5ff937dddb, 11), (53f6ff21a3a7290b9a513198, 10), (559c0341c751df4853390be6, 10), (5a37ae5588ee385d46165760, 9), (53ae8af9a3a729...   \n",
       "1606  ((58e53811c751df03df38f42d, 277), (53cdfd2ba3a7292987895b2b, 17), (5862206588ee38254d3f4e5e, 17), (53ca2e62a3a7294a1ddd784b, 9), (5a0b0be188ee3871db07ce4e, 5), (559390f9c751df0139a453ba, 5), (582c8978c751df788ec0bb7e, 4), (59591ca4a3a7291dcf9c8150, 4), (559395f1c751df0f51a453b9, 4), (55f134e188ee385f7fa46ec1, 3), (53ca3560a3a7294a1ddd784e, 3), (57343feb88ee3823b0d1b934, 3), (594d1a81c751df02a5b31a33, 3), (5a3a630088ee38031ddf0a1e, 3), (59591f21a3a7291dcf9c8194, 3), (54f63501c751df466f882844,...   \n",
       "601   ((5862206588ee38254d3f4e5e, 265), (53699577a3a729239d20471e, 123), (55b0f44088ee3838d13ca28a, 44), (55682fc4c751df5acfe57269, 40), (58dded5688ee385381896373, 40), (599d0f28a3a729783d0f6ce2, 36), (58b97cbea3a7295fa30a2b44, 35), (5624ae8aa3a7294a8e94b27e, 35), (55b0f09388ee3838d73ca288, 35), (58481d25c751df76c2c0bb7e, 30), (5369a228a3a729239d20678b, 26), (5617ad4dc751df6211cdbb49, 26), (542c011d88ee386c3fcb3923, 25), (542bf79488ee386c3ecb3922, 25), (54f32631c751df46a0882844, 25), (542c02e488ee...   \n",
       "1778  ((5809e241c751df2646c562c5, 260), (59591ca4a3a7291dcf9c8150, 224), (5862206588ee38254d3f4e5e, 186), (5530fbacc751df5ff937dddb, 133), (548ab97ec751df0f384120e7, 81), (586a824588ee3835ec3f4e61, 65), (59b0020ec751df07d5f13bcf, 58), (5808de39c751df1e0679df72, 51), (596ff4b9b595082d11c49694, 38), (58dcc236c751df4ecbb0235f, 38), (54de1e8fc751df388646738b, 38), (54903bfac751df244d6accbc, 33), (57343feb88ee3823b0d1b934, 33), (58c984b088ee386cdb1261f3, 31), (58e5924b88ee3802ca255566, 31), (554210a9c7...   \n",
       "5110  ((599d0f28a3a729783d0f6ce2, 214), (58dded5688ee385381896373, 20), (59b0020ec751df07d5f13bcf, 19), (58e5924b88ee3802ca255566, 16), (5971fbe588ee38523260fa5d, 16), (58e53811c751df03df38f42d, 14), (5a2e6517c751df0874ef6bc7, 13), (59cb63c7c751df02bde82986, 12), (5a335931b595087a3f601d60, 10), (58c98b1888ee38770950152b, 8), (58c984b088ee386cdb1261f3, 7), (5a4651eb88ee380bb9eff81e, 7), (58de0740c751df5ececb7334, 7), (5a2fb5dfc751df4658b08d28, 7), (5a315927c751df1c29a2f49a, 7), (59df6cb7c751df4bd38...   \n",
       "500   ((5862206588ee38254d3f4e5e, 194), (548acaf2c751df1eac4120e7, 143), (53699d0ea3a729239d205b2e, 89), (53699434a3a729239d2043b3, 28), (53699576a3a729239d20471b, 28), (53ae94cca3a729709f56d518, 27), (58c984b088ee386cdb1261f3, 26), (5369a052a3a729239d206338, 22), (536998fda3a729239d2050f8, 21), (5889d03fa3a72974cbf0d5b1, 19), (56ba2ce488ee382c284b6d5b, 18), (59b0020ec751df07d5f13bcf, 18), (542bf79488ee386c3ecb3922, 18), (5a355c7bc751df422970a9d1, 17), (542c02e488ee386c40cb3922, 17), (542c011d88ee...   \n",
       "1482  ((5890bf73a3a72974c1f0dc84, 193), (5862206588ee38254d3f4e5e, 20), (59b0020ec751df07d5f13bcf, 15), (536c47d9a3a72933d8d1b3b2, 12), (5530fbacc751df5ff937dddb, 12), (53ba4c07a3a729219b7bead3, 11), (5890bf74a3a72974c1f0dc86, 10), (586a824588ee3835ec3f4e61, 10), (545b55e1c751df52de9b6045, 9), (58e53811c751df03df38f42d, 8), (548acaf2c751df1eac4120e7, 8), (5448d3e0c751df01f85d0572, 7), (582e1e2888ee386b7ac65bb4, 7), (562f498ac751df31f1dcc3f1, 7), (567bba4dc751df4361c664bc, 6), (5617ad4dc751df6211cd...   \n",
       "\n",
       "                                                                                        best_co_occurence  \\\n",
       "5172                                                                  ((59b0020ec751df07d5f13bcf, 1074),)   \n",
       "3111                                                                   ((57d6ded9c751df275ab8181a, 459),)   \n",
       "324                                    ((545b55e1c751df52de9b6045, 398), (59591ca4a3a7291dcf9c8150, 259))   \n",
       "1002                                                                   ((545b55e1c751df52de9b6045, 278),)   \n",
       "1606                                                                   ((58e53811c751df03df38f42d, 277),)   \n",
       "601                                                                    ((5862206588ee38254d3f4e5e, 265),)   \n",
       "1778  ((5809e241c751df2646c562c5, 260), (59591ca4a3a7291dcf9c8150, 224), (5862206588ee38254d3f4e5e, 186))   \n",
       "5110                                                                   ((599d0f28a3a729783d0f6ce2, 214),)   \n",
       "500    ((5862206588ee38254d3f4e5e, 194), (548acaf2c751df1eac4120e7, 143), (53699d0ea3a729239d205b2e, 89))   \n",
       "1482                                                                   ((5890bf73a3a72974c1f0dc84, 193),)   \n",
       "\n",
       "      n_best_co_occurence  \n",
       "5172                    1  \n",
       "3111                    1  \n",
       "324                     2  \n",
       "1002                    1  \n",
       "1606                    1  \n",
       "601                     1  \n",
       "1778                    3  \n",
       "5110                    1  \n",
       "500                     3  \n",
       "1482                    1  "
      ]
     },
     "execution_count": 24,
     "metadata": {},
     "output_type": "execute_result"
    }
   ],
   "source": [
    "pd.set_option('display.max_colwidth', 500)\n",
    "paired_df_grouped['n_best_co_occurence'] = paired_df_grouped.best_co_occurence.apply(lambda x: len(x))\n",
    "paired_df_grouped[['dataset_1', 'all_co_occurence', 'best_co_occurence', 'n_best_co_occurence']].head(10)"
   ]
  },
  {
   "cell_type": "code",
   "execution_count": 25,
   "metadata": {
    "collapsed": false
   },
   "outputs": [
    {
     "data": {
      "text/plain": [
       "<matplotlib.axes._subplots.AxesSubplot at 0x15c8e7eb8>"
      ]
     },
     "execution_count": 25,
     "metadata": {},
     "output_type": "execute_result"
    },
    {
     "data": {
      "image/png": "[encoded data removed]",
      "text/plain": [
       "<matplotlib.figure.Figure at 0x15c901f98>"
      ]
     },
     "metadata": {},
     "output_type": "display_data"
    }
   ],
   "source": [
    "paired_df_grouped.n_best_co_occurence.hist(bins=20)"
   ]
  },
  {
   "cell_type": "code",
   "execution_count": 26,
   "metadata": {
    "collapsed": false
   },
   "outputs": [
    {
     "data": {
      "text/plain": [
       "count    6745.000000\n",
       "mean        3.843884\n",
       "std         3.220417\n",
       "min         1.000000\n",
       "25%         1.000000\n",
       "50%         2.000000\n",
       "75%         7.000000\n",
       "max         9.000000\n",
       "Name: n_best_co_occurence, dtype: float64"
      ]
     },
     "execution_count": 26,
     "metadata": {},
     "output_type": "execute_result"
    }
   ],
   "source": [
    "paired_df_grouped.n_best_co_occurence.describe()"
   ]
  },
  {
   "cell_type": "code",
   "execution_count": 27,
   "metadata": {
    "collapsed": false
   },
   "outputs": [],
   "source": [
    "pd.set_option('display.max_colwidth', 100)"
   ]
  },
  {
   "cell_type": "markdown",
   "metadata": {},
   "source": [
    "# Export\n",
    "\n",
    "Let's export all file to github repo.\n",
    "https://github.com/etalab/datasets_reco"
   ]
  },
  {
   "cell_type": "raw",
   "metadata": {
    "collapsed": false,
    "scrolled": true
   },
   "source": [
    "# Dict of all co_occurences\n",
    "datasets_co_occurence = paired_df_grouped[['dataset_1', 'best_co_occurence']].set_index('dataset_1').to_dict()['best_co_occurence']"
   ]
  },
  {
   "cell_type": "markdown",
   "metadata": {},
   "source": [
    "We would like to show only co_occurence of top50 datasets in the following format :\n",
    "\n",
    "`{dataset -> [(co_dataset, n_co_occurence), (..., ...)]}`\n",
    "\n",
    "\n",
    "We first need to import it. \n",
    "\n",
    "**Note: Top 50 visited dataset is computed in `/most_visited_dataset.ipynd`. Run it if you want to refresh it!**"
   ]
  },
  {
   "cell_type": "code",
   "execution_count": 29,
   "metadata": {
    "collapsed": false,
    "scrolled": false
   },
   "outputs": [],
   "source": [
    "# Import top50 datasets\n",
    "top50 = pd.read_csv('../top50visited.csv', sep=';')\n",
    "# Remove URL form top50 (optional)\n",
    "top50['dataset_slug'] = [x.split('www.data.gouv.fr/datasets/')[1] for x in top50.dataset]\n",
    "\n",
    "top50['dataset_id'] = top50.dataset_slug.map(datasets_slug_id)"
   ]
  },
  {
   "cell_type": "markdown",
   "metadata": {},
   "source": [
    "**Check if every slug has an id.**\n",
    "\n",
    "If not, compute a [Levenshtein distance](https://fr.wikipedia.org/wiki/Distance_de_Levenshtein) to find the closest slug."
   ]
  },
  {
   "cell_type": "code",
   "execution_count": 116,
   "metadata": {
    "collapsed": false,
    "scrolled": true
   },
   "outputs": [],
   "source": [
    "slug_without_id = top50.loc[top50.dataset_id.isnull()]\n",
    "\n",
    "if len(slug_without_id) > 0 :\n",
    "    for slug in slug_without_id.dataset_slug:\n",
    "        levenshtein_min_idx = datasets_ref.slug.apply(lambda x: editdistance.eval(x, slug)).idxmin()\n",
    "        best_title = datasets_ref.ix[levenshtein_min_idx].title\n",
    "        best_id = datasets_ref.ix[levenshtein_min_idx].id\n",
    "        print(\"Best correspondance for slug \\\"%s\\\":\\n-> %s (id: %s) \" %\n",
    "              (slug, best_title , best_id))\n",
    "        # Fill missing id with the closest slug's id.\n",
    "        mask = (top50.dataset_slug == slug)\n",
    "        top50.loc[mask, 'dataset_id'] = best_id"
   ]
  },
  {
   "cell_type": "code",
   "execution_count": 118,
   "metadata": {
    "collapsed": false,
    "scrolled": true
   },
   "outputs": [],
   "source": [
    "assert top50.dataset_id.isnull().sum() == 0"
   ]
  },
  {
   "cell_type": "code",
   "execution_count": 120,
   "metadata": {
    "collapsed": false
   },
   "outputs": [],
   "source": [
    "# Keep only top50 datasets in dict (and convert int to str)\n",
    "co_occurence_on_top50 = {ds: [(el[0], str(el[1])) for el in datasets_co_occurence[ds]] for ds in top50.dataset_id.tolist()}"
   ]
  },
  {
   "cell_type": "code",
   "execution_count": 121,
   "metadata": {
    "collapsed": true
   },
   "outputs": [],
   "source": [
    "# Dump to json in datasets_reco repository.\n",
    "# https://github.com/etalab/datasets_reco\n",
    "\n",
    "for k, v in co_occurence_on_top50.items():\n",
    "    ds_json = {k: v}\n",
    "    filename = '../../datasets_reco/reco_json/{}.json'.format(k)\n",
    "    with open(filename, 'w') as f:\n",
    "        json.dump(ds_json, f)"
   ]
  },
  {
   "cell_type": "markdown",
   "metadata": {},
   "source": [
    "### Wanna see slugs instead of ids ?"
   ]
  },
  {
   "cell_type": "code",
   "execution_count": 122,
   "metadata": {
    "collapsed": false,
    "scrolled": true
   },
   "outputs": [],
   "source": [
    "co_occurence_on_top50_slug = {datasets_id_slug.get(k): [(datasets_id_slug.get(el[0]), el[1]) for el in v] for k, v in co_occurence_on_top50.items()}"
   ]
  },
  {
   "cell_type": "code",
   "execution_count": 123,
   "metadata": {
    "collapsed": false
   },
   "outputs": [
    {
     "data": {
      "text/plain": [
       "{'adresse-et-geolocalisation-des-etablissements-denseignement-du-premier-et-second-degres': [('base-sirene-des-entreprises-et-de-leurs-etablissements-siren-siret',\n",
       "   '145')],\n",
       " 'associations': [('repertoire-national-des-associations-rna', '277')],\n",
       " 'associations-reconnues-d-utilite-publique': [('repertoire-national-des-associations-rna',\n",
       "   '177'),\n",
       "  ('fondations-reconnues-d-utilite-publique', '109')],\n",
       " 'ban-base-adresse-nationale': [('base-sirene-des-entreprises-et-de-leurs-etablissements-siren-siret',\n",
       "   '163')],\n",
       " 'base-d-adresses-nationale-ouverte-bano': [('ban-base-adresse-nationale',\n",
       "   '86'),\n",
       "  ('base-officielle-des-codes-postaux', '61')],\n",
       " 'base-de-donnees-accidents-corporels-de-la-circulation': [('base-de-donnees-des-accidents-corporels-de-la-circulation',\n",
       "   '92')],\n",
       " 'base-de-donnees-publique-des-medicaments-base-officielle': [('transparence-sante-1',\n",
       "   '45')],\n",
       " 'base-officielle-des-codes-postaux': [('geofla-r', '260'),\n",
       "  ('correspondance-code-insee-code-postal', '224'),\n",
       "  ('base-sirene-des-entreprises-et-de-leurs-etablissements-siren-siret',\n",
       "   '186')],\n",
       " 'base-permanente-des-equipements-1': [('base-sirene-des-entreprises-et-de-leurs-etablissements-siren-siret',\n",
       "   '172')],\n",
       " 'base-sirene-des-entreprises-et-de-leurs-etablissements-siren-siret': [('entreprises-immatriculees-en-2017',\n",
       "   '181'),\n",
       "  ('repertoire-national-des-associations-rna', '179'),\n",
       "  ('chiffres-cles-2017', '166'),\n",
       "  ('cadastre', '152')],\n",
       " 'cadastre': [(None, '190')],\n",
       " 'carte-de-comptages-oise': [('trafic-sur-rd-oise', '113')],\n",
       " 'carte-des-departements-2': [('cadastre', '19')],\n",
       " 'chiffres-cles-2017': [('cadastre', '18')],\n",
       " 'contours-des-departements-francais-issus-d-openstreetmap': [('decoupage-administratif-communal-francais-issu-d-openstreetmap',\n",
       "   '166'),\n",
       "  ('carte-des-departements-2', '147'),\n",
       "  ('contours-des-regions-francaises-sur-openstreetmap', '125')],\n",
       " 'contours-des-regions-francaises-sur-openstreetmap': [('decoupage-administratif-communal-francais-issu-d-openstreetmap',\n",
       "   '114')],\n",
       " 'correspondance-code-insee-code-postal': [('base-officielle-des-codes-postaux-1',\n",
       "   '4')],\n",
       " 'correspondance-entre-les-codes-postaux-et-codes-insee-des-communes-francaises': [('base-officielle-des-codes-postaux',\n",
       "   '398'),\n",
       "  ('correspondance-code-insee-code-postal', '259')],\n",
       " 'data-insee-sur-les-communes': [('balances-comptables-des-communes', '26')],\n",
       " 'decoupage-administratif-communal-francais-issu-d-openstreetmap': [('geofla-limites-des-communes-en-france',\n",
       "   '177'),\n",
       "  ('limites-administratives-francaises-issues-d-openstreetmap', '162'),\n",
       "  ('base-officielle-des-codes-postaux', '143')],\n",
       " 'donnees-openstreetmap-integrales-de-france-metropolitaine': [('limites-administratives-francaises-issues-d-openstreetmap',\n",
       "   '67'),\n",
       "  ('contours-osm-des-cantons-electoraux-departementaux-2015', '58'),\n",
       "  ('base-sirene-des-entreprises-et-de-leurs-etablissements-siren-siret', '58'),\n",
       "  ('contours-geographiques-des-academies', '56')],\n",
       " 'entreprises-immatriculees-en-2017': [('chiffres-cles-2017', '214')],\n",
       " 'faits-constates-mensuels-par-departements': [('base-sirene-des-entreprises-et-de-leurs-etablissements-siren-siret',\n",
       "   '265')],\n",
       " 'fichier-consolide-des-bornes-de-recharge-pour-vehicules-electriques-irve': [('cadastre',\n",
       "   '99'),\n",
       "  ('base-sirene-des-entreprises-et-de-leurs-etablissements-siren-siret', '78'),\n",
       "  ('referentiel-de-donnees-marches-publics', '71'),\n",
       "  ('statistiques-dusage-de-lapi-de-geocodage-adresse-data-gouv-fr', '70')],\n",
       " 'fichier-des-prenoms-edition-2016': [('repertoire-des-logements-locatifs-des-bailleurs-sociaux-rpls',\n",
       "   '19')],\n",
       " 'fichier-fantoir-des-voies-et-lieux-dits': [('base-officielle-des-codes-postaux',\n",
       "   '38'),\n",
       "  ('pci-vecteur-plan-cadastral-informatise', '38'),\n",
       "  ('base-d-adresses-nationale-ouverte-bano', '36'),\n",
       "  ('cadastre', '31'),\n",
       "  ('ban-base-adresse-nationale', '31'),\n",
       "  ('index-des-rues', '26')],\n",
       " 'finess-extraction-du-fichier-des-etablissements': [('base-sirene-des-entreprises-et-de-leurs-etablissements-siren-siret',\n",
       "   '113')],\n",
       " 'geofla-limites-des-communes-en-france': [('geofla-r', '65')],\n",
       " 'geofla-r': [('base-sirene-des-entreprises-et-de-leurs-etablissements-siren-siret',\n",
       "   '29')],\n",
       " 'hauteurs-deau-et-debits-des-cours-deau-observes-en-temps-reel-aux-stations-du-reseau-vigicrues': [('base-sirene-des-entreprises-et-de-leurs-etablissements-siren-siret',\n",
       "   '71'),\n",
       "  (None, '56')],\n",
       " 'immeubles-proteges-au-titre-des-monuments-historiques': [('corpus-darchives-numerisees-des-archives-nationales',\n",
       "   '10'),\n",
       "  ('frequentation-des-musees-de-france', '10')],\n",
       " 'impots-locaux': [('base-sirene-des-entreprises-et-de-leurs-etablissements-siren-siret',\n",
       "   '58')],\n",
       " 'limites-administratives-francaises-issues-d-openstreetmap': [('contours-osm-des-cantons-electoraux-departementaux-2015',\n",
       "   '68'),\n",
       "  ('contours-geographiques-des-academies', '65'),\n",
       "  ('geofla-limites-des-communes-en-france', '63'),\n",
       "  ('base-sirene-des-entreprises-et-de-leurs-etablissements-siren-siret', '57'),\n",
       "  ('stations-et-gares-de-metro-rer-et-tramway-de-la-region-ile-de-france',\n",
       "   '44')],\n",
       " 'liste-et-localisation-des-musees-de-france': [('base-sirene-des-entreprises-et-de-leurs-etablissements-siren-siret',\n",
       "   '68'),\n",
       "  ('population', '61')],\n",
       " 'liste-publique-des-organismes-de-formation-l-6351-7-1-du-code-du-travail': [('base-sirene-des-entreprises-et-de-leurs-etablissements-siren-siret',\n",
       "   '130')],\n",
       " 'listes-des-communes-geolocalisees-par-regions-departements-circonscriptions-nd': [('base-officielle-des-codes-postaux',\n",
       "   '278')],\n",
       " 'marche-du-travail': [('base-sirene-des-entreprises-et-de-leurs-etablissements-siren-siret',\n",
       "   '194'),\n",
       "  ('base-permanente-des-equipements-1', '143'),\n",
       "  ('population', '89')],\n",
       " 'monuments-historiques-liste-des-immeubles-proteges-au-titre-des-monuments-historiques': [('immeubles-proteges-au-titre-des-monuments-historiques',\n",
       "   '193')],\n",
       " 'pci-vecteur-plan-cadastral-informatise': [('cadastre', '1074')],\n",
       " 'population': [('base-sirene-des-entreprises-et-de-leurs-etablissements-siren-siret',\n",
       "   '179')],\n",
       " 'produits-alimentaires-ingredients-nutrition-labels': [('base-sirene-des-entreprises-et-de-leurs-etablissements-siren-siret',\n",
       "   '104')],\n",
       " 'recensement-des-equipements-sportifs-espaces-et-sites-de-pratiques': [('base-sirene-des-entreprises-et-de-leurs-etablissements-siren-siret',\n",
       "   '69')],\n",
       " 'registre-parcellaire-graphique-2012-contours-des-ilots-culturaux-et-leur-groupe-de-cultures-majorita': [('registre-parcellaire-graphique-rpg-contours-des-ilots-culturaux-et-leur-groupe-de-cultures-majoritaire',\n",
       "   '100')],\n",
       " 'registre-parcellaire-graphique-rpg-contours-des-ilots-culturaux-et-leur-groupe-de-cultures-majoritaire': [('pci-vecteur-plan-cadastral-informatise',\n",
       "   '38'),\n",
       "  ('referentiel-a-grande-echelle-rge', '37')],\n",
       " 'repertoire-des-logements-locatifs-des-bailleurs-sociaux-rpls': [(None,\n",
       "   '19')],\n",
       " 'repertoire-national-des-associations-rna': [('pci-vecteur-plan-cadastral-informatise',\n",
       "   '24')],\n",
       " 'service-public-fr-annuaire-de-l-administration-base-de-donnees-locales': [('base-sirene-des-entreprises-et-de-leurs-etablissements-siren-siret',\n",
       "   '98'),\n",
       "  ('base-officielle-des-codes-postaux', '84'),\n",
       "  ('ban-base-adresse-nationale', '69'),\n",
       "  ('referentiel-de-lorganisation-administrative-de-letat', '63')],\n",
       " 'troncons-de-cours-deau-vigicrues-simplifies-avec-niveau-de-vigilance-crues-2': [('hauteurs-deau-et-debits-des-cours-deau-observes-en-temps-reel-aux-stations-du-reseau-vigicrues',\n",
       "   '459')],\n",
       " 'zone-daide-a-finalite-regionale-afr': [('zones-daide-a-finalite-regionale-afr-2014-2020',\n",
       "   '27')]}"
      ]
     },
     "execution_count": 123,
     "metadata": {},
     "output_type": "execute_result"
    }
   ],
   "source": [
    "co_occurence_on_top50_slug"
   ]
  },
  {
   "cell_type": "markdown",
   "metadata": {},
   "source": [
    "## Build a graph.\n",
    "\n",
    "Now it would be ideal to build a graph using networkX of all linked datasets form top50 (to begin with).\n",
    "\n",
    "To do, so we'll first need to build 2 dicts :\n",
    "\n",
    "1. A dict of correspondance : dsA -> [dsB, dsC, dsD]\n",
    "2. A dict of weight : dsA -> [1, 4, 8]\n"
   ]
  },
  {
   "cell_type": "code",
   "execution_count": 124,
   "metadata": {
    "collapsed": false
   },
   "outputs": [],
   "source": [
    "full_weight_dict = {}\n",
    "for key, value in co_occurence_on_top50_slug.items():\n",
    "    for tup in value:\n",
    "        full_weight_dict[key]={tup[0]: {'weight':tup[1]}}"
   ]
  },
  {
   "cell_type": "code",
   "execution_count": 125,
   "metadata": {
    "collapsed": false
   },
   "outputs": [],
   "source": [
    "co_occ_by_list = []\n",
    "G2=nx.Graph()\n",
    "for key, value in co_occurence_on_top50_slug.items():\n",
    "    for tup in value:\n",
    "        G2.add_edge(key, tup[0])\n",
    "        G2[key][tup[0]]['weight']=tup[1]\n"
   ]
  },
  {
   "cell_type": "code",
   "execution_count": 126,
   "metadata": {
    "collapsed": false
   },
   "outputs": [],
   "source": [
    "nx.write_gexf(G2, '../datasets_graphs/graph_NEW.gexf')"
   ]
  },
  {
   "cell_type": "code",
   "execution_count": 127,
   "metadata": {
    "collapsed": false,
    "scrolled": true
   },
   "outputs": [
    {
     "data": {
      "image/png": "[encoded data removed]",
      "text/plain": [
       "<matplotlib.figure.Figure at 0x15cc075c0>"
      ]
     },
     "metadata": {},
     "output_type": "display_data"
    }
   ],
   "source": [
    "plt.figure(figsize=(15,15))\n",
    "nx.draw_networkx(G2, with_labels=True, node_size=10)"
   ]
  }
 ],
 "metadata": {
  "kernelspec": {
   "display_name": "Python 3",
   "language": "python",
   "name": "python3"
  },
  "language_info": {
   "codemirror_mode": {
    "name": "ipython",
    "version": 3
   },
   "file_extension": ".py",
   "mimetype": "text/x-python",
   "name": "python",
   "nbconvert_exporter": "python",
   "pygments_lexer": "ipython3",
   "version": "3.6.0"
  }
 },
 "nbformat": 4,
 "nbformat_minor": 2
}
