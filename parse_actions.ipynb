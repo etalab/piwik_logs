{
 "cells": [
  {
   "cell_type": "code",
   "execution_count": 2,
   "metadata": {},
   "outputs": [],
   "source": [
    "import json\n",
    "from collections import defaultdict, Counter\n",
    "import pickle\n",
    "import re\n",
    "\n",
    "import urllib.parse\n",
    "import pandas as pd\n",
    "import numpy as np\n",
    "from matplotlib import pyplot as plt\n",
    "%matplotlib inline"
   ]
  },
  {
   "cell_type": "markdown",
   "metadata": {},
   "source": [
    "# Slug <-> id"
   ]
  },
  {
   "cell_type": "code",
   "execution_count": 2,
   "metadata": {
    "collapsed": true
   },
   "outputs": [],
   "source": [
    "dataset_info = pd.read_csv('datasets-2017-06-21-19-43.csv', sep=';')"
   ]
  },
  {
   "cell_type": "code",
   "execution_count": 3,
   "metadata": {},
   "outputs": [
    {
     "data": {
      "text/plain": [
       "25794"
      ]
     },
     "execution_count": 3,
     "metadata": {},
     "output_type": "execute_result"
    }
   ],
   "source": [
    "len(dataset_info)"
   ]
  },
  {
   "cell_type": "code",
   "execution_count": 4,
   "metadata": {
    "collapsed": true
   },
   "outputs": [],
   "source": [
    "id2slug = {r[1]: r[3] for r in dataset_info.itertuples()}\n",
    "slug2id = {r[3]: r[1] for r in dataset_info.itertuples()}"
   ]
  },
  {
   "cell_type": "code",
   "execution_count": 5,
   "metadata": {
    "collapsed": true
   },
   "outputs": [],
   "source": [
    "datasets = list(dataset_info.id)"
   ]
  },
  {
   "cell_type": "code",
   "execution_count": 6,
   "metadata": {
    "collapsed": true
   },
   "outputs": [],
   "source": [
    "datasets_index = {dataset: i for i, dataset in enumerate(datasets)}\n",
    "datasets_set = set(datasets)\n",
    "slugs_set = set(slug2id.keys())"
   ]
  },
  {
   "cell_type": "markdown",
   "metadata": {},
   "source": [
    "# Load piwik logs (deduplicated)\n",
    "\n",
    "Group by visit"
   ]
  },
  {
   "cell_type": "code",
   "execution_count": 3,
   "metadata": {
    "collapsed": true
   },
   "outputs": [],
   "source": [
    "with open('keywords.json', 'r') as f:\n",
    "    data = json.load(f)"
   ]
  },
  {
   "cell_type": "code",
   "execution_count": 4,
   "metadata": {},
   "outputs": [
    {
     "data": {
      "text/plain": [
       "631065"
      ]
     },
     "execution_count": 4,
     "metadata": {},
     "output_type": "execute_result"
    }
   ],
   "source": [
    "len(data)"
   ]
  },
  {
   "cell_type": "code",
   "execution_count": 10,
   "metadata": {
    "collapsed": true
   },
   "outputs": [],
   "source": [
    "searches_by_visit = defaultdict(list)\n",
    "for search in data:\n",
    "    idVisit = search['idVisit']\n",
    "    searches_by_visit[idVisit].append(search)"
   ]
  },
  {
   "cell_type": "code",
   "execution_count": 11,
   "metadata": {},
   "outputs": [
    {
     "data": {
      "text/plain": [
       "154253"
      ]
     },
     "execution_count": 11,
     "metadata": {},
     "output_type": "execute_result"
    }
   ],
   "source": [
    "len(searches_by_visit)"
   ]
  },
  {
   "cell_type": "code",
   "execution_count": 12,
   "metadata": {},
   "outputs": [
    {
     "name": "stdout",
     "output_type": "stream",
     "text": [
      "[{'idVisit': '4778378', 'url': '', 'date': '2017-01-05', 'keyword': 'sirene', 'actions': [{'idVisit': '4778378', 'date': '2017-01-05', 'url': 'https://www.data.gouv.fr/fr/datasets/base-sirene-des-entreprises-et-de-leurs-etablissements-siren-siret/', 'type': 'action'}, {'idVisit': '4778378', 'date': '2017-01-05', 'url': 'http://files.data.gouv.fr/sirene/sirene_201612_L_M.zip', 'type': 'download'}], 'type': 'search'}]\n"
     ]
    }
   ],
   "source": [
    "for idVisit, searches in searches_by_visit.items():\n",
    "    print(searches)\n",
    "    break"
   ]
  },
  {
   "cell_type": "code",
   "execution_count": null,
   "metadata": {
    "collapsed": true
   },
   "outputs": [],
   "source": []
  },
  {
   "cell_type": "code",
   "execution_count": null,
   "metadata": {
    "collapsed": true
   },
   "outputs": [],
   "source": []
  },
  {
   "cell_type": "code",
   "execution_count": null,
   "metadata": {
    "collapsed": true
   },
   "outputs": [],
   "source": []
  },
  {
   "cell_type": "code",
   "execution_count": null,
   "metadata": {
    "collapsed": true
   },
   "outputs": [],
   "source": []
  },
  {
   "cell_type": "markdown",
   "metadata": {},
   "source": [
    "# Keyword list"
   ]
  },
  {
   "cell_type": "code",
   "execution_count": null,
   "metadata": {
    "collapsed": true
   },
   "outputs": [],
   "source": [
    "keyword_count = defaultdict(int)\n",
    "for search in data:\n",
    "    keyword = search['keyword']\n",
    "    keyword_count[keyword] += 1"
   ]
  },
  {
   "cell_type": "code",
   "execution_count": null,
   "metadata": {
    "collapsed": true
   },
   "outputs": [],
   "source": [
    "len(keyword_count)"
   ]
  },
  {
   "cell_type": "code",
   "execution_count": null,
   "metadata": {
    "collapsed": true
   },
   "outputs": [],
   "source": [
    "counts = [couple[1] for couple in keyword_count.items()]\n",
    "max(counts)\n",
    "count_histogram = np.zeros((max(counts) + 1))\n",
    "for count in counts:\n",
    "    count_histogram[count] += 1"
   ]
  },
  {
   "cell_type": "code",
   "execution_count": null,
   "metadata": {
    "collapsed": true
   },
   "outputs": [],
   "source": [
    "plt.plot(count_histogram[:10])"
   ]
  },
  {
   "cell_type": "code",
   "execution_count": null,
   "metadata": {
    "collapsed": true
   },
   "outputs": [],
   "source": [
    "sum(count_histogram[4:])"
   ]
  },
  {
   "cell_type": "markdown",
   "metadata": {
    "collapsed": true
   },
   "source": [
    "# Keyword, keyword"
   ]
  },
  {
   "cell_type": "code",
   "execution_count": null,
   "metadata": {
    "collapsed": true
   },
   "outputs": [],
   "source": [
    "# Execute this only once\n",
    "#keywords = [keyword for keyword, count in keyword_count.items() if count >= 4]\n",
    "#pickle.dump(keywords, open('keywords_list.pickle', 'wb'))"
   ]
  },
  {
   "cell_type": "code",
   "execution_count": null,
   "metadata": {
    "collapsed": true
   },
   "outputs": [],
   "source": [
    "keywords = pickle.load(open('keywords_list.pickle', 'rb'))\n",
    "keywords_set = set(keywords)\n",
    "keywords_index = {keyword: i for i, keyword in enumerate(keywords)}"
   ]
  },
  {
   "cell_type": "code",
   "execution_count": null,
   "metadata": {
    "collapsed": true
   },
   "outputs": [],
   "source": [
    "n_keywords = len(keywords)\n",
    "n_keywords"
   ]
  },
  {
   "cell_type": "code",
   "execution_count": null,
   "metadata": {
    "collapsed": true
   },
   "outputs": [],
   "source": [
    "# Matrix representation\n",
    "kk = np.zeros((n_keywords, n_keywords), dtype=np.uint16)\n",
    "for idVisit, searches in searches_by_visit.items():\n",
    "    visit_keywords = list(set([search['keyword'] for search in searches]))\n",
    "    visit_keywords_kept = [k for k in visit_keywords if k in keywords_set]\n",
    "    for k1 in visit_keywords_kept:\n",
    "        index1 = keywords_index[k1]\n",
    "        for k2 in visit_keywords_kept:\n",
    "            index2 = keywords_index[k2]\n",
    "            if kk[index1, index2] == 65535:\n",
    "                print(\"overflow\")\n",
    "            kk[index1, index2] += 1\n",
    "kk.max(), float((kk>0).sum())/(n_keywords*n_keywords)"
   ]
  },
  {
   "cell_type": "code",
   "execution_count": null,
   "metadata": {
    "collapsed": true
   },
   "outputs": [],
   "source": [
    "# Adjacency list representation\n",
    "kk = [defaultdict(int) for i in range(n_keywords)]\n",
    "for idVisit, searches in searches_by_visit.items():\n",
    "    visit_keywords = list(set([search['keyword'] for search in searches]))\n",
    "    visit_keywords_kept = [k for k in visit_keywords if k in keywords_set]\n",
    "    for k1 in visit_keywords_kept:\n",
    "        index1 = keywords_index[k1]\n",
    "        for k2 in visit_keywords_kept:\n",
    "            index2 = keywords_index[k2]\n",
    "            kk[index1][index2] += 1"
   ]
  },
  {
   "cell_type": "code",
   "execution_count": null,
   "metadata": {
    "collapsed": true
   },
   "outputs": [],
   "source": [
    "kk = [dict(adjacency_list) for adjacency_list in kk]"
   ]
  },
  {
   "cell_type": "code",
   "execution_count": null,
   "metadata": {
    "collapsed": true
   },
   "outputs": [],
   "source": [
    "pickle.dump(kk, open('keyword_keyword_adjacency_list.pickle', 'wb'))"
   ]
  },
  {
   "cell_type": "markdown",
   "metadata": {},
   "source": [
    "# Parse actions to dataset ids"
   ]
  },
  {
   "cell_type": "code",
   "execution_count": 31,
   "metadata": {
    "collapsed": true
   },
   "outputs": [],
   "source": [
    "other_pages = ['http://www.data.gouv.fr/fr/', 'http://www.data.gouv.fr/fr/datasets/']\n",
    "regex_datasets = r'^https?://www\\.data\\.gouv\\.fr/(?:fr|en)/datasets/([a-z\\-0-9]+)/$'\n",
    "regex_datasets_search = r'^https?://www\\.data\\.gouv\\.fr/(?:fr|en)/datasets/\\?'\n",
    "regex_organizations = r'^https?://www\\.data\\.gouv\\.fr/(?:fr|en)/organizations/'\n",
    "regex_reuses = r'^https?://www\\.data\\.gouv\\.fr/(?:fr|en)/reuses/'\n",
    "regex_territory = r'^https?://www\\.data\\.gouv\\.fr/(?:fr|en)/territory/'\n",
    "regex_topics = r'^https?://www\\.data\\.gouv\\.fr/(?:fr|en)/topics/'\n",
    "regex_town = r'^https?://www\\.data\\.gouv\\.fr/(?:fr|en)/town/'\n",
    "regex_users = r'^https?://www\\.data\\.gouv\\.fr/(?:fr|en)/users/'\n",
    "regex_search = r'^https?://www\\.data\\.gouv\\.fr/(?:fr|en)/search/'\n",
    "regex_posts = r'^https?://www\\.data\\.gouv\\.fr/(?:fr|en)/posts/'\n",
    "regex_faq = r'^https?://www\\.data\\.gouv\\.fr/(?:fr|en)/faq/'\n",
    "regex_dashboard = r'^https?://www\\.data\\.gouv\\.fr/(?:fr|en)/dashboard/'\n",
    "regex_apidoc = r'^https?://www\\.data\\.gouv\\.fr/(?:fr|en)/apidoc/'\n",
    "regex_groups = r'^https?://www\\.data\\.gouv\\.fr/groups/'\n",
    "regex_reference = r'^https?://www\\.data\\.gouv\\.fr/reference$'\n",
    "regex_login = r'^https?://id\\.data\\.gouv\\.fr/login/'\n",
    "regex_logout = r'^https?://id\\.data\\.gouv\\.fr/logout/'\n",
    "regex_register = r'^https?://id\\.data\\.gouv\\.fr/register/'\n",
    "regex_api_spatial = r'^https?://www\\.data\\.gouv\\.fr/api/1/spatial/'\n",
    "regex_api_discussions = r'^https?://www\\.data\\.gouv\\.fr/api/1/discussions/\\?'\n",
    "regex_api_issues = r'^https?://www\\.data\\.gouv\\.fr/api/1/issues/\\?'\n",
    "regex_api_swagger = r'^https?://www\\.data\\.gouv\\.fr/api/1/swagger\\.json'\n",
    "regex_api_datasets_frequencies = r'^https?://www\\.data\\.gouv\\.fr/api/1/datasets/frequencies/'\n",
    "regex_api_reuses = r'^https?://www\\.data\\.gouv\\.fr/api/1/reuses/'\n",
    "regex_api_metrics = r'^https?://www\\.data\\.gouv\\.fr/api/1/metrics/'\n",
    "regex_api_activity = r'^https?://www\\.data\\.gouv\\.fr/api/1/activity'\n",
    "regex_api_organizations = r'^https?://www\\.data\\.gouv\\.fr/api/1/organizations/'\n",
    "regex_api_datasets = r'^https?://www\\.data\\.gouv\\.fr/api/1/datasets/([a-z\\-0-9]+)/'\n",
    "regex_api_datasets_search = r'^https?://www\\.data\\.gouv\\.fr/api/1/datasets/\\?'\n",
    "regex_api_community = r'^https?://www\\.data\\.gouv\\.fr/api/1/datasets/community_resources/\\?'\n",
    "regex_api_oembeds = r'^https?://www\\.data\\.gouv\\.fr/api/1/oembeds/'\n",
    "regex_api_me = r'^https?://www\\.data\\.gouv\\.fr/api/1/me/'\n",
    "regex_api_site = r'^https?://www\\.data\\.gouv\\.fr/api/1/site/'\n",
    "regex_api_users = r'^https?://www\\.data\\.gouv\\.fr/api/1/users/'\n",
    "regex_api_transfer = r'^https?://www\\.data\\.gouv\\.fr/api/1/transfer/'\n",
    "regex_api_harvest = r'^https?://www\\.data\\.gouv\\.fr/api/1/harvest/'\n",
    "\n",
    "unhandled_actions = []\n",
    "visits = []\n",
    "for idVisit, searches in searches_by_visit.items():\n",
    "    visit = []\n",
    "    for search in searches:\n",
    "        visit.append(('keyword', search['keyword']))\n",
    "        for action in search['actions']:\n",
    "            if action['type'] == 'action':\n",
    "                match_datasets = re.match(regex_datasets, action['url'])\n",
    "                match_datasets_search = re.match(regex_datasets_search, action['url'])\n",
    "                match_organizations = re.match(regex_organizations, action['url'])\n",
    "                match_reuses = re.match(regex_reuses, action['url'])\n",
    "                match_territory = re.match(regex_territory, action['url'])\n",
    "                match_topics = re.match(regex_topics, action['url'])\n",
    "                match_town = re.match(regex_town, action['url'])\n",
    "                match_users = re.match(regex_users, action['url'])\n",
    "                match_search = re.match(regex_search, action['url'])\n",
    "                match_posts = re.match(regex_posts, action['url'])\n",
    "                match_faq = re.match(regex_faq, action['url'])\n",
    "                match_dashboard = re.match(regex_dashboard, action['url'])\n",
    "                match_apidoc = re.match(regex_apidoc, action['url'])\n",
    "                match_groups = re.match(regex_groups, action['url'])\n",
    "                match_reference = re.match(regex_reference, action['url'])\n",
    "                match_login = re.match(regex_login, action['url'])\n",
    "                match_logout = re.match(regex_logout, action['url'])\n",
    "                match_register = re.match(regex_register, action['url'])\n",
    "                match_api_spatial = re.match(regex_api_spatial, action['url'])\n",
    "                match_api_discussions = re.match(regex_api_discussions, action['url'])\n",
    "                match_api_issues = re.match(regex_api_issues, action['url'])\n",
    "                match_api_swagger = re.match(regex_api_swagger, action['url'])\n",
    "                match_api_datasets_frequencies = re.match(regex_api_datasets_frequencies, action['url'])\n",
    "                match_api_reuses = re.match(regex_api_reuses, action['url'])                \n",
    "                match_api_metrics = re.match(regex_api_metrics, action['url'])                \n",
    "                match_api_activity = re.match(regex_api_activity, action['url'])                \n",
    "                match_api_organizations = re.match(regex_api_organizations, action['url'])                \n",
    "                match_api_datasets = re.match(regex_api_datasets, action['url'])                \n",
    "                match_api_datasets_search = re.match(regex_api_datasets_search, action['url'])                \n",
    "                match_api_community = re.match(regex_api_community, action['url'])                \n",
    "                match_api_oembeds = re.match(regex_api_oembeds, action['url'])                \n",
    "                match_api_me = re.match(regex_api_me, action['url'])                \n",
    "                match_api_site = re.match(regex_api_site, action['url'])                \n",
    "                match_api_users = re.match(regex_api_users, action['url'])                \n",
    "                match_api_transfer = re.match(regex_api_transfer, action['url'])                \n",
    "                match_api_harvest = re.match(regex_api_harvest, action['url'])                \n",
    "                \n",
    "                if action['url'] in other_pages:\n",
    "                    pass\n",
    "                elif match_datasets:\n",
    "                    dataset_slug = match_datasets.groups()[0]\n",
    "                    visit.append(('slug_or_id', dataset_slug))\n",
    "                elif match_datasets_search:\n",
    "                    pass\n",
    "                elif match_organizations:\n",
    "                    pass\n",
    "                elif match_reuses:\n",
    "                    pass\n",
    "                elif match_territory:\n",
    "                    pass\n",
    "                elif match_topics:\n",
    "                    pass\n",
    "                elif match_town:\n",
    "                    pass\n",
    "                elif match_users:\n",
    "                    pass\n",
    "                elif match_search:\n",
    "                    pass\n",
    "                elif match_posts:\n",
    "                    pass\n",
    "                elif match_faq:\n",
    "                    pass\n",
    "                elif match_dashboard:\n",
    "                    pass\n",
    "                elif match_apidoc:\n",
    "                    pass\n",
    "                elif match_groups:\n",
    "                    pass\n",
    "                elif match_reference:\n",
    "                    pass\n",
    "                elif match_login:\n",
    "                    pass\n",
    "                elif match_logout:\n",
    "                    pass\n",
    "                elif match_register:\n",
    "                    pass\n",
    "                elif match_api_spatial:\n",
    "                    pass\n",
    "                elif match_api_discussions:\n",
    "                    parsed = urllib.parse.urlparse(action['url'])\n",
    "                    params = urllib.parse.parse_qs(parsed.query)\n",
    "                    if 'for' in params:\n",
    "                        dataset_id = params['for'][0]\n",
    "                        visit.append(('id', dataset_id))\n",
    "                elif match_api_issues:\n",
    "                    parsed = urllib.parse.urlparse(action['url'])\n",
    "                    params = urllib.parse.parse_qs(parsed.query)\n",
    "                    if 'for' in params:\n",
    "                        dataset_id = params['for'][0]\n",
    "                        visit.append(('id', dataset_id))\n",
    "                elif match_api_swagger:\n",
    "                    pass\n",
    "                elif match_api_datasets_frequencies:\n",
    "                    pass\n",
    "                elif match_api_reuses:\n",
    "                    pass\n",
    "                elif match_api_metrics:\n",
    "                    pass\n",
    "                elif match_api_activity:\n",
    "                    pass\n",
    "                elif match_api_organizations:\n",
    "                    pass\n",
    "                elif match_api_datasets:\n",
    "                    dataset_id = match_api_datasets.groups()[0]\n",
    "                    visit.append(('slug_or_id', dataset_id))\n",
    "                elif match_api_datasets_search:\n",
    "                    pass\n",
    "                elif match_api_community:\n",
    "                    parsed = urllib.parse.urlparse(action['url'])\n",
    "                    params = urllib.parse.parse_qs(parsed.query)\n",
    "                    if 'for' in params:\n",
    "                        dataset_id = params['for'][0]\n",
    "                        visit.append(('id', dataset_id))\n",
    "                elif match_api_oembeds:\n",
    "                    pass\n",
    "                elif match_api_me:\n",
    "                    pass\n",
    "                elif match_api_site:\n",
    "                    pass\n",
    "                elif match_api_users:\n",
    "                    pass\n",
    "                elif match_api_transfer:\n",
    "                    pass\n",
    "                elif match_api_harvest:\n",
    "                    pass\n",
    "                else:\n",
    "                    unhandled_actions.append(action)\n",
    "            elif action['type'] == 'goal':\n",
    "                match_datasets = re.match(regex_datasets, action['url'])\n",
    "                match_reuses = re.match(regex_reuses, action['url'])\n",
    "                match_login = re.match(regex_login, action['url'])\n",
    "                match_register = re.match(regex_register, action['url'])\n",
    "                match_api_reuses = re.match(regex_api_reuses, action['url'])                \n",
    "                match_api_organizations = re.match(regex_api_organizations, action['url'])                \n",
    "                match_api_transfer = re.match(regex_api_transfer, action['url'])                \n",
    "                if match_reuses:\n",
    "                    pass\n",
    "                elif match_datasets:\n",
    "                    dataset_slug = match_datasets.groups()[0]\n",
    "                    visit.append(('slug_or_id', dataset_slug))\n",
    "                elif match_api_reuses:\n",
    "                    pass\n",
    "                elif match_login:\n",
    "                    pass\n",
    "                elif match_register:\n",
    "                    pass\n",
    "                elif match_api_organizations:\n",
    "                    pass\n",
    "                elif match_api_transfer:\n",
    "                    pass\n",
    "                else:\n",
    "                    unhandled_actions.append(action)\n",
    "            elif action['type'] == 'outlink':\n",
    "                pass\n",
    "            elif action['type'] == 'download':\n",
    "                pass\n",
    "            else:\n",
    "                unhandled_actions.append(action)\n",
    "    visits.append(visit)"
   ]
  },
  {
   "cell_type": "code",
   "execution_count": 32,
   "metadata": {},
   "outputs": [
    {
     "data": {
      "text/plain": [
       "5428"
      ]
     },
     "execution_count": 32,
     "metadata": {},
     "output_type": "execute_result"
    }
   ],
   "source": [
    "len(unhandled_actions)"
   ]
  },
  {
   "cell_type": "code",
   "execution_count": 33,
   "metadata": {},
   "outputs": [
    {
     "data": {
      "text/plain": [
       "[{'date': '2017-03-28',\n",
       "  'idVisit': '6624854',\n",
       "  'type': 'action',\n",
       "  'url': 'https://www.data.gouv.fr/api/1/discussions/58c916eb88ee382efe311032/?lang=fr&_=1490688951639'},\n",
       " {'date': '2017-03-28',\n",
       "  'idVisit': '6624854',\n",
       "  'type': 'action',\n",
       "  'url': 'https://www.data.gouv.fr/api/1/discussions/58c916eb88ee382efe311032/'},\n",
       " {'date': '2017-04-26',\n",
       "  'idVisit': '7194679',\n",
       "  'type': 'action',\n",
       "  'url': 'https://www.data.gouv.fr/datasets/extraction-finess-des-autorisations-d-activites-de-soins/'},\n",
       " {'date': '2017-04-14',\n",
       "  'idVisit': '6958837',\n",
       "  'type': 'action',\n",
       "  'url': 'https://id.data.gouv.fr/password/reset/'},\n",
       " {'date': '2017-04-14',\n",
       "  'idVisit': '6958837',\n",
       "  'type': 'action',\n",
       "  'url': 'https://id.data.gouv.fr/password/reset/done/'},\n",
       " {'date': '2017-04-14',\n",
       "  'idVisit': '6958837',\n",
       "  'type': 'action',\n",
       "  'url': 'https://id.data.gouv.fr/password/reset/'},\n",
       " {'date': '2017-04-14',\n",
       "  'idVisit': '6958837',\n",
       "  'type': 'action',\n",
       "  'url': 'https://id.data.gouv.fr/password/reset/done/'},\n",
       " {'date': '2017-01-04',\n",
       "  'idVisit': '4770514',\n",
       "  'type': 'action',\n",
       "  'url': 'https://www.data.gouv.fr/wiki/Outillage_pour_les_datavisualisations'},\n",
       " {'date': '2017-04-13',\n",
       "  'idVisit': '6953188',\n",
       "  'type': 'action',\n",
       "  'url': 'https://www.data.gouv.fr/organizations/ministere-des-finances-et-des-comptes-publics/'},\n",
       " {'date': '2017-05-03',\n",
       "  'idVisit': '7319387',\n",
       "  'type': 'action',\n",
       "  'url': 'https://www.data.gouv.fr/fr/datasets/*communes/'},\n",
       " {'date': '2017-03-27',\n",
       "  'idVisit': '6598333',\n",
       "  'type': 'action',\n",
       "  'url': 'https://www.data.gouv.fr/datasets/les-habitudes-des-francais-au-volant-dune-voiture/'},\n",
       " {'date': '2017-05-17',\n",
       "  'idVisit': '7584795',\n",
       "  'type': 'action',\n",
       "  'url': 'https://www.data.gouv.fr/fr/datasets/monuments-historiques-mnt/7'},\n",
       " {'date': '2017-01-19',\n",
       "  'idVisit': '5012249',\n",
       "  'type': 'action',\n",
       "  'url': 'https://www.data.gouv.fr/api/1/issues/56ec146a88ee380c0ce1a62d/?lang=fr&_=1484829591871'},\n",
       " {'date': '2017-01-19',\n",
       "  'idVisit': '5012249',\n",
       "  'type': 'action',\n",
       "  'url': 'https://www.data.gouv.fr/api/1/issues/56ec146a88ee380c0ce1a62d/?lang=fr'},\n",
       " {'date': '2017-01-19',\n",
       "  'idVisit': '5012249',\n",
       "  'type': 'action',\n",
       "  'url': 'https://www.data.gouv.fr/api/1/issues/5858fdc5c751df66e1c0bb7e/?lang=fr&_=1484829698458'},\n",
       " {'date': '2017-01-19',\n",
       "  'idVisit': '5012249',\n",
       "  'type': 'action',\n",
       "  'url': 'https://www.data.gouv.fr/fr/datasets/service-public-fr-annuaire-de-l-administration-base-de-donnees-locales /'},\n",
       " {'date': '2017-01-19',\n",
       "  'idVisit': '5012249',\n",
       "  'type': 'action',\n",
       "  'url': 'https://www.data.gouv.fr/fr/datasets/service-public-fr-annuaire-de-l-administration-base-de-donnees-locales /'},\n",
       " {'date': '2017-01-19',\n",
       "  'idVisit': '5012249',\n",
       "  'type': 'action',\n",
       "  'url': 'https://www.data.gouv.fr/fr/datasets/service-public-fr-annuaire-de-l-administration-base-de-donnees-locales /'},\n",
       " {'date': '2017-02-27',\n",
       "  'idVisit': '5671846',\n",
       "  'type': 'action',\n",
       "  'url': 'http://www.data.gouv.fr/en/'},\n",
       " {'date': '2017-02-27',\n",
       "  'idVisit': '5671846',\n",
       "  'type': 'action',\n",
       "  'url': 'https://www.data.gouv.fr/en/datasets/'},\n",
       " {'date': '2017-02-27',\n",
       "  'idVisit': '5671846',\n",
       "  'type': 'action',\n",
       "  'url': 'http://www.data.gouv.fr/en/'},\n",
       " {'date': '2017-02-27',\n",
       "  'idVisit': '5671846',\n",
       "  'type': 'action',\n",
       "  'url': 'http://www.data.gouv.fr/en/'},\n",
       " {'date': '2017-03-28',\n",
       "  'idVisit': '6646445',\n",
       "  'type': 'action',\n",
       "  'url': 'https://www.data.gouv.fr/en/datasets/'},\n",
       " {'date': '2017-03-28',\n",
       "  'idVisit': '6646445',\n",
       "  'type': 'action',\n",
       "  'url': 'http://www.data.gouv.fr/en/'},\n",
       " {'date': '2017-03-28',\n",
       "  'idVisit': '6646445',\n",
       "  'type': 'action',\n",
       "  'url': 'https://www.data.gouv.fr/en/datasets/'},\n",
       " {'date': '2017-03-25',\n",
       "  'idVisit': '6560963',\n",
       "  'type': 'action',\n",
       "  'url': 'https://www.data.gouv.fr/api/1/datasets/community_resources/45a0fdca-b8fe-4b87-b19a-5b7776658ada/'},\n",
       " {'date': '2017-03-25',\n",
       "  'idVisit': '6560963',\n",
       "  'type': 'action',\n",
       "  'url': 'https://www.data.gouv.fr/api/1/datasets/community_resources/45a0fdca-b8fe-4b87-b19a-5b7776658ada/?lang=fr&_=1490465607190'},\n",
       " {'date': '2017-03-25',\n",
       "  'idVisit': '6560963',\n",
       "  'type': 'action',\n",
       "  'url': 'https://www.data.gouv.fr/api/1/datasets/community_resources/1fd91594-f698-4c93-ad9d-f51a97722c9b/?lang=fr&_=1490465607208'},\n",
       " {'date': '2017-03-25',\n",
       "  'idVisit': '6560963',\n",
       "  'type': 'action',\n",
       "  'url': 'https://www.data.gouv.fr/api/1/datasets/community_resources/45a0fdca-b8fe-4b87-b19a-5b7776658ada/?lang=fr&_=1490465607230'},\n",
       " {'date': '2017-03-25',\n",
       "  'idVisit': '6560963',\n",
       "  'type': 'action',\n",
       "  'url': 'https://www.data.gouv.fr/api/1/datasets/community_resources/45a0fdca-b8fe-4b87-b19a-5b7776658ada/'},\n",
       " {'date': '2017-03-25',\n",
       "  'idVisit': '6560963',\n",
       "  'type': 'action',\n",
       "  'url': 'https://www.data.gouv.fr/api/1/datasets/community_resources/45a0fdca-b8fe-4b87-b19a-5b7776658ada/?lang=fr&_=1490465607239'},\n",
       " {'date': '2017-03-25',\n",
       "  'idVisit': '6560963',\n",
       "  'type': 'action',\n",
       "  'url': 'https://www.data.gouv.fr/api/1/datasets/community_resources/45a0fdca-b8fe-4b87-b19a-5b7776658ada/?lang=fr&_=1490465607253'},\n",
       " {'date': '2017-06-12',\n",
       "  'idVisit': '8050959',\n",
       "  'type': 'action',\n",
       "  'url': 'http://www.data.gouv.fr/fr/metrics'},\n",
       " {'date': '2017-05-03',\n",
       "  'idVisit': '7303054',\n",
       "  'type': 'goal',\n",
       "  'url': 'https://www.data.gouv.fr/api/1/datasets/559390f9c751df0139a453ba/followers/'},\n",
       " {'date': '2017-01-30',\n",
       "  'idVisit': '5193144',\n",
       "  'type': 'action',\n",
       "  'url': 'http://www.data.gouv.fr/es/town/44125/'},\n",
       " {'date': '2017-01-30',\n",
       "  'idVisit': '5193144',\n",
       "  'type': 'action',\n",
       "  'url': 'http://www.data.gouv.fr/es/town/44069/'},\n",
       " {'date': '2017-03-01',\n",
       "  'idVisit': '5719191',\n",
       "  'type': 'action',\n",
       "  'url': 'https://www.data.gouv.fr/en/datasets/'},\n",
       " {'date': '2017-03-01',\n",
       "  'idVisit': '5719191',\n",
       "  'type': 'action',\n",
       "  'url': 'https://www.data.gouv.fr/DataSet/571913?xtmc=Direction générale des médias et des industries culturelles&xtcr=2'},\n",
       " {'date': '2017-01-23',\n",
       "  'idVisit': '5073082',\n",
       "  'type': 'action',\n",
       "  'url': 'http://www.data.gouv.fr/donnees/view/Liste-des-Immeubles-protégés-au-titre-des-Monuments-Historiques-30382152?xtmc=merimee&xtcr=6'},\n",
       " {'date': '2017-05-10',\n",
       "  'idVisit': '7444910',\n",
       "  'type': 'action',\n",
       "  'url': 'https://www.data.gouv.fr/fr/datasets/Périmètre de protection de monument historique/'},\n",
       " {'date': '2017-03-17',\n",
       "  'idVisit': '6302943',\n",
       "  'type': 'action',\n",
       "  'url': 'https://www.data.gouv.fr/es/datasets/dreal-lr-parcs-eoliens-en-languedoc-roussillon-2/'},\n",
       " {'date': '2017-03-17',\n",
       "  'idVisit': '6302943',\n",
       "  'type': 'goal',\n",
       "  'url': 'https://www.data.gouv.fr/es/datasets/dreal-lr-parcs-eoliens-en-languedoc-roussillon-2/'},\n",
       " {'date': '2017-03-17',\n",
       "  'idVisit': '6302943',\n",
       "  'type': 'action',\n",
       "  'url': 'https://www.data.gouv.fr/es/datasets/zonages-de-synthese-du-schema-regional-eolien-limousin/'},\n",
       " {'date': '2017-03-21',\n",
       "  'idVisit': '6446051',\n",
       "  'type': 'goal',\n",
       "  'url': 'https://www.data.gouv.fr/api/1/datasets/58d13b9d88ee3801a925912d/followers/'},\n",
       " {'date': '2017-06-16',\n",
       "  'idVisit': '8129744',\n",
       "  'type': 'goal',\n",
       "  'url': 'https://www.data.gouv.fr/reuses/concours-bce/'},\n",
       " {'date': '2017-06-16',\n",
       "  'idVisit': '8129744',\n",
       "  'type': 'action',\n",
       "  'url': 'https://www.data.gouv.fr/reuses/concours-bce/'},\n",
       " {'date': '2016-12-22',\n",
       "  'idVisit': '4678330',\n",
       "  'type': 'action',\n",
       "  'url': 'https://www.data.gouv.fr/.../auto-ecole-codeclic-com-les-taux-de-reussite-de-10-000-a...'},\n",
       " {'date': '2017-03-21',\n",
       "  'idVisit': '6441986',\n",
       "  'type': 'action',\n",
       "  'url': 'https://www.data.gouv.fr/fr/oauth/authorize?scope=default&redirect_uri=https://inspire.data.gouv.fr/dgv/oauth/callback&response_type=code&client_id=54ca09cd3ef675ad7d38a33d'},\n",
       " {'date': '2017-03-09',\n",
       "  'idVisit': '5868305',\n",
       "  'type': 'action',\n",
       "  'url': 'https://www.data.gouv.fr/fr/.../aides-a-la-presse-classement-des-titres-de-presse-aides/'},\n",
       " {'date': '2017-01-28',\n",
       "  'idVisit': '5172050',\n",
       "  'type': 'action',\n",
       "  'url': 'https://www.data.gouv.fr/api/1/tags/suggest/?q= &size=10&lang=fr&_=1485601740307'},\n",
       " {'date': '2017-01-28',\n",
       "  'idVisit': '5172050',\n",
       "  'type': 'action',\n",
       "  'url': 'https://www.data.gouv.fr/api/1/tags/suggest/?q= &size=10&lang=fr&_=1485602746891'},\n",
       " {'date': '2017-01-28',\n",
       "  'idVisit': '5172050',\n",
       "  'type': 'action',\n",
       "  'url': 'https://www.data.gouv.fr/api/1/tags/suggest/?q= &size=10&lang=fr&_=1485602746897'},\n",
       " {'date': '2017-05-11',\n",
       "  'idVisit': '7485476',\n",
       "  'type': 'action',\n",
       "  'url': 'http://www.data.gouv.fr/en/'},\n",
       " {'date': '2017-06-07',\n",
       "  'idVisit': '7941065',\n",
       "  'type': 'action',\n",
       "  'url': 'https://www.data.gouv.fr/datasets/bd-carthage-france-entiere-croisement-entre-les-cours-deau-2010-et-les-bassins-dce-2011/'},\n",
       " {'date': '2017-02-02',\n",
       "  'idVisit': '5263852',\n",
       "  'type': 'action',\n",
       "  'url': 'https://www.data.gouv.fr/api/1/issues/5553b8bcc751df23ad190c78/?lang=fr&_=1486038711879'},\n",
       " {'date': '2017-01-27',\n",
       "  'idVisit': '5164792',\n",
       "  'type': 'goal',\n",
       "  'url': 'https://www.data.gouv.fr/api/1/datasets/53698f37a3a729239d2036a0/followers/'},\n",
       " {'date': '2016-12-30',\n",
       "  'idVisit': '4728215',\n",
       "  'type': 'action',\n",
       "  'url': 'https://www.data.gouv.fr/api/1/territory/suggest/?q=0&size=3'},\n",
       " {'date': '2017-06-19',\n",
       "  'idVisit': '8188569',\n",
       "  'type': 'goal',\n",
       "  'url': 'https://www.data.gouv.fr/api/1/datasets/59477748c751df22962982cc/followers/'},\n",
       " {'date': '2017-01-11',\n",
       "  'idVisit': '4872060',\n",
       "  'type': 'action',\n",
       "  'url': 'https://www.data.gouv.fr/en/credits/'},\n",
       " {'date': '2017-01-11',\n",
       "  'idVisit': '4872060',\n",
       "  'type': 'action',\n",
       "  'url': 'http://www.data.gouv.fr/en/'},\n",
       " {'date': '2017-01-11',\n",
       "  'idVisit': '4872060',\n",
       "  'type': 'action',\n",
       "  'url': 'https://www.data.gouv.fr/en/terms/'},\n",
       " {'date': '2017-01-11',\n",
       "  'idVisit': '4872060',\n",
       "  'type': 'action',\n",
       "  'url': 'https://www.data.gouv.fr/en/terms/'},\n",
       " {'date': '2017-01-11',\n",
       "  'idVisit': '4872060',\n",
       "  'type': 'action',\n",
       "  'url': 'http://www.data.gouv.fr/en/'},\n",
       " {'date': '2017-01-30',\n",
       "  'idVisit': '5190468',\n",
       "  'type': 'action',\n",
       "  'url': 'https://www.data.gouv.fr/api/1/discussions/588e6de7c751df68cdae0a66/?for=5387f0a0a3a7291cb367549e'},\n",
       " {'date': '2017-01-30',\n",
       "  'idVisit': '5190468',\n",
       "  'type': 'action',\n",
       "  'url': 'https://www.data.gouv.fr/api/1/discussions/588e6de7c751df68cdae0a66/?lang=fr&_=1485765359598'},\n",
       " {'date': '2017-04-20',\n",
       "  'idVisit': '7069932',\n",
       "  'type': 'action',\n",
       "  'url': 'https://www.data.gouv.fr/en/datasets/'},\n",
       " {'date': '2017-04-20',\n",
       "  'idVisit': '7069932',\n",
       "  'type': 'action',\n",
       "  'url': 'https://www.data.gouv.fr/en/datasets/'},\n",
       " {'date': '2017-04-20',\n",
       "  'idVisit': '7069932',\n",
       "  'type': 'action',\n",
       "  'url': 'https://www.data.gouv.fr/en/datasets/'},\n",
       " {'date': '2017-04-29',\n",
       "  'idVisit': '7254072',\n",
       "  'type': 'action',\n",
       "  'url': 'https://www.data.gouv.fr/api/1/datasets/'},\n",
       " {'date': '2017-03-28',\n",
       "  'idVisit': '6634085',\n",
       "  'type': 'goal',\n",
       "  'url': 'https://www.data.gouv.fr/api/1/datasets/5878ee41a3a7291485cac7cf/followers/'},\n",
       " {'date': '2017-03-28',\n",
       "  'idVisit': '6634085',\n",
       "  'type': 'goal',\n",
       "  'url': 'https://www.data.gouv.fr/api/1/datasets/58a42c4088ee38635f9b81a4/followers/'},\n",
       " {'date': '2017-04-24',\n",
       "  'idVisit': '7139395',\n",
       "  'type': 'action',\n",
       "  'url': 'https://www.data.gouv.fr/fr/terms/'},\n",
       " {'date': '2017-06-03',\n",
       "  'idVisit': '7892716',\n",
       "  'type': 'action',\n",
       "  'url': 'https://id.data.gouv.fr/password/reset/'},\n",
       " {'date': '2017-01-04',\n",
       "  'idVisit': '4769188',\n",
       "  'type': 'action',\n",
       "  'url': 'http://www.data.gouv.fr/fr/openfield16'},\n",
       " {'date': '2017-01-04',\n",
       "  'idVisit': '4769188',\n",
       "  'type': 'action',\n",
       "  'url': 'http://www.data.gouv.fr/fr/openfield16'},\n",
       " {'date': '2017-02-23',\n",
       "  'idVisit': '5615305',\n",
       "  'type': 'action',\n",
       "  'url': 'https://www.data.gouv.fr/api/1/datasets/'},\n",
       " {'date': '2017-02-23',\n",
       "  'idVisit': '5615305',\n",
       "  'type': 'action',\n",
       "  'url': 'https://www.data.gouv.fr/api/1/datasets/'},\n",
       " {'date': '2017-02-23',\n",
       "  'idVisit': '5615305',\n",
       "  'type': 'action',\n",
       "  'url': 'https://www.data.gouv.fr/api/1/datasets/'},\n",
       " {'date': '2017-02-23',\n",
       "  'idVisit': '5615305',\n",
       "  'type': 'action',\n",
       "  'url': 'https://www.data.gouv.fr/api/1/datasets/'},\n",
       " {'date': '2017-02-23',\n",
       "  'idVisit': '5615305',\n",
       "  'type': 'action',\n",
       "  'url': 'https://www.data.gouv.fr/api/1/datasets/'},\n",
       " {'date': '2017-02-23',\n",
       "  'idVisit': '5615305',\n",
       "  'type': 'action',\n",
       "  'url': 'https://www.data.gouv.fr/api/1/datasets/'},\n",
       " {'date': '2017-02-23',\n",
       "  'idVisit': '5615305',\n",
       "  'type': 'action',\n",
       "  'url': 'https://www.data.gouv.fr/api/1/datasets/'},\n",
       " {'date': '2017-02-23',\n",
       "  'idVisit': '5615305',\n",
       "  'type': 'action',\n",
       "  'url': 'https://www.data.gouv.fr/api/1/datasets/'},\n",
       " {'date': '2017-02-23',\n",
       "  'idVisit': '5615305',\n",
       "  'type': 'action',\n",
       "  'url': 'https://www.data.gouv.fr/api/1/datasets/'},\n",
       " {'date': '2017-02-23',\n",
       "  'idVisit': '5615305',\n",
       "  'type': 'action',\n",
       "  'url': 'https://www.data.gouv.fr/api/1/datasets/'},\n",
       " {'date': '2017-02-23',\n",
       "  'idVisit': '5615305',\n",
       "  'type': 'action',\n",
       "  'url': 'https://www.data.gouv.fr/api/1/datasets/'},\n",
       " {'date': '2017-02-23',\n",
       "  'idVisit': '5615305',\n",
       "  'type': 'action',\n",
       "  'url': 'https://www.data.gouv.fr/api/1/datasets/'},\n",
       " {'date': '2017-02-23',\n",
       "  'idVisit': '5615305',\n",
       "  'type': 'action',\n",
       "  'url': 'https://www.data.gouv.fr/api/1/datasets/'},\n",
       " {'date': '2017-02-23',\n",
       "  'idVisit': '5615305',\n",
       "  'type': 'action',\n",
       "  'url': 'https://www.data.gouv.fr/api/1/datasets/'},\n",
       " {'date': '2017-02-23',\n",
       "  'idVisit': '5615305',\n",
       "  'type': 'action',\n",
       "  'url': 'https://www.data.gouv.fr/api/1/datasets/'},\n",
       " {'date': '2017-02-23',\n",
       "  'idVisit': '5615305',\n",
       "  'type': 'action',\n",
       "  'url': 'https://www.data.gouv.fr/api/1/datasets/'},\n",
       " {'date': '2017-02-23',\n",
       "  'idVisit': '5615305',\n",
       "  'type': 'action',\n",
       "  'url': 'https://www.data.gouv.fr/api/1/datasets/'},\n",
       " {'date': '2017-02-23',\n",
       "  'idVisit': '5615305',\n",
       "  'type': 'action',\n",
       "  'url': 'https://www.data.gouv.fr/api/1/datasets/'},\n",
       " {'date': '2017-02-23',\n",
       "  'idVisit': '5615305',\n",
       "  'type': 'action',\n",
       "  'url': 'https://www.data.gouv.fr/api/1/datasets/'},\n",
       " {'date': '2017-02-23',\n",
       "  'idVisit': '5615305',\n",
       "  'type': 'action',\n",
       "  'url': 'https://www.data.gouv.fr/api/1/datasets/'},\n",
       " {'date': '2017-02-23',\n",
       "  'idVisit': '5615305',\n",
       "  'type': 'action',\n",
       "  'url': 'https://www.data.gouv.fr/api/1/datasets/'},\n",
       " {'date': '2017-02-23',\n",
       "  'idVisit': '5615305',\n",
       "  'type': 'action',\n",
       "  'url': 'https://www.data.gouv.fr/api/1/datasets/'},\n",
       " {'date': '2017-02-23',\n",
       "  'idVisit': '5615305',\n",
       "  'type': 'action',\n",
       "  'url': 'https://www.data.gouv.fr/api/1/datasets/'},\n",
       " {'date': '2017-02-23',\n",
       "  'idVisit': '5615305',\n",
       "  'type': 'action',\n",
       "  'url': 'https://www.data.gouv.fr/api/1/datasets/'},\n",
       " {'date': '2017-02-23',\n",
       "  'idVisit': '5615305',\n",
       "  'type': 'action',\n",
       "  'url': 'https://www.data.gouv.fr/api/1/datasets/'}]"
      ]
     },
     "execution_count": 33,
     "metadata": {},
     "output_type": "execute_result"
    }
   ],
   "source": [
    "unhandled_actions[:100]"
   ]
  },
  {
   "cell_type": "code",
   "execution_count": 34,
   "metadata": {},
   "outputs": [
    {
     "data": {
      "text/plain": [
       "[('https://www.data.gouv.fr/api/1/datasets/', 1568),\n",
       " ('https://www.data.gouv.fr/api/1/discussio', 402),\n",
       " ('http://www.data.gouv.fr/fr/reference', 300),\n",
       " ('https://www.data.gouv.fr/api/1/tags/sugg', 176),\n",
       " ('http://www.data.gouv.fr/en/', 166),\n",
       " ('https://www.data.gouv.fr/en/datasets/', 165),\n",
       " ('https://id.data.gouv.fr/password/reset/', 141),\n",
       " ('https://www.data.gouv.fr/api/1/posts/58f', 138),\n",
       " ('https://www.data.gouv.fr/fr/terms/', 128),\n",
       " ('https://id.data.gouv.fr/password/reset/d', 120)]"
      ]
     },
     "execution_count": 34,
     "metadata": {},
     "output_type": "execute_result"
    }
   ],
   "source": [
    "c = Counter([s['url'][:40] for s in unhandled_actions])\n",
    "c.most_common(10)\n"
   ]
  },
  {
   "cell_type": "code",
   "execution_count": 35,
   "metadata": {},
   "outputs": [
    {
     "data": {
      "text/plain": [
       "['https://www.data.gouv.fr/api/1/datasets/community_resources/45a0fdca-b8fe-4b87-b19a-5b7776658ada/',\n",
       " 'https://www.data.gouv.fr/api/1/datasets/community_resources/45a0fdca-b8fe-4b87-b19a-5b7776658ada/?lang=fr&_=1490465607190',\n",
       " 'https://www.data.gouv.fr/api/1/datasets/community_resources/1fd91594-f698-4c93-ad9d-f51a97722c9b/?lang=fr&_=1490465607208',\n",
       " 'https://www.data.gouv.fr/api/1/datasets/community_resources/45a0fdca-b8fe-4b87-b19a-5b7776658ada/?lang=fr&_=1490465607230',\n",
       " 'https://www.data.gouv.fr/api/1/datasets/community_resources/45a0fdca-b8fe-4b87-b19a-5b7776658ada/',\n",
       " 'https://www.data.gouv.fr/api/1/datasets/community_resources/45a0fdca-b8fe-4b87-b19a-5b7776658ada/?lang=fr&_=1490465607239',\n",
       " 'https://www.data.gouv.fr/api/1/datasets/community_resources/45a0fdca-b8fe-4b87-b19a-5b7776658ada/?lang=fr&_=1490465607253',\n",
       " 'https://www.data.gouv.fr/api/1/datasets/559390f9c751df0139a453ba/followers/',\n",
       " 'https://www.data.gouv.fr/api/1/datasets/58d13b9d88ee3801a925912d/followers/',\n",
       " 'https://www.data.gouv.fr/api/1/datasets/53698f37a3a729239d2036a0/followers/',\n",
       " 'https://www.data.gouv.fr/api/1/datasets/59477748c751df22962982cc/followers/',\n",
       " 'https://www.data.gouv.fr/api/1/datasets/',\n",
       " 'https://www.data.gouv.fr/api/1/datasets/5878ee41a3a7291485cac7cf/followers/',\n",
       " 'https://www.data.gouv.fr/api/1/datasets/58a42c4088ee38635f9b81a4/followers/',\n",
       " 'https://www.data.gouv.fr/api/1/datasets/',\n",
       " 'https://www.data.gouv.fr/api/1/datasets/',\n",
       " 'https://www.data.gouv.fr/api/1/datasets/',\n",
       " 'https://www.data.gouv.fr/api/1/datasets/',\n",
       " 'https://www.data.gouv.fr/api/1/datasets/',\n",
       " 'https://www.data.gouv.fr/api/1/datasets/']"
      ]
     },
     "execution_count": 35,
     "metadata": {},
     "output_type": "execute_result"
    }
   ],
   "source": [
    "[s['url'] for s in unhandled_actions if 'https://www.data.gouv.fr/api/1/datasets/' in s['url']][:20]"
   ]
  },
  {
   "cell_type": "code",
   "execution_count": 36,
   "metadata": {},
   "outputs": [
    {
     "data": {
      "text/plain": [
       "1337203"
      ]
     },
     "execution_count": 36,
     "metadata": {},
     "output_type": "execute_result"
    }
   ],
   "source": [
    "sum([len(visit) for visit in visits])"
   ]
  },
  {
   "cell_type": "markdown",
   "metadata": {},
   "source": [
    "## Deduplication + slug to id"
   ]
  },
  {
   "cell_type": "code",
   "execution_count": 13,
   "metadata": {
    "collapsed": true
   },
   "outputs": [],
   "source": [
    "visits_dedup = []\n",
    "for visit in visits:\n",
    "    visit_dedup = []\n",
    "    sets = {\n",
    "        'keyword': set(),\n",
    "        'id': set(),\n",
    "        'slug_or_id': set(),\n",
    "    }\n",
    "    for kind, value in visit:\n",
    "        if value not in sets[kind]:\n",
    "            sets[kind].add(value)\n",
    "            visit_dedup.append((kind, value))\n",
    "    visits_dedup.append(visit_dedup)"
   ]
  },
  {
   "cell_type": "code",
   "execution_count": 40,
   "metadata": {
    "collapsed": true
   },
   "outputs": [],
   "source": [
    "visits_clean = []\n",
    "id_ok = 0\n",
    "id_unknown = []\n",
    "slug_ok = 0\n",
    "slug_unknown = []\n",
    "for visit_dedup in visits_dedup:\n",
    "    visit_clean = []\n",
    "    for kind, value in visit_dedup:\n",
    "        if kind == 'keyword':\n",
    "            visit_clean.append((kind, value))\n",
    "            \n",
    "        elif kind == 'id':\n",
    "            if value in datasets_set:\n",
    "                visit_clean.append((kind, value))\n",
    "                id_ok += 1\n",
    "            else:\n",
    "                id_unknown.append(value)\n",
    "                \n",
    "        elif kind == 'slug_or_id':\n",
    "            if value in datasets_set:\n",
    "                visit_clean.append(('id', value))\n",
    "                id_ok += 1\n",
    "            elif value in slugs_set:\n",
    "                dataset_id = slug2id[value]\n",
    "                visit_clean.append(('id', dataset_id))\n",
    "                slug_ok += 1\n",
    "            else:\n",
    "                if re.match(r'^[0-9a-f]{24}$', value):\n",
    "                    id_unknown.append(value)\n",
    "                else:\n",
    "                    slug_unknown.append(value)\n",
    "                \n",
    "        else:\n",
    "            raise ValueError()\n",
    "    visits_clean.append(visit_clean)"
   ]
  },
  {
   "cell_type": "code",
   "execution_count": 42,
   "metadata": {
    "collapsed": true
   },
   "outputs": [],
   "source": [
    "with open('visits_clean.json', 'w') as f:\n",
    "    json.dump(visits_clean, f)"
   ]
  },
  {
   "cell_type": "code",
   "execution_count": 16,
   "metadata": {},
   "outputs": [
    {
     "data": {
      "text/plain": [
       "(256543, 44895, 182979, 10194)"
      ]
     },
     "execution_count": 16,
     "metadata": {},
     "output_type": "execute_result"
    }
   ],
   "source": [
    "id_ok, len(id_unknown), slug_ok, len(slug_unknown)"
   ]
  },
  {
   "cell_type": "code",
   "execution_count": 19,
   "metadata": {},
   "outputs": [
    {
     "data": {
      "text/plain": [
       "(439522, 55089, 0.11137843679174139, 0.8886215632082586)"
      ]
     },
     "execution_count": 19,
     "metadata": {},
     "output_type": "execute_result"
    }
   ],
   "source": [
    "sum_ok = id_ok + slug_ok\n",
    "sum_unknown = len(id_unknown) + len(slug_unknown)\n",
    "sum_ok, sum_unknown, sum_unknown / (sum_ok + sum_unknown), sum_ok / (sum_ok + sum_unknown)"
   ]
  },
  {
   "cell_type": "markdown",
   "metadata": {},
   "source": [
    "$$\\int_0^1{t_a^{x/2}dx}=0.8886215632082586$$\n",
    "\n",
    "$$x = \\frac{\\ln(t_a)}{2}, e^x-1 = 0.8886215632082586x$$\n",
    "\n",
    "$$x = -0.2410056126332082, t_a = 0.6175401296732944$$\n",
    "\n",
    "38% de turnover annuel"
   ]
  },
  {
   "cell_type": "code",
   "execution_count": null,
   "metadata": {
    "collapsed": true,
    "scrolled": true
   },
   "outputs": [],
   "source": [
    "id_unknown[:100]"
   ]
  },
  {
   "cell_type": "code",
   "execution_count": null,
   "metadata": {
    "collapsed": true,
    "scrolled": true
   },
   "outputs": [],
   "source": [
    "slug_unknown[:100]"
   ]
  },
  {
   "cell_type": "code",
   "execution_count": null,
   "metadata": {
    "collapsed": true
   },
   "outputs": [],
   "source": [
    "c = Counter(slug_unknown)\n",
    "c.most_common(100)"
   ]
  },
  {
   "cell_type": "code",
   "execution_count": 22,
   "metadata": {
    "collapsed": true
   },
   "outputs": [],
   "source": [
    "badges = []\n",
    "for idVisit, searches in searches_by_visit.items():\n",
    "    for search in searches:\n",
    "        for action in search['actions']:\n",
    "            if 'datasets/badges' in action['url']:\n",
    "                badges.append(action['url'])\n"
   ]
  },
  {
   "cell_type": "code",
   "execution_count": 23,
   "metadata": {
    "scrolled": true
   },
   "outputs": [
    {
     "data": {
      "text/plain": [
       "(1793,\n",
       " ['https://www.data.gouv.fr/api/1/datasets/badges/?lang=fr&_=1490688825261',\n",
       "  'https://www.data.gouv.fr/api/1/datasets/badges/?lang=fr&_=1490688951628',\n",
       "  'https://www.data.gouv.fr/api/1/datasets/badges/?lang=fr&_=1486474702413',\n",
       "  'https://www.data.gouv.fr/api/1/datasets/badges/?lang=fr&_=1492069886967',\n",
       "  'https://www.data.gouv.fr/api/1/datasets/badges/?lang=fr&_=1492100991143',\n",
       "  'https://www.data.gouv.fr/api/1/datasets/badges/?lang=fr&_=1492101743871',\n",
       "  'https://www.data.gouv.fr/api/1/datasets/badges/?lang=fr&_=1484829591869',\n",
       "  'https://www.data.gouv.fr/api/1/datasets/badges/?lang=fr&_=1484829698456',\n",
       "  'https://www.data.gouv.fr/api/1/datasets/badges/?lang=fr&_=1486387066078',\n",
       "  'https://www.data.gouv.fr/api/1/datasets/badges/?lang=fr&_=1488648816488',\n",
       "  'https://www.data.gouv.fr/api/1/datasets/badges/?lang=fr&_=1488648858947',\n",
       "  'https://www.data.gouv.fr/api/1/datasets/badges/?lang=fr&_=1490465607205',\n",
       "  'https://www.data.gouv.fr/api/1/datasets/badges/?lang=fr&_=1493814884258',\n",
       "  'https://www.data.gouv.fr/api/1/datasets/badges/?lang=fr&_=1490277461691',\n",
       "  'https://www.data.gouv.fr/api/1/datasets/badges/?lang=fr&_=1494508269654',\n",
       "  'https://www.data.gouv.fr/api/1/datasets/badges/?lang=fr&_=1485251513964',\n",
       "  'https://www.data.gouv.fr/api/1/datasets/badges/?lang=fr&_=1492759130202',\n",
       "  'https://www.data.gouv.fr/api/1/datasets/badges/?lang=fr&_=1492759341455',\n",
       "  'https://www.data.gouv.fr/api/1/datasets/badges/?lang=en&_=1482229999662',\n",
       "  'https://www.data.gouv.fr/api/1/datasets/badges/?lang=en&_=1482230116589',\n",
       "  'https://www.data.gouv.fr/api/1/datasets/badges/?lang=fr&_=1482830629665',\n",
       "  'https://www.data.gouv.fr/api/1/datasets/badges/?lang=fr&_=1490621402896',\n",
       "  'https://www.data.gouv.fr/api/1/datasets/badges/?lang=fr&_=1486038711849',\n",
       "  'https://www.data.gouv.fr/api/1/datasets/badges/?lang=fr&_=1490288606686',\n",
       "  'https://www.data.gouv.fr/api/1/datasets/badges/?lang=fr&_=1485765359508',\n",
       "  'https://www.data.gouv.fr/api/1/datasets/badges/?lang=fr&_=1491467186267',\n",
       "  'https://www.data.gouv.fr/api/1/datasets/badges/?lang=fr&_=1487084217207',\n",
       "  'https://www.data.gouv.fr/api/1/datasets/badges/?lang=fr&_=1487084263327',\n",
       "  'https://www.data.gouv.fr/api/1/datasets/badges/?lang=fr&_=1482256438897',\n",
       "  'https://www.data.gouv.fr/api/1/datasets/badges/?lang=fr&_=1496132885656',\n",
       "  'https://www.data.gouv.fr/api/1/datasets/badges/?lang=fr&_=1486477653789',\n",
       "  'https://www.data.gouv.fr/api/1/datasets/badges/?lang=fr&_=1486477745258',\n",
       "  'https://www.data.gouv.fr/api/1/datasets/badges/?lang=fr&_=1482910584567',\n",
       "  'https://www.data.gouv.fr/api/1/datasets/badges/?lang=fr&_=1483607215203',\n",
       "  'https://www.data.gouv.fr/api/1/datasets/badges/?lang=fr&_=1483607256924',\n",
       "  'https://www.data.gouv.fr/api/1/datasets/badges/?lang=fr&_=1483607304937',\n",
       "  'https://www.data.gouv.fr/api/1/datasets/badges/?lang=fr&_=1483607338124',\n",
       "  'https://www.data.gouv.fr/api/1/datasets/badges/?lang=fr&_=1483607383630',\n",
       "  'https://www.data.gouv.fr/api/1/datasets/badges/?lang=fr&_=1490188329741',\n",
       "  'https://www.data.gouv.fr/api/1/datasets/badges/?lang=fr&_=1490188343560',\n",
       "  'https://www.data.gouv.fr/api/1/datasets/badges/?lang=fr&_=1490188391014',\n",
       "  'https://www.data.gouv.fr/api/1/datasets/badges/?lang=fr&_=1490188400684',\n",
       "  'https://www.data.gouv.fr/api/1/datasets/badges/?lang=fr&_=1490189815212',\n",
       "  'https://www.data.gouv.fr/api/1/datasets/badges/?lang=fr&_=1490189941472',\n",
       "  'https://www.data.gouv.fr/api/1/datasets/badges/?lang=fr&_=1490189995099',\n",
       "  'https://www.data.gouv.fr/api/1/datasets/badges/?lang=fr&_=1490803119849',\n",
       "  'https://www.data.gouv.fr/api/1/datasets/badges/?lang=fr&_=1494575174109',\n",
       "  'https://www.data.gouv.fr/api/1/datasets/badges/?lang=fr&_=1484836691334',\n",
       "  'https://www.data.gouv.fr/api/1/datasets/badges/?lang=fr&_=1487227751201',\n",
       "  'https://www.data.gouv.fr/api/1/datasets/badges/?lang=fr&_=1487227940239',\n",
       "  'https://www.data.gouv.fr/api/1/datasets/badges/?lang=fr&_=1496580371645',\n",
       "  'https://www.data.gouv.fr/api/1/datasets/badges/?lang=fr&_=1496580402069',\n",
       "  'https://www.data.gouv.fr/api/1/datasets/badges/?lang=fr&_=1486649239637',\n",
       "  'https://www.data.gouv.fr/api/1/datasets/badges/?lang=fr&_=1483976777112',\n",
       "  'https://www.data.gouv.fr/api/1/datasets/badges/?lang=fr&_=1486631516468',\n",
       "  'https://www.data.gouv.fr/api/1/datasets/badges/?lang=fr&_=1486632470484',\n",
       "  'https://www.data.gouv.fr/api/1/datasets/badges/?lang=fr&_=1486633973496',\n",
       "  'https://www.data.gouv.fr/api/1/datasets/badges/?lang=fr&_=1485513636863',\n",
       "  'https://www.data.gouv.fr/api/1/datasets/badges/?lang=fr&_=1485513719398',\n",
       "  'https://www.data.gouv.fr/api/1/datasets/badges/?lang=fr&_=1484780102030',\n",
       "  'https://www.data.gouv.fr/api/1/datasets/badges/?lang=fr&_=1493115774289',\n",
       "  'https://www.data.gouv.fr/api/1/datasets/badges/?lang=fr&_=1491898884875',\n",
       "  'https://www.data.gouv.fr/api/1/datasets/badges/?lang=fr&_=1494421739604',\n",
       "  'https://www.data.gouv.fr/api/1/datasets/badges/?lang=fr&_=1496162764708',\n",
       "  'https://www.data.gouv.fr/api/1/datasets/badges/?lang=fr&_=1496163026607',\n",
       "  'https://www.data.gouv.fr/api/1/datasets/badges/?lang=fr&_=1490692198722',\n",
       "  'https://www.data.gouv.fr/api/1/datasets/badges/?lang=fr&_=1496738186885',\n",
       "  'https://www.data.gouv.fr/api/1/datasets/badges/?lang=fr&_=1486455453327',\n",
       "  'https://www.data.gouv.fr/api/1/datasets/badges/?lang=fr&_=1482749580507',\n",
       "  'https://www.data.gouv.fr/api/1/datasets/badges/?lang=fr&_=1490797581513',\n",
       "  'https://www.data.gouv.fr/api/1/datasets/badges/?lang=fr&_=1484558939897',\n",
       "  'https://www.data.gouv.fr/api/1/datasets/badges/?lang=fr&_=1490285869872',\n",
       "  'https://www.data.gouv.fr/api/1/datasets/badges/?lang=fr&_=1483370537267',\n",
       "  'https://www.data.gouv.fr/api/1/datasets/badges/?lang=fr&_=1491401509478',\n",
       "  'https://www.data.gouv.fr/api/1/datasets/badges/?lang=fr&_=1484127834708',\n",
       "  'https://www.data.gouv.fr/api/1/datasets/badges/?lang=fr&_=1486052447986',\n",
       "  'https://www.data.gouv.fr/api/1/datasets/badges/?lang=fr&_=1483633009799',\n",
       "  'https://www.data.gouv.fr/api/1/datasets/badges/?lang=fr&_=1497029968305',\n",
       "  'https://www.data.gouv.fr/api/1/datasets/badges/?lang=fr&_=1493196438094',\n",
       "  'https://www.data.gouv.fr/api/1/datasets/badges/?lang=fr&_=1493196476083',\n",
       "  'https://www.data.gouv.fr/api/1/datasets/badges/?lang=fr&_=1493196475787',\n",
       "  'https://www.data.gouv.fr/api/1/datasets/badges/?lang=fr&_=1493196502724',\n",
       "  'https://www.data.gouv.fr/api/1/datasets/badges/?lang=fr&_=1493196523064',\n",
       "  'https://www.data.gouv.fr/api/1/datasets/badges/?lang=fr&_=1497434024693',\n",
       "  'https://www.data.gouv.fr/api/1/datasets/badges/?lang=fr&_=1497434131760',\n",
       "  'https://www.data.gouv.fr/api/1/datasets/badges/?lang=fr&_=1494923886670',\n",
       "  'https://www.data.gouv.fr/api/1/datasets/badges/?lang=fr&_=1483986956951',\n",
       "  'https://www.data.gouv.fr/api/1/datasets/badges/?lang=fr&_=1483987069992',\n",
       "  'https://www.data.gouv.fr/api/1/datasets/badges/?lang=fr&_=1483987170867',\n",
       "  'https://www.data.gouv.fr/api/1/datasets/badges/?lang=fr&_=1483987354899',\n",
       "  'https://www.data.gouv.fr/api/1/datasets/badges/?lang=fr&_=1483987460957',\n",
       "  'https://www.data.gouv.fr/api/1/datasets/badges/?lang=fr&_=1483987549201',\n",
       "  'https://www.data.gouv.fr/api/1/datasets/badges/?lang=fr&_=1483987578110',\n",
       "  'https://www.data.gouv.fr/api/1/datasets/badges/?lang=fr&_=1483987599447',\n",
       "  'https://www.data.gouv.fr/api/1/datasets/badges/?lang=fr&_=1483987656367',\n",
       "  'https://www.data.gouv.fr/api/1/datasets/badges/?lang=fr&_=1483987715317',\n",
       "  'https://www.data.gouv.fr/api/1/datasets/badges/?lang=fr&_=1483987741180',\n",
       "  'https://www.data.gouv.fr/api/1/datasets/badges/?lang=fr&_=1483987760721',\n",
       "  'https://www.data.gouv.fr/api/1/datasets/badges/?lang=fr&_=1490777405009',\n",
       "  'https://www.data.gouv.fr/api/1/datasets/badges/?lang=fr&_=1497859920344'])"
      ]
     },
     "execution_count": 23,
     "metadata": {},
     "output_type": "execute_result"
    }
   ],
   "source": [
    "len(badges), badges[:100]"
   ]
  }
 ],
 "metadata": {
  "kernelspec": {
   "display_name": "Python 3",
   "language": "python",
   "name": "python3"
  },
  "language_info": {
   "codemirror_mode": {
    "name": "ipython",
    "version": 3
   },
   "file_extension": ".py",
   "mimetype": "text/x-python",
   "name": "python",
   "nbconvert_exporter": "python",
   "pygments_lexer": "ipython3",
   "version": "3.5.2"
  }
 },
 "nbformat": 4,
 "nbformat_minor": 2
}
