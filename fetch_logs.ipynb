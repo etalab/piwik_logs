{
 "cells": [
  {
   "cell_type": "markdown",
   "metadata": {},
   "source": [
    "Doc : \n",
    "\n",
    "https://developer.piwik.org/guides/persistence-and-the-mysql-backend\n",
    "\n",
    "https://developer.piwik.org/api-reference/reporting-api#Live"
   ]
  },
  {
   "cell_type": "code",
   "execution_count": 88,
   "metadata": {
    "collapsed": false
   },
   "outputs": [],
   "source": [
    "import os \n",
    "\n",
    "import json\n",
    "\n",
    "import requests\n",
    "\n",
    "from datetime import datetime, timedelta\n",
    "\n",
    "import pandas as pd"
   ]
  },
  {
   "cell_type": "markdown",
   "metadata": {},
   "source": [
    "# Fetch the data\n",
    "\n",
    "Logs are stored 6 months in the piwik database."
   ]
  },
  {
   "cell_type": "code",
   "execution_count": 2,
   "metadata": {
    "collapsed": true
   },
   "outputs": [],
   "source": [
    "def fetch_day(day_string):\n",
    "    data = []\n",
    "    filter_limit = 1000\n",
    "    filter_offset = 0\n",
    "    \n",
    "    n_result = -1\n",
    "    while n_result:\n",
    "        url = 'http://stats.data.gouv.fr/?module=API&method=Live.getLastVisitsDetails&idSite=1&period=day&date={}&format=JSON&filter_offset={}&filter_limit={}'.format(day_string, filter_offset, filter_limit)\n",
    "        r = requests.get(url)\n",
    "    \n",
    "        assert r.status_code == 200\n",
    "        assert r.encoding == 'utf-8'\n",
    "    \n",
    "        n_result\n",
    "        data_batch = r.json()\n",
    "        data += data_batch\n",
    "\n",
    "        filter_offset += filter_limit\n",
    "        n_result = len(data_batch)\n",
    "\n",
    "    return data"
   ]
  },
  {
   "cell_type": "code",
   "execution_count": 94,
   "metadata": {
    "collapsed": false
   },
   "outputs": [],
   "source": [
    "if day_string +'.json' not in os.listdir('./raw_visit_logs/'):\n",
    "    print('in')"
   ]
  },
  {
   "cell_type": "code",
   "execution_count": 3,
   "metadata": {
    "collapsed": true
   },
   "outputs": [],
   "source": [
    "def write_day(day_string):\n",
    "    data = fetch_day(day_string)\n",
    "    filename = 'raw_visit_logs/{}.json'.format(day_string)\n",
    "    with open(filename, 'w') as f:\n",
    "        json.dump(data, f)"
   ]
  },
  {
   "cell_type": "code",
   "execution_count": 4,
   "metadata": {
    "collapsed": true
   },
   "outputs": [],
   "source": [
    "def read_day(day_string):\n",
    "    filename = '{}.json'.format(day_string)\n",
    "    with open(filename, 'r') as f:\n",
    "        data = json.load(f)\n",
    "    return data"
   ]
  },
  {
   "cell_type": "code",
   "execution_count": 21,
   "metadata": {
    "collapsed": false
   },
   "outputs": [
    {
     "data": {
      "text/plain": [
       "'2017-12-14'"
      ]
     },
     "execution_count": 21,
     "metadata": {},
     "output_type": "execute_result"
    }
   ],
   "source": [
    "datetime.today().strftime('%Y-%m-%d')\n",
    "datetime.today().strftime('%Y-%m-%d')\n",
    "\n",
    "pd.date_range(datetime.today().strftime('%Y-%m-%d'), datetime.today().strftime('%Y-%m-%d'))"
   ]
  },
  {
   "cell_type": "code",
   "execution_count": 95,
   "metadata": {
    "collapsed": false,
    "scrolled": false
   },
   "outputs": [
    {
     "name": "stdout",
     "output_type": "stream",
     "text": [
      "2017-12-12 : done\n",
      "2017-12-13 : done\n",
      "2017-12-14 : done\n"
     ]
    }
   ],
   "source": [
    "def write_last_6_months():\n",
    "    a_month_ago = pd.datetime.today() + pd.DateOffset(months=-6)\n",
    "    date_range = pd.date_range(a_month_ago, pd.datetime.today()).strftime('%Y-%m-%d')\n",
    "    for day in date_range:\n",
    "        if day +'.json' not in os.listdir('./raw_visit_logs/'):\n",
    "            write_day(day)\n",
    "            print('%s : done' % day)\n",
    "\n",
    "def write_last_month():\n",
    "    a_month_ago = pd.datetime.today() + pd.DateOffset(months=-1)\n",
    "    date_range = pd.date_range(a_month_ago, pd.datetime.today()).strftime('%Y-%m-%d')\n",
    "    for day in date_range:\n",
    "        if day +'.json' not in os.listdir('./raw_visit_logs/'):\n",
    "            write_day(day)\n",
    "            print('%s : done' % day)\n",
    "\n",
    "write_last_month()"
   ]
  },
  {
   "cell_type": "raw",
   "metadata": {
    "collapsed": false,
    "scrolled": true
   },
   "source": [
    "for i in range(11, 0, -1):\n",
    "    day_string = '2017-12-{:02d}'.format(i)\n",
    "    write_day(day_string)\n",
    "\n",
    "for i in range(30, 0, -1):\n",
    "    day_string = '2017-11-{:02d}'.format(i)\n",
    "    write_day(day_string)\n",
    "\n",
    "for i in range(31, 0, -1):\n",
    "    day_string = '2017-10-{:02d}'.format(i)\n",
    "    print(day_string)\n",
    "    write_day(day_string)\n",
    "\n",
    "for i in range(30, 0, -1):   # 2017-03-18 position 513 : error 500\n",
    "    day_string = '2017-09-{:02d}'.format(i)\n",
    "    print(day_string)\n",
    "    write_day(day_string)\n",
    "    \n",
    "for i in range(31, 0, -1):\n",
    "    day_string = '2017-08-{:02d}'.format(i)\n",
    "    print(day_string)\n",
    "    write_day(day_string)\n",
    "\n",
    "for i in range(31, 0, -1):\n",
    "    day_string = '2017-07-{:02d}'.format(i)\n",
    "    print(day_string)\n",
    "    write_day(day_string)\n"
   ]
  },
  {
   "cell_type": "code",
   "execution_count": null,
   "metadata": {
    "collapsed": false
   },
   "outputs": [],
   "source": [
    "days_in_month = {\n",
    "    1: 31,\n",
    "    2: 28,\n",
    "    3: 31,\n",
    "    4: 30,\n",
    "    5: 31,\n",
    "    6: 30,\n",
    "    7: 31,\n",
    "    8: 31,\n",
    "    9: 30,\n",
    "    10: 31,\n",
    "    11: 30,\n",
    "    12: 31,\n",
    "}\n",
    "\n",
    "for month in range(12, 0, -1):\n",
    "    for day in range(days_in_month[month], 0, -1):\n",
    "        day_string = '2016-{:02d}-{:02d}'.format(month, day)\n",
    "        print(day_string)\n",
    "        write_day(day_string)\n"
   ]
  },
  {
   "cell_type": "code",
   "execution_count": null,
   "metadata": {
    "collapsed": true
   },
   "outputs": [],
   "source": []
  }
 ],
 "metadata": {
  "kernelspec": {
   "display_name": "Python 3",
   "language": "python",
   "name": "python3"
  },
  "language_info": {
   "codemirror_mode": {
    "name": "ipython",
    "version": 3
   },
   "file_extension": ".py",
   "mimetype": "text/x-python",
   "name": "python",
   "nbconvert_exporter": "python",
   "pygments_lexer": "ipython3",
   "version": "3.6.0"
  }
 },
 "nbformat": 4,
 "nbformat_minor": 2
}
