{
 "cells": [
  {
   "cell_type": "markdown",
   "metadata": {},
   "source": [
    "Doc : \n",
    "\n",
    "https://developer.piwik.org/guides/persistence-and-the-mysql-backend\n",
    "\n",
    "https://developer.piwik.org/api-reference/reporting-api#Live"
   ]
  },
  {
   "cell_type": "code",
   "execution_count": 14,
   "metadata": {
    "collapsed": true
   },
   "outputs": [],
   "source": [
    "import json\n",
    "\n",
    "import requests"
   ]
  },
  {
   "cell_type": "markdown",
   "metadata": {},
   "source": [
    "# Fetch the data\n",
    "\n",
    "Logs are stored 6 months in the piwik database."
   ]
  },
  {
   "cell_type": "code",
   "execution_count": 3,
   "metadata": {
    "collapsed": true
   },
   "outputs": [],
   "source": [
    "def fetch_day(day_string):\n",
    "    data = []\n",
    "    filter_limit = 1000\n",
    "    filter_offset = 0\n",
    "    \n",
    "    n_result = -1\n",
    "    while n_result:\n",
    "        url = 'http://stats.data.gouv.fr/?module=API&method=Live.getLastVisitsDetails&idSite=1&period=day&date={}&format=JSON&filter_offset={}&filter_limit={}'.format(day_string, filter_offset, filter_limit)\n",
    "        r = requests.get(url)\n",
    "    \n",
    "        assert r.status_code == 200\n",
    "        assert r.encoding == 'utf-8'\n",
    "    \n",
    "        n_result\n",
    "        data_batch = r.json()\n",
    "    \n",
    "        data += data_batch\n",
    "\n",
    "        filter_offset += filter_limit\n",
    "        n_result = len(data_batch)\n",
    "\n",
    "    return data"
   ]
  },
  {
   "cell_type": "code",
   "execution_count": 4,
   "metadata": {
    "collapsed": true
   },
   "outputs": [],
   "source": [
    "def write_day(day_string):\n",
    "    data = fetch_day(day_string)\n",
    "    \n",
    "    filename = '{}.json'.format(day_string)\n",
    "    with open(filename, 'w') as f:\n",
    "        json.dump(data, f)"
   ]
  },
  {
   "cell_type": "code",
   "execution_count": 5,
   "metadata": {
    "collapsed": true
   },
   "outputs": [],
   "source": [
    "def read_day(day_string):\n",
    "    filename = '{}.json'.format(day_string)\n",
    "    with open(filename, 'r') as f:\n",
    "        data = json.load(f)\n",
    "    return data"
   ]
  },
  {
   "cell_type": "code",
   "execution_count": null,
   "metadata": {
    "collapsed": true,
    "scrolled": true
   },
   "outputs": [],
   "source": [
    "for i in range(19, 0, -1):\n",
    "    day_string = '2017-06-{}'.format(i)\n",
    "    write_day(day_string)\n",
    "\n",
    "for i in range(31, 0, -1):\n",
    "    day_string = '2017-05-{}'.format(i)\n",
    "    write_day(day_string)\n",
    "\n",
    "for i in range(30, 0, -1):\n",
    "    day_string = '2017-04-{}'.format(i)\n",
    "    print(day_string)\n",
    "    write_day(day_string)\n",
    "\n",
    "for i in range(31, 0, -1):   # 2017-03-18 position 513 : error 500\n",
    "    day_string = '2017-03-{}'.format(i)\n",
    "    print(day_string)\n",
    "    write_day(day_string)\n",
    "\n",
    "    \n",
    "for i in range(28, 0, -1):\n",
    "    day_string = '2017-02-{}'.format(i)\n",
    "    print(day_string)\n",
    "    write_day(day_string)\n",
    "\n",
    "for i in range(31, 0, -1):\n",
    "    day_string = '2017-01-{}'.format(i)\n",
    "    print(day_string)\n",
    "    write_day(day_string)\n"
   ]
  },
  {
   "cell_type": "code",
   "execution_count": null,
   "metadata": {
    "collapsed": true
   },
   "outputs": [],
   "source": [
    "days_in_month = {\n",
    "    1: 31,\n",
    "    2: 28,\n",
    "    3: 31,\n",
    "    4: 30,\n",
    "    5: 31,\n",
    "    6: 30,\n",
    "    7: 31,\n",
    "    8: 31,\n",
    "    9: 30,\n",
    "    10: 31,\n",
    "    11: 30,\n",
    "    12: 31,\n",
    "}\n",
    "\n",
    "for month in range(12, 0, -1):\n",
    "    for day in range(days_in_month[month], 0, -1):\n",
    "        day_string = '2016-{}-{}'.format(month, day)\n",
    "        print(day_string)\n",
    "        write_day(day_string)\n"
   ]
  },
  {
   "cell_type": "code",
   "execution_count": null,
   "metadata": {
    "collapsed": true
   },
   "outputs": [],
   "source": []
  }
 ],
 "metadata": {
  "kernelspec": {
   "display_name": "Python 3",
   "language": "python",
   "name": "python3"
  },
  "language_info": {
   "codemirror_mode": {
    "name": "ipython",
    "version": 3
   },
   "file_extension": ".py",
   "mimetype": "text/x-python",
   "name": "python",
   "nbconvert_exporter": "python",
   "pygments_lexer": "ipython3",
   "version": "3.5.2"
  }
 },
 "nbformat": 4,
 "nbformat_minor": 2
}
