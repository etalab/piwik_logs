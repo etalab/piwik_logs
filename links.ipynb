{
 "cells": [
  {
   "cell_type": "code",
   "execution_count": 1,
   "metadata": {
    "collapsed": true
   },
   "outputs": [],
   "source": [
    "import pickle\n",
    "import json\n",
    "from collections import defaultdict, Counter\n",
    "from unidecode import unidecode\n",
    "\n",
    "import pandas as pd\n",
    "import numpy as np\n",
    "from matplotlib import pyplot as plt\n",
    "%matplotlib inline"
   ]
  },
  {
   "cell_type": "markdown",
   "metadata": {},
   "source": [
    "# Load indexes etc"
   ]
  },
  {
   "cell_type": "code",
   "execution_count": 14,
   "metadata": {},
   "outputs": [],
   "source": [
    "dataset_info = pd.read_csv('datasets-2017-06-27-15-14.csv', sep=';')\n",
    "datasets = list(dataset_info.id)\n",
    "datasets_set = set(datasets)\n",
    "datasets_index = {dataset: i for i, dataset in enumerate(datasets)}\n",
    "n_datasets = len(datasets)\n",
    "id2slug = {r[1]: r[3] for r in dataset_info.itertuples()}\n",
    "slug2id = {r[3]: r[1] for r in dataset_info.itertuples()}\n",
    "\n",
    "keywords = pickle.load(open('keywords_list.pickle', 'rb'))\n",
    "keywords_set = set(keywords)\n",
    "keywords_index = {keyword: i for i, keyword in enumerate(keywords)}\n",
    "n_keywords = len(keywords)"
   ]
  },
  {
   "cell_type": "markdown",
   "metadata": {},
   "source": [
    "# Load logs"
   ]
  },
  {
   "cell_type": "code",
   "execution_count": 3,
   "metadata": {
    "collapsed": true
   },
   "outputs": [],
   "source": [
    "with open('visits_by_day2.json', 'r') as f:\n",
    "    visits_by_day = json.load(f)"
   ]
  },
  {
   "cell_type": "code",
   "execution_count": 4,
   "metadata": {
    "collapsed": true
   },
   "outputs": [],
   "source": [
    "days = sorted(visits_by_day.keys())\n",
    "days_index = {day: i for i, day in enumerate(days)}\n",
    "n_days = len(days)"
   ]
  },
  {
   "cell_type": "markdown",
   "metadata": {},
   "source": [
    "# Keyword list"
   ]
  },
  {
   "cell_type": "code",
   "execution_count": 5,
   "metadata": {
    "collapsed": true
   },
   "outputs": [],
   "source": [
    "keyword_count = defaultdict(int)\n",
    "for day in days:\n",
    "    visits = visits_by_day[day]    \n",
    "    for visit in visits:\n",
    "        for kind, value in visit:\n",
    "            if (kind == 'keyword'):\n",
    "                keyword_count[value] += 1"
   ]
  },
  {
   "cell_type": "code",
   "execution_count": 6,
   "metadata": {},
   "outputs": [
    {
     "data": {
      "text/plain": [
       "236863"
      ]
     },
     "execution_count": 6,
     "metadata": {},
     "output_type": "execute_result"
    }
   ],
   "source": [
    "len(keyword_count)"
   ]
  },
  {
   "cell_type": "code",
   "execution_count": 7,
   "metadata": {},
   "outputs": [
    {
     "data": {
      "text/plain": [
       "[<matplotlib.lines.Line2D at 0x7f205d182b38>]"
      ]
     },
     "execution_count": 7,
     "metadata": {},
     "output_type": "execute_result"
    },
    {
     "data": {
      "image/png": "[encoded data removed]",
      "text/plain": [
       "<matplotlib.figure.Figure at 0x7f203f73dd68>"
      ]
     },
     "metadata": {},
     "output_type": "display_data"
    }
   ],
   "source": [
    "counts = [couple[1] for couple in keyword_count.items()]\n",
    "count_histogram = np.zeros((max(counts) + 1))\n",
    "for count in counts:\n",
    "    count_histogram[count] += 1\n",
    "    \n",
    "plt.plot(count_histogram[:10])\n"
   ]
  },
  {
   "cell_type": "code",
   "execution_count": 8,
   "metadata": {},
   "outputs": [
    {
     "data": {
      "text/plain": [
       "13482.0"
      ]
     },
     "execution_count": 8,
     "metadata": {},
     "output_type": "execute_result"
    }
   ],
   "source": [
    "sum(count_histogram[4:])"
   ]
  },
  {
   "cell_type": "code",
   "execution_count": 9,
   "metadata": {
    "collapsed": true
   },
   "outputs": [],
   "source": [
    "# Execute this only once\n",
    "#keywords = [keyword for keyword, count in keyword_count.items() if (count >= 4) and (len(keyword)>=3)]\n",
    "#pickle.dump(keywords, open('keywords_list.pickle', 'wb'))"
   ]
  },
  {
   "cell_type": "code",
   "execution_count": 10,
   "metadata": {
    "collapsed": true
   },
   "outputs": [],
   "source": [
    "keyword_count_np = np.array([keyword_count[k] for k in keywords])\n",
    "with open('keyword_count.pickle', 'wb') as f:\n",
    "    pickle.dump(keyword_count_np, f)"
   ]
  },
  {
   "cell_type": "code",
   "execution_count": 11,
   "metadata": {},
   "outputs": [
    {
     "data": {
      "text/plain": [
       "[('sirene', 4456),\n",
       " ('siren', 1417),\n",
       " ('finess', 1387),\n",
       " ('elections', 1342),\n",
       " ('communes', 1025),\n",
       " ('election', 1013),\n",
       " ('extraction finess', 933),\n",
       " ('insee', 802),\n",
       " ('paris', 722),\n",
       " ('legislatives', 664)]"
      ]
     },
     "execution_count": 11,
     "metadata": {},
     "output_type": "execute_result"
    }
   ],
   "source": [
    "Counter(keyword_count).most_common(10)"
   ]
  },
  {
   "cell_type": "code",
   "execution_count": 12,
   "metadata": {},
   "outputs": [
    {
     "data": {
      "text/plain": [
       "(492273, 202015)"
      ]
     },
     "execution_count": 12,
     "metadata": {},
     "output_type": "execute_result"
    }
   ],
   "source": [
    "sum([v for k, v in keyword_count.items()]), sum([keyword_count[k] for k in keywords])"
   ]
  },
  {
   "cell_type": "markdown",
   "metadata": {},
   "source": [
    "# Datasets"
   ]
  },
  {
   "cell_type": "code",
   "execution_count": 15,
   "metadata": {
    "collapsed": true
   },
   "outputs": [],
   "source": [
    "dataset_count = defaultdict(int)\n",
    "for day in days:\n",
    "    visits = visits_by_day[day]    \n",
    "    for visit in visits:\n",
    "        for kind, value in visit:\n",
    "            if (kind == 'id'):\n",
    "                dataset_count[value] += 1"
   ]
  },
  {
   "cell_type": "code",
   "execution_count": 16,
   "metadata": {},
   "outputs": [
    {
     "data": {
      "text/plain": [
       "23931"
      ]
     },
     "execution_count": 16,
     "metadata": {},
     "output_type": "execute_result"
    }
   ],
   "source": [
    "len(dataset_count)"
   ]
  },
  {
   "cell_type": "code",
   "execution_count": 17,
   "metadata": {},
   "outputs": [
    {
     "data": {
      "text/plain": [
       "[<matplotlib.lines.Line2D at 0x7f2058fad860>]"
      ]
     },
     "execution_count": 17,
     "metadata": {},
     "output_type": "execute_result"
    },
    {
     "data": {
      "image/png": "[encoded data removed]",
      "text/plain": [
       "<matplotlib.figure.Figure at 0x7f205d0b7208>"
      ]
     },
     "metadata": {},
     "output_type": "display_data"
    }
   ],
   "source": [
    "counts = [couple[1] for couple in dataset_count.items()]\n",
    "count_histogram = np.zeros((max(counts) + 1))\n",
    "for count in counts:\n",
    "    count_histogram[count] += 1\n",
    "    \n",
    "plt.plot(count_histogram[:10])"
   ]
  },
  {
   "cell_type": "code",
   "execution_count": 18,
   "metadata": {},
   "outputs": [
    {
     "data": {
      "text/plain": [
       "18261.0"
      ]
     },
     "execution_count": 18,
     "metadata": {},
     "output_type": "execute_result"
    }
   ],
   "source": [
    "sum(count_histogram[4:])"
   ]
  },
  {
   "cell_type": "code",
   "execution_count": 19,
   "metadata": {
    "collapsed": true
   },
   "outputs": [],
   "source": [
    "dataset_count_np = np.array([dataset_count[d] for d in datasets])\n",
    "with open('dataset_count.pickle', 'wb') as f:\n",
    "    pickle.dump(dataset_count_np, f)"
   ]
  },
  {
   "cell_type": "code",
   "execution_count": 20,
   "metadata": {},
   "outputs": [
    {
     "name": "stdout",
     "output_type": "stream",
     "text": [
      "78236\tliste-publique-des-organismes-de-formation-l-6351-7-1-du-code-du-travail\n",
      "74697\tbase-sirene-des-entreprises-et-de-leurs-etablissements-siren-siret\n",
      "39114\tbase-officielle-des-codes-postaux\n",
      "26701\tcorrespondance-entre-les-codes-postaux-et-codes-insee-des-communes-francaises\n",
      "22205\tservice-public-fr-guide-vos-droits-et-demarches-particuliers\n",
      "17686\tassociations-reconnues-d-utilite-publique\n",
      "17651\tdecoupage-administratif-communal-francais-issu-d-openstreetmap\n",
      "16936\telection-presidentielle-des-23-avril-et-7-mai-2017-resultats-du-1er-tour\n",
      "16337\tcountours-des-circonscriptions-des-legislatives-nd\n",
      "13874\telections-legislatives-des-11-et-18-juin-2017-resultats-du-2nd-tour-par-communes\n"
     ]
    }
   ],
   "source": [
    "for ident, c in Counter(dataset_count).most_common(10):\n",
    "    print('{}\\t{}'.format(c, id2slug[ident]))"
   ]
  },
  {
   "cell_type": "markdown",
   "metadata": {},
   "source": [
    "# Temporal profile, keywords"
   ]
  },
  {
   "cell_type": "code",
   "execution_count": 21,
   "metadata": {
    "collapsed": true
   },
   "outputs": [],
   "source": [
    "keyword_profiles = np.zeros((n_days, n_keywords))\n",
    "for day in days:\n",
    "    visits = visits_by_day[day]\n",
    "    day_index = days_index[day]\n",
    "    \n",
    "    for visit in visits:\n",
    "        for kind, value in visit:\n",
    "            if (kind == 'keyword') and (value in keywords_set):\n",
    "                keyword_index = keywords_index[value]\n",
    "                keyword_profiles[day_index, keyword_index] += 1"
   ]
  },
  {
   "cell_type": "code",
   "execution_count": 22,
   "metadata": {
    "collapsed": true
   },
   "outputs": [],
   "source": [
    "with open('keyword_profiles.pickle', 'wb') as f:\n",
    "    pickle.dump(keyword_profiles, f)"
   ]
  },
  {
   "cell_type": "code",
   "execution_count": 23,
   "metadata": {
    "collapsed": true
   },
   "outputs": [],
   "source": [
    "def plot_keyword_profile(keyword):\n",
    "    keyword_index = keywords_index[keyword]\n",
    "    \n",
    "    profile = keyword_profiles[:, keyword_index]\n",
    "    \n",
    "    plt.plot(profile)"
   ]
  },
  {
   "cell_type": "code",
   "execution_count": 24,
   "metadata": {},
   "outputs": [
    {
     "data": {
      "image/png": "[encoded data removed]",
      "text/plain": [
       "<matplotlib.figure.Figure at 0x7f20590de4a8>"
      ]
     },
     "metadata": {},
     "output_type": "display_data"
    }
   ],
   "source": [
    "plot_keyword_profile('sirene')"
   ]
  },
  {
   "cell_type": "markdown",
   "metadata": {},
   "source": [
    "# Temporal profile, datasets"
   ]
  },
  {
   "cell_type": "code",
   "execution_count": 25,
   "metadata": {
    "collapsed": true
   },
   "outputs": [],
   "source": [
    "dataset_profiles = np.zeros((n_days, n_datasets))\n",
    "for day in days:\n",
    "    visits = visits_by_day[day]\n",
    "    day_index = days_index[day]\n",
    "    \n",
    "    for visit in visits:\n",
    "        for kind, value in visit:\n",
    "            if (kind == 'id') and (value in datasets_set):\n",
    "                dataset_index = datasets_index[value]\n",
    "                dataset_profiles[day_index, dataset_index] += 1"
   ]
  },
  {
   "cell_type": "code",
   "execution_count": 26,
   "metadata": {
    "collapsed": true
   },
   "outputs": [],
   "source": [
    "with open('dataset_profiles.pickle', 'wb') as f:\n",
    "    pickle.dump(dataset_profiles, f)"
   ]
  },
  {
   "cell_type": "code",
   "execution_count": 27,
   "metadata": {
    "collapsed": true
   },
   "outputs": [],
   "source": [
    "def plot_dataset_profile(slug):\n",
    "    ident = slug2id[slug]\n",
    "    dataset_index = datasets_index[ident]\n",
    "    \n",
    "    profile = dataset_profiles[:, dataset_index]\n",
    "    \n",
    "    plt.plot(profile)"
   ]
  },
  {
   "cell_type": "code",
   "execution_count": 28,
   "metadata": {},
   "outputs": [
    {
     "data": {
      "image/png": "[encoded data removed]",
      "text/plain": [
       "<matplotlib.figure.Figure at 0x7f20590deb00>"
      ]
     },
     "metadata": {},
     "output_type": "display_data"
    }
   ],
   "source": [
    "plot_dataset_profile('liste-publique-des-organismes-de-formation-l-6351-7-1-du-code-du-travail')"
   ]
  },
  {
   "cell_type": "markdown",
   "metadata": {},
   "source": [
    "# Dataset, dataset"
   ]
  },
  {
   "cell_type": "code",
   "execution_count": 29,
   "metadata": {
    "collapsed": true
   },
   "outputs": [],
   "source": [
    "# Adjacency list representation\n",
    "adj_datasets = [defaultdict(int) for i in range(n_datasets)]\n",
    "for day in days:\n",
    "    for visit in visits_by_day[day]:\n",
    "        ids = [ident for kind, ident in visit if kind == 'id']\n",
    "        ids = list(set(ids))\n",
    "        for d1 in ids:\n",
    "            index1 = datasets_index[d1]\n",
    "            for d2 in ids:\n",
    "                index2 = datasets_index[d2]\n",
    "                adj_datasets[index1][index2] += 1\n",
    "adj_datasets = [dict(adjacency_list) for adjacency_list in adj_datasets]\n",
    "pickle.dump(adj_datasets, open('dataset_dataset_adjacency_list.pickle', 'wb'))"
   ]
  },
  {
   "cell_type": "code",
   "execution_count": 30,
   "metadata": {},
   "outputs": [
    {
     "data": {
      "text/plain": [
       "0.028480818960466583"
      ]
     },
     "execution_count": 30,
     "metadata": {},
     "output_type": "execute_result"
    }
   ],
   "source": [
    "sum([len(l) for l in adj_datasets]) / (n_datasets * n_datasets)"
   ]
  },
  {
   "cell_type": "markdown",
   "metadata": {
    "collapsed": true
   },
   "source": [
    "# Keyword, keyword"
   ]
  },
  {
   "cell_type": "code",
   "execution_count": null,
   "metadata": {
    "collapsed": true
   },
   "outputs": [],
   "source": [
    "# Matrix representation (not adapted to sparse matrices)\n",
    "kk = np.zeros((n_keywords, n_keywords), dtype=np.uint16)\n",
    "for idVisit, searches in searches_by_visit.items():\n",
    "    visit_keywords = list(set([search['keyword'] for search in searches]))\n",
    "    visit_keywords_kept = [k for k in visit_keywords if k in keywords_set]\n",
    "    for k1 in visit_keywords_kept:\n",
    "        index1 = keywords_index[k1]\n",
    "        for k2 in visit_keywords_kept:\n",
    "            index2 = keywords_index[k2]\n",
    "            if kk[index1, index2] == 65535:\n",
    "                print(\"overflow\")\n",
    "            kk[index1, index2] += 1\n",
    "kk.max(), float((kk>0).sum())/(n_keywords*n_keywords)"
   ]
  },
  {
   "cell_type": "code",
   "execution_count": 31,
   "metadata": {
    "collapsed": true
   },
   "outputs": [],
   "source": [
    "# Adjacency list representation\n",
    "adj_keywords = [defaultdict(int) for i in range(n_keywords)]\n",
    "for day in days:\n",
    "    for visit in visits_by_day[day]:\n",
    "        ks = [k for kind, k in visit if (kind == 'keyword') and (k in keywords_set)]\n",
    "        ks = list(set(ks))\n",
    "        for d1 in ks:\n",
    "            index1 = keywords_index[d1]\n",
    "            for d2 in ks:\n",
    "                index2 = keywords_index[d2]\n",
    "                adj_keywords[index1][index2] += 1\n",
    "adj_keywords = [dict(adjacency_list) for adjacency_list in adj_keywords]\n",
    "pickle.dump(adj_keywords, open('keyword_keyword_adjacency_list.pickle', 'wb'))"
   ]
  },
  {
   "cell_type": "code",
   "execution_count": 32,
   "metadata": {},
   "outputs": [
    {
     "data": {
      "text/plain": [
       "0.00777783057115581"
      ]
     },
     "execution_count": 32,
     "metadata": {},
     "output_type": "execute_result"
    }
   ],
   "source": [
    "sum([len(l) for l in adj_keywords]) / (n_keywords * n_keywords)"
   ]
  },
  {
   "cell_type": "markdown",
   "metadata": {},
   "source": [
    "# Keyword, dataset"
   ]
  },
  {
   "cell_type": "code",
   "execution_count": 33,
   "metadata": {
    "collapsed": true
   },
   "outputs": [],
   "source": [
    "# Adjacency list representation\n",
    "adj_keyword_dataset = [defaultdict(int) for i in range(n_keywords)]\n",
    "for day in days:\n",
    "    for visit in visits_by_day[day]:\n",
    "        current_keyword_index = None\n",
    "        for kind, value in visit:\n",
    "            if kind == 'keyword':\n",
    "                if value in keywords_set:\n",
    "                    current_keyword_index = keywords_index[value]\n",
    "            elif kind == 'id':\n",
    "                if current_keyword_index:\n",
    "                    dataset_index = datasets_index[value]\n",
    "                    adj_keyword_dataset[current_keyword_index][dataset_index] += 1\n",
    "            else:\n",
    "                raise ValueError(kind)\n",
    "adj_keyword_dataset = [dict(adjacency_list) for adjacency_list in adj_keyword_dataset]\n",
    "pickle.dump(adj_keyword_dataset, open('keyword_dataset_adjacency_list.pickle', 'wb'))"
   ]
  },
  {
   "cell_type": "code",
   "execution_count": 34,
   "metadata": {},
   "outputs": [
    {
     "data": {
      "text/plain": [
       "(274893, 0.0008231586555968243)"
      ]
     },
     "execution_count": 34,
     "metadata": {},
     "output_type": "execute_result"
    }
   ],
   "source": [
    "sum([len(l) for l in adj_keyword_dataset]), sum([len(l) for l in adj_keyword_dataset]) / (n_keywords * n_datasets)"
   ]
  },
  {
   "cell_type": "code",
   "execution_count": null,
   "metadata": {
    "collapsed": true
   },
   "outputs": [],
   "source": []
  }
 ],
 "metadata": {
  "kernelspec": {
   "display_name": "Python 3",
   "language": "python",
   "name": "python3"
  },
  "language_info": {
   "codemirror_mode": {
    "name": "ipython",
    "version": 3
   },
   "file_extension": ".py",
   "mimetype": "text/x-python",
   "name": "python",
   "nbconvert_exporter": "python",
   "pygments_lexer": "ipython3",
   "version": "3.5.2"
  }
 },
 "nbformat": 4,
 "nbformat_minor": 2
}
