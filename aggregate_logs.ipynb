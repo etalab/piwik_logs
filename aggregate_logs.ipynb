{
 "cells": [
  {
   "cell_type": "markdown",
   "metadata": {},
   "source": [
    "# Analysing Piwik Logs"
   ]
  },
  {
   "cell_type": "markdown",
   "metadata": {},
   "source": [
    "We will stream a JSON array of objects as we proceed into a LZMH compressed file."
   ]
  },
  {
   "cell_type": "code",
   "execution_count": 1,
   "metadata": {
    "collapsed": false
   },
   "outputs": [],
   "source": [
    "var glob = require('glob');\n",
    "var path = require('path');\n",
    "var fs = require('fs');\n",
    "var JSONStream = require('JSONStream');\n",
    "var EventStream = require('event-stream');\n",
    "var xz = require('xz');"
   ]
  },
  {
   "cell_type": "markdown",
   "metadata": {},
   "source": [
    "# Data Selection\n",
    "\n",
    "We select all timestamped files — we have one stat file per day."
   ]
  },
  {
   "cell_type": "code",
   "execution_count": 52,
   "metadata": {
    "collapsed": true
   },
   "outputs": [],
   "source": [
    "var source_dir = 'raw_visit_logs/';\n",
    "var target_dir = 'deduplicated_logs/';\n",
    "var files = glob.sync(source_dir + '*-*-*.json');\n",
    "var clean_files = glob.sync(target_dir + '*-*-*.json'); // done in a previous run"
   ]
  },
  {
   "cell_type": "code",
   "execution_count": 56,
   "metadata": {
    "collapsed": false
   },
   "outputs": [
    {
     "data": {
      "text/plain": [
       "\"raw_visit_logs/2017-08-06.json\""
      ]
     },
     "execution_count": 56,
     "metadata": {},
     "output_type": "execute_result"
    }
   ],
   "source": [
    "files[1]"
   ]
  },
  {
   "cell_type": "code",
   "execution_count": 57,
   "metadata": {
    "collapsed": false,
    "scrolled": true
   },
   "outputs": [],
   "source": [
    "var files_json = files.map(i => i.split('/')[1]);\n",
    "var clean_files_json = clean_files.map(i => i.split('/')[1]);\n",
    "var new_files = files_json.filter(x => clean_files_json.indexOf(x) == -1).map(x => 'raw_visit_logs' + clean_files_json )"
   ]
  },
  {
   "cell_type": "code",
   "execution_count": 58,
   "metadata": {
    "collapsed": false
   },
   "outputs": [
    {
     "data": {
      "text/plain": [
       "[Array] [\"raw_visit_logs2017-08-05.json,2017-08-06.json,2017-08-07.json,2017-08-08.json,2017-08-09.json,2017-08-10.json,2017-08-11.json,2017-08-12.json,2017-08-13.json,2017-08-14.json,2017-08-15.json,2017-08-16.json,2017-08-17.json,2017-08-18.json,2017-08-19.json,2017-08-20.json,2017-08-21.json,2017-08-22.json,2017-08-23.json,2017-08-24.json,2017-08-25.json,2017-08-26.json,2017-08-27.json,2017-08-28.json,2017-08-29.json,2017-08-30.json,2017-08-31.json,2017-09-01.json,2017-09-02.json,2017-09-03.json,2017-09-04.json,2017-09-05.json,2017-09-06.json,2017-09-07.json,2017-09-08.json,2017-09-09.json,2017-09-10.json,2017-09-11.json,2017-09-12.json,2017-09-13.json,2017-09-14.json,2017-09-15.json,2017-09-16.json,2017-09-17.json,2017-09-18.json,2017-09-19.json,2017-09-20.json,2017-09-21.json,2017-09-22.json,2017-09-23.json,2017-09-24.json,2017-09-25.json,2017-09-26.json,2017-09-27.json,2017-09-28.json,2017-09-29.json,2017-09-30.json,2017-10-01.json,2017-10-02.json,2017-10-03.json,2017-10-04.json,2017-10-05.json,2017-10-06.json,2017-10-07.json,2017-10-08.json,2017-10-09.json,2017-10-10.json,2017-10-11.json,2017-10-12.json,2017-10-13.json,2017-10-14.json,2017-10-15.json,2017-10-16.json,2017-10-17.json,2017-10-18.json,2017-10-19.json,2017-10-20.json,2017-10-21.json,2017-10-22.json,2017-10-23.json,2017-10-24.json,2017-10-25.json,2017-10-26.json,2017-10-27.json,2017-10-28.json,2017-10-29.json,2017-10-30.json,2017-10-31.json,2017-11-01.json,2017-11-02.json,2017-11-03.json,2017-11-04.json,2017-11-05.json,2017-11-06.json,2017-11-07.json,2017-11-08.json,2017-11-09.json,2017-11-10.json,2017-11-11.json,2017-11-12.json,2017-11-13.json,2017-11-14.json,2017-11-15.json,2017-11-16.json,2017-11-17.json,2017-11-18.json,2017-11-19.json,2017-11-20.json,2017-11-21.json,2017-11-22.json,2017-11-23.json,2017-11-24.json,2017-11-25.json,2017-11-26.json,2017-11-27.json,2017-11-28.json,2017-11-29.json,2017-11-30.json,2017-12-01.json,2017-12-02.json,2017-12-03.json,2017-12-04.json,2017-12-05.json,2017-12-06.json,2017-12-07.json,2017-12-08.json,2017-12-09.json,2017-12-10.json,2017-12-11.json,2017-12-12.json,2017-12-13.json,2017-12-14.json\"]"
      ]
     },
     "execution_count": 58,
     "metadata": {},
     "output_type": "execute_result"
    }
   ],
   "source": [
    "new_files"
   ]
  },
  {
   "cell_type": "code",
   "execution_count": 28,
   "metadata": {
    "collapsed": false
   },
   "outputs": [
    {
     "data": {
      "text/plain": [
       "\"ae\""
      ]
     },
     "execution_count": 28,
     "metadata": {},
     "output_type": "execute_result"
    }
   ],
   "source": [
    "'ae/az'.split('/')[0]"
   ]
  },
  {
   "cell_type": "markdown",
   "metadata": {},
   "source": [
    "Some utility functions."
   ]
  },
  {
   "cell_type": "code",
   "execution_count": 3,
   "metadata": {
    "collapsed": true
   },
   "outputs": [],
   "source": [
    "var dateFromTimestamp = (ts) => new Date(ts * 1000).toISOString().split('T')[0];"
   ]
  },
  {
   "cell_type": "code",
   "execution_count": 4,
   "metadata": {
    "collapsed": false
   },
   "outputs": [
    {
     "name": "stdout",
     "output_type": "stream",
     "text": [
      "raw_visit_logs/2017-08-12.json done!\n",
      "raw_visit_logs/2017-08-13.json done!\n",
      "raw_visit_logs/2017-08-20.json done!\n",
      "raw_visit_logs/2017-08-06.json done!\n",
      "raw_visit_logs/2017-08-05.json done!\n",
      "raw_visit_logs/2017-08-27.json done!\n",
      "raw_visit_logs/2017-08-26.json done!\n",
      "raw_visit_logs/2017-09-02.json done!\n",
      "raw_visit_logs/2017-08-19.json done!\n",
      "raw_visit_logs/2017-09-03.json done!\n",
      "raw_visit_logs/2017-08-15.json done!\n",
      "raw_visit_logs/2017-09-09.json done!\n",
      "raw_visit_logs/2017-09-16.json done!\n",
      "raw_visit_logs/2017-12-02.json done!\n",
      "raw_visit_logs/2017-12-09.json done!\n",
      "raw_visit_logs/2017-10-07.json done!\n",
      "raw_visit_logs/2017-09-10.json done!\n",
      "raw_visit_logs/2017-09-23.json done!\n",
      "raw_visit_logs/2017-08-14.json done!\n",
      "raw_visit_logs/2017-09-17.json done!\n",
      "raw_visit_logs/2017-10-28.json done!\n",
      "raw_visit_logs/2017-10-08.json done!\n",
      "raw_visit_logs/2017-09-24.json done!\n",
      "raw_visit_logs/2017-10-21.json done!\n",
      "raw_visit_logs/2017-10-14.json done!\n",
      "raw_visit_logs/2017-12-10.json done!\n",
      "raw_visit_logs/2017-09-30.json done!\n",
      "raw_visit_logs/2017-10-15.json done!\n",
      "raw_visit_logs/2017-12-03.json done!\n",
      "raw_visit_logs/2017-10-01.json done!\n",
      "raw_visit_logs/2017-11-04.json done!\n",
      "raw_visit_logs/2017-10-29.json done!\n",
      "raw_visit_logs/2017-11-18.json done!\n",
      "raw_visit_logs/2017-11-11.json done!\n",
      "raw_visit_logs/2017-11-05.json done!\n",
      "raw_visit_logs/2017-10-22.json done!\n",
      "raw_visit_logs/2017-08-11.json done!\n",
      "raw_visit_logs/2017-11-19.json done!\n",
      "raw_visit_logs/2017-11-01.json done!\n",
      "raw_visit_logs/2017-11-26.json done!\n",
      "raw_visit_logs/2017-11-12.json done!\n",
      "raw_visit_logs/2017-08-16.json done!\n",
      "raw_visit_logs/2017-08-18.json done!\n",
      "raw_visit_logs/2017-11-25.json done!\n",
      "raw_visit_logs/2017-08-09.json done!\n",
      "raw_visit_logs/2017-08-17.json done!\n",
      "raw_visit_logs/2017-08-10.json done!\n",
      "raw_visit_logs/2017-08-07.json done!\n",
      "raw_visit_logs/2017-09-01.json done!\n",
      "raw_visit_logs/2017-08-25.json done!\n",
      "raw_visit_logs/2017-08-08.json done!\n",
      "raw_visit_logs/2017-08-21.json done!\n",
      "raw_visit_logs/2017-08-23.json done!\n",
      "raw_visit_logs/2017-08-24.json done!\n",
      "raw_visit_logs/2017-08-22.json done!\n",
      "raw_visit_logs/2017-09-04.json done!\n",
      "raw_visit_logs/2017-09-08.json done!\n",
      "raw_visit_logs/2017-08-28.json done!\n",
      "raw_visit_logs/2017-12-08.json done!\n",
      "raw_visit_logs/2017-10-06.json done!\n",
      "raw_visit_logs/2017-08-31.json done!\n",
      "raw_visit_logs/2017-08-30.json done!\n",
      "raw_visit_logs/2017-08-29.json done!\n",
      "raw_visit_logs/2017-09-07.json done!\n",
      "raw_visit_logs/2017-11-30.json done!\n",
      "raw_visit_logs/2017-09-15.json done!\n",
      "raw_visit_logs/2017-10-13.json done!\n",
      "raw_visit_logs/2017-09-06.json done!\n",
      "raw_visit_logs/2017-09-22.json done!\n",
      "raw_visit_logs/2017-10-25.json done!\n",
      "raw_visit_logs/2017-09-13.json done!\n",
      "raw_visit_logs/2017-09-11.json done!\n",
      "raw_visit_logs/2017-09-12.json done!\n",
      "raw_visit_logs/2017-10-11.json done!\n",
      "raw_visit_logs/2017-10-12.json done!\n",
      "raw_visit_logs/2017-09-05.json done!\n",
      "raw_visit_logs/2017-09-14.json done!\n",
      "raw_visit_logs/2017-11-03.json done!\n",
      "raw_visit_logs/2017-12-06.json done!\n",
      "raw_visit_logs/2017-09-29.json done!\n",
      "raw_visit_logs/2017-10-10.json done!\n",
      "raw_visit_logs/2017-10-09.json done!\n",
      "raw_visit_logs/2017-12-01.json done!\n",
      "raw_visit_logs/2017-10-20.json done!\n",
      "raw_visit_logs/2017-12-07.json done!\n",
      "raw_visit_logs/2017-10-27.json done!\n",
      "raw_visit_logs/2017-10-31.json done!\n",
      "raw_visit_logs/2017-11-24.json done!\n",
      "raw_visit_logs/2017-10-30.json done!\n",
      "raw_visit_logs/2017-12-11.json done!\n",
      "raw_visit_logs/2017-11-10.json done!\n",
      "raw_visit_logs/2017-10-26.json done!\n",
      "raw_visit_logs/2017-09-28.json done!\n",
      "raw_visit_logs/2017-11-29.json done!\n",
      "raw_visit_logs/2017-11-09.json done!\n",
      "raw_visit_logs/2017-09-27.json done!\n",
      "raw_visit_logs/2017-11-02.json done!\n",
      "raw_visit_logs/2017-10-23.json done!\n",
      "raw_visit_logs/2017-09-21.json done!\n",
      "raw_visit_logs/2017-10-24.json done!\n",
      "raw_visit_logs/2017-11-23.json done!\n",
      "raw_visit_logs/2017-09-20.json done!\n",
      "raw_visit_logs/2017-11-28.json done!\n",
      "raw_visit_logs/2017-09-25.json done!\n",
      "raw_visit_logs/2017-11-27.json done!\n",
      "raw_visit_logs/2017-09-26.json done!\n",
      "raw_visit_logs/2017-12-13.json done!\n",
      "raw_visit_logs/2017-10-19.json done!\n",
      "raw_visit_logs/2017-10-04.json done!\n",
      "raw_visit_logs/2017-11-06.json done!\n",
      "raw_visit_logs/2017-11-17.json done!\n",
      "raw_visit_logs/2017-11-08.json done!\n",
      "raw_visit_logs/2017-10-05.json done!\n",
      "raw_visit_logs/2017-10-02.json done!\n",
      "raw_visit_logs/2017-12-05.json done!\n",
      "raw_visit_logs/2017-11-16.json done!\n",
      "raw_visit_logs/2017-11-07.json done!\n",
      "raw_visit_logs/2017-12-04.json done!\n",
      "raw_visit_logs/2017-10-18.json done!\n",
      "raw_visit_logs/2017-11-14.json done!\n",
      "raw_visit_logs/2017-10-03.json done!\n",
      "raw_visit_logs/2017-10-17.json done!\n",
      "raw_visit_logs/2017-10-16.json done!\n",
      "raw_visit_logs/2017-11-22.json done!\n",
      "raw_visit_logs/2017-12-12.json done!\n",
      "raw_visit_logs/2017-11-21.json done!\n",
      "raw_visit_logs/2017-11-13.json done!\n",
      "raw_visit_logs/2017-11-15.json done!\n",
      "raw_visit_logs/2017-11-20.json done!\n",
      "raw_visit_logs/2017-09-19.json done!\n",
      "raw_visit_logs/2017-09-18.json done!\n",
      "raw_visit_logs/2017-12-14.json done!\n"
     ]
    }
   ],
   "source": [
    "var all = files.map(file => {\n",
    "    return fs.createReadStream(file)\n",
    "        .pipe(JSONStream.parse('*'))\n",
    "        .pipe(EventStream.map(({ idVisit, actionDetails, serverDate }, callback) => {\n",
    "            var actions = actionDetails\n",
    "                .map(({ url, type, siteSearchKeyword:keyword, timestamp }) => ({\n",
    "                  url,\n",
    "                  type,\n",
    "                  keyword,\n",
    "                }))\n",
    "                .filter(({type, keyword}, i, allActions) => {\n",
    "                    const nextKeyword = allActions[i+1] ? allActions[i+1].keyword : null;\n",
    "\n",
    "                    return !(type === 'search' && nextKeyword && nextKeyword.indexOf(keyword) === 0);\n",
    "                });\n",
    "\n",
    "            var visitClean = {\n",
    "                idVisit,\n",
    "                actions,\n",
    "                date: serverDate,\n",
    "            };\n",
    "        \n",
    "\n",
    "            callback(null, visitClean);\n",
    "        }))\n",
    "        .pipe(JSONStream.stringify())\n",
    "        .pipe(fs.createWriteStream(target_dir + path.basename(file)))\n",
    "        .on('finish', () => console.log(`${file} done!`));\n",
    "});"
   ]
  },
  {
   "cell_type": "code",
   "execution_count": null,
   "metadata": {
    "collapsed": true
   },
   "outputs": [],
   "source": []
  }
 ],
 "metadata": {
  "kernelspec": {
   "display_name": "NodeJS",
   "language": "javascript",
   "name": "nodejs"
  },
  "language_info": {
   "codemirror_mode": "javascript",
   "file_extension": ".js",
   "mimetype": "text/javascript",
   "name": "nodejs",
   "pygments_lexer": "javascript",
   "version": "0.10"
  }
 },
 "nbformat": 4,
 "nbformat_minor": 2
}
