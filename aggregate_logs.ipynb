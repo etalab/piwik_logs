{
 "cells": [
  {
   "cell_type": "code",
   "execution_count": 5,
   "metadata": {},
   "outputs": [
    {
     "data": {
      "text/plain": [
       "\"v6.10.0\""
      ]
     },
     "execution_count": 5,
     "metadata": {},
     "output_type": "execute_result"
    }
   ],
   "source": [
    "var glob = require('glob');\n",
    "var fs = require('fs');\n",
    "var JSONStream = require('JSONStream');\n",
    "var xz = require('xz');\n",
    "var output = JSONStream.stringify();\n",
    "\n",
    "output\n",
    "    .pipe(new xz.Compressor(9))\n",
    "    .pipe(fs.createWriteStream('./keywords.json.xz'));\n",
    "\n",
    "process.version;"
   ]
  },
  {
   "cell_type": "code",
   "execution_count": 6,
   "metadata": {
    "collapsed": true
   },
   "outputs": [],
   "source": [
    "var files = glob.sync('*-*-*.json');"
   ]
  },
  {
   "cell_type": "code",
   "execution_count": 7,
   "metadata": {},
   "outputs": [
    {
     "name": "stdout",
     "output_type": "stream",
     "text": [
      "2017-05-1.json\n",
      "2017-05-10.json\n",
      "2017-05-11.json\n",
      "2017-05-12.json\n",
      "2017-05-13.json\n",
      "2017-05-14.json\n",
      "2017-05-15.json\n",
      "2017-05-16.json\n",
      "2017-05-17.json\n",
      "2017-05-18.json\n",
      "2017-05-19.json\n",
      "2017-05-2.json\n",
      "2017-05-20.json\n",
      "2017-05-21.json\n",
      "2017-05-22.json\n",
      "2017-05-23.json\n",
      "2017-05-24.json\n",
      "2017-05-25.json\n",
      "2017-05-26.json\n",
      "2017-05-27.json\n",
      "2017-05-28.json\n",
      "2017-05-29.json\n",
      "2017-05-3.json\n",
      "2017-05-30.json\n",
      "2017-05-31.json\n",
      "2017-05-4.json\n",
      "2017-05-5.json\n",
      "2017-05-6.json\n",
      "2017-05-7.json\n",
      "2017-05-8.json\n",
      "2017-05-9.json\n",
      "2017-06-1.json\n",
      "2017-06-10.json\n",
      "2017-06-11.json\n",
      "2017-06-12.json\n",
      "2017-06-13.json\n",
      "2017-06-14.json\n",
      "2017-06-15.json\n",
      "2017-06-16.json\n",
      "2017-06-17.json\n",
      "2017-06-18.json\n",
      "2017-06-19.json\n",
      "2017-06-2.json\n",
      "2017-06-3.json\n",
      "2017-06-4.json\n",
      "2017-06-5.json\n",
      "2017-06-6.json\n",
      "2017-06-7.json\n",
      "2017-06-8.json\n",
      "2017-06-9.json\n"
     ]
    }
   ],
   "source": [
    "var p = files.map(file => {\n",
    "    console.log(file);\n",
    "    return JSON.parse(fs.readFileSync(file))\n",
    "        .filter(visit => visit.searches !== '0')\n",
    "        .map(({ idVisit, actionDetails, firstActionTimestamp }) => {\n",
    "            const date = new Date(firstActionTimestamp * 1000).toISOString().split('T')[0];\n",
    "        \n",
    "            return new Promise((resolve, reject) => {\n",
    "              actionDetails\n",
    "                .map(details => details.siteSearchKeyword)\n",
    "                .filter(siteSearchKeyword => siteSearchKeyword)\n",
    "                .reduce((arr, currentKeyword, i, actions) => {\n",
    "                    const nextKeyword = actions[i+1];\n",
    "\n",
    "                    return (!nextKeyword || nextKeyword.indexOf(currentKeyword) === -1)\n",
    "                        ?  arr.concat(currentKeyword)\n",
    "                        : arr;\n",
    "                }, [])\n",
    "                .map(keyword => ({ idVisit, keyword, date }))\n",
    "                .map(data => output.write(data, (err) => err ? resolve() : reject(err)));\n",
    "            });\n",
    "        });\n",
    "    });\n",
    "\n",
    "\n",
    "Promise.all(p).then(() => output.end());"
   ]
  }
 ],
 "metadata": {
  "celltoolbar": "Edit Metadata",
  "kernelspec": {
   "display_name": "NodeJS",
   "language": "javascript",
   "name": "nodejs"
  },
  "language_info": {
   "codemirror_mode": "javascript",
   "file_extension": ".js",
   "mimetype": "text/javascript",
   "name": "nodejs",
   "pygments_lexer": "javascript",
   "version": "0.10"
  }
 },
 "nbformat": 4,
 "nbformat_minor": 2
}
