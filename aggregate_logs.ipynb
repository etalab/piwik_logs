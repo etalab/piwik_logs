{
 "cells": [
  {
   "cell_type": "markdown",
   "metadata": {},
   "source": [
    "# Analysing Piwik Logs"
   ]
  },
  {
   "cell_type": "markdown",
   "metadata": {},
   "source": [
    "We will stream a JSON array of objects as we proceed into a LZMH compressed file."
   ]
  },
  {
   "cell_type": "code",
   "execution_count": 1,
   "metadata": {
    "collapsed": false
   },
   "outputs": [],
   "source": [
    "var glob = require('glob');\n",
    "var path = require('path');\n",
    "var fs = require('fs');\n",
    "var JSONStream = require('JSONStream');\n",
    "var EventStream = require('event-stream');\n",
    "var xz = require('xz');"
   ]
  },
  {
   "cell_type": "markdown",
   "metadata": {},
   "source": [
    "# Data Selection\n",
    "\n",
    "We select all timestamped files — we have one stat file per day."
   ]
  },
  {
   "cell_type": "code",
   "execution_count": 2,
   "metadata": {
    "collapsed": true
   },
   "outputs": [],
   "source": [
    "var source_dir = 'raw_visit_logs/';\n",
    "var target_dir = 'deduplicated_logs/';\n",
    "var files = glob.sync(source_dir + '*-*-*.json');"
   ]
  },
  {
   "cell_type": "markdown",
   "metadata": {},
   "source": [
    "Some utility functions."
   ]
  },
  {
   "cell_type": "code",
   "execution_count": 3,
   "metadata": {
    "collapsed": true
   },
   "outputs": [],
   "source": [
    "var dateFromTimestamp = (ts) => new Date(ts * 1000).toISOString().split('T')[0];"
   ]
  },
  {
   "cell_type": "code",
   "execution_count": 4,
   "metadata": {
    "collapsed": false
   },
   "outputs": [
    {
     "name": "stdout",
     "output_type": "stream",
     "text": [
      "raw_visit_logs/2017-12-02.json done!\n",
      "raw_visit_logs/2017-12-09.json done!\n",
      "raw_visit_logs/2017-12-10.json done!\n",
      "raw_visit_logs/2017-12-03.json done!\n",
      "raw_visit_logs/2017-11-04.json done!\n",
      "raw_visit_logs/2017-11-18.json done!\n",
      "raw_visit_logs/2017-11-11.json done!\n",
      "raw_visit_logs/2017-11-05.json done!\n",
      "raw_visit_logs/2017-11-19.json done!\n",
      "raw_visit_logs/2017-11-26.json done!\n",
      "raw_visit_logs/2017-11-12.json done!\n",
      "raw_visit_logs/2017-11-25.json done!\n",
      "raw_visit_logs/2017-12-08.json done!\n",
      "raw_visit_logs/2017-11-30.json done!\n",
      "raw_visit_logs/2017-12-06.json done!\n",
      "raw_visit_logs/2017-12-01.json done!\n",
      "raw_visit_logs/2017-12-07.json done!\n",
      "raw_visit_logs/2017-11-24.json done!\n",
      "raw_visit_logs/2017-12-11.json done!\n",
      "raw_visit_logs/2017-11-10.json done!\n",
      "raw_visit_logs/2017-11-29.json done!\n",
      "raw_visit_logs/2017-11-09.json done!\n",
      "raw_visit_logs/2017-11-23.json done!\n",
      "raw_visit_logs/2017-11-28.json done!\n",
      "raw_visit_logs/2017-11-27.json done!\n",
      "raw_visit_logs/2017-11-06.json done!\n",
      "raw_visit_logs/2017-11-17.json done!\n",
      "raw_visit_logs/2017-11-08.json done!\n",
      "raw_visit_logs/2017-12-05.json done!\n",
      "raw_visit_logs/2017-11-16.json done!\n",
      "raw_visit_logs/2017-11-07.json done!\n",
      "raw_visit_logs/2017-12-04.json done!\n",
      "raw_visit_logs/2017-11-14.json done!\n",
      "raw_visit_logs/2017-11-22.json done!\n",
      "raw_visit_logs/2017-11-21.json done!\n",
      "raw_visit_logs/2017-11-13.json done!\n",
      "raw_visit_logs/2017-11-15.json done!\n",
      "raw_visit_logs/2017-11-20.json done!\n"
     ]
    }
   ],
   "source": [
    "var all = files.map(file => {\n",
    "    return fs.createReadStream(file)\n",
    "        .pipe(JSONStream.parse('*'))\n",
    "        .pipe(EventStream.map(({ idVisit, actionDetails, serverDate }, callback) => {\n",
    "            var actions = actionDetails\n",
    "                .map(({ url, type, siteSearchKeyword:keyword, timestamp }) => ({\n",
    "                  url,\n",
    "                  type,\n",
    "                  keyword,\n",
    "                }))\n",
    "                .filter(({type, keyword}, i, allActions) => {\n",
    "                    const nextKeyword = allActions[i+1] ? allActions[i+1].keyword : null;\n",
    "\n",
    "                    return !(type === 'search' && nextKeyword && nextKeyword.indexOf(keyword) === 0);\n",
    "                });\n",
    "\n",
    "            var visitClean = {\n",
    "                idVisit,\n",
    "                actions,\n",
    "                date: serverDate,\n",
    "            };\n",
    "        \n",
    "\n",
    "            callback(null, visitClean);\n",
    "        }))\n",
    "        .pipe(JSONStream.stringify())\n",
    "        .pipe(fs.createWriteStream(target_dir + path.basename(file)))\n",
    "        .on('finish', () => console.log(`${file} done!`));\n",
    "});"
   ]
  }
 ],
 "metadata": {
  "kernelspec": {
   "display_name": "NodeJS",
   "language": "javascript",
   "name": "nodejs"
  },
  "language_info": {
   "codemirror_mode": "javascript",
   "file_extension": ".js",
   "mimetype": "text/javascript",
   "name": "nodejs",
   "pygments_lexer": "javascript",
   "version": "0.10"
  }
 },
 "nbformat": 4,
 "nbformat_minor": 2
}
