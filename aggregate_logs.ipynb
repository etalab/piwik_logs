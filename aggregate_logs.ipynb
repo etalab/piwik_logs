{
 "cells": [
  {
   "cell_type": "markdown",
   "metadata": {},
   "source": [
    "# Analysing Piwik Logs"
   ]
  },
  {
   "cell_type": "markdown",
   "metadata": {},
   "source": [
    "We will stream a JSON array of objects as we proceed into a LZMH compressed file."
   ]
  },
  {
   "cell_type": "code",
   "execution_count": 1,
   "metadata": {
    "collapsed": false
   },
   "outputs": [],
   "source": [
    "var glob = require('glob');\n",
    "var path = require('path');\n",
    "var fs = require('fs');\n",
    "var JSONStream = require('JSONStream');\n",
    "var EventStream = require('event-stream');\n",
    "var xz = require('xz');"
   ]
  },
  {
   "cell_type": "markdown",
   "metadata": {},
   "source": [
    "# Data Selection\n",
    "\n",
    "We select all timestamped files — we have one stat file per day."
   ]
  },
  {
   "cell_type": "code",
   "execution_count": 2,
   "metadata": {
    "collapsed": true
   },
   "outputs": [],
   "source": [
    "var source_dir = 'raw_visit_logs/';\n",
    "var target_dir = 'deduplicated_logs/';\n",
    "var files = glob.sync(source_dir + '*-*-*.json');\n",
    "var clean_files = glob.sync(target_dir + '*-*-*.json'); // done in a previous run"
   ]
  },
  {
   "cell_type": "code",
   "execution_count": 3,
   "metadata": {
    "collapsed": false
   },
   "outputs": [
    {
     "data": {
      "text/plain": [
       "\"raw_visit_logs/2017-08-06.json\""
      ]
     },
     "execution_count": 3,
     "metadata": {},
     "output_type": "execute_result"
    }
   ],
   "source": [
    "files[1]"
   ]
  },
  {
   "cell_type": "code",
   "execution_count": 4,
   "metadata": {
    "collapsed": false,
    "scrolled": true
   },
   "outputs": [],
   "source": [
    "var files_json = files.map(i => i.split('/')[1]);\n",
    "var clean_files_json = clean_files.map(i => i.split('/')[1]);\n",
    "// Following array contains only new files (not the one already cleaned.)\n",
    "var new_files = files_json.filter(x => clean_files_json.indexOf(x) == -1).map(x => 'raw_visit_logs/' + x )"
   ]
  },
  {
   "cell_type": "markdown",
   "metadata": {},
   "source": [
    "Some utility functions."
   ]
  },
  {
   "cell_type": "code",
   "execution_count": 5,
   "metadata": {
    "collapsed": true
   },
   "outputs": [],
   "source": [
    "var dateFromTimestamp = (ts) => new Date(ts * 1000).toISOString().split('T')[0];"
   ]
  },
  {
   "cell_type": "code",
   "execution_count": 6,
   "metadata": {
    "collapsed": false
   },
   "outputs": [
    {
     "name": "stdout",
     "output_type": "stream",
     "text": [
      "raw_visit_logs/2017-12-20.json done!\n"
     ]
    }
   ],
   "source": [
    "var all = new_files.map(file => {\n",
    "    return fs.createReadStream(file)\n",
    "        .pipe(JSONStream.parse('*'))\n",
    "        .pipe(EventStream.map(({ idVisit, actionDetails, serverDate }, callback) => {\n",
    "            var actions = actionDetails\n",
    "                .map(({ url, type, siteSearchKeyword:keyword, timestamp }) => ({\n",
    "                  url,\n",
    "                  type,\n",
    "                  keyword,\n",
    "                }))\n",
    "                .filter(({type, keyword}, i, allActions) => {\n",
    "                    const nextKeyword = allActions[i+1] ? allActions[i+1].keyword : null;\n",
    "\n",
    "                    return !(type === 'search' && nextKeyword && nextKeyword.indexOf(keyword) === 0);\n",
    "                });\n",
    "\n",
    "            var visitClean = {\n",
    "                idVisit,\n",
    "                actions,\n",
    "                date: serverDate,\n",
    "            };\n",
    "        \n",
    "\n",
    "            callback(null, visitClean);\n",
    "        }))\n",
    "        .pipe(JSONStream.stringify())\n",
    "        .pipe(fs.createWriteStream(target_dir + path.basename(file)))\n",
    "        .on('finish', () => console.log(`${file} done!`));\n",
    "});"
   ]
  },
  {
   "cell_type": "code",
   "execution_count": null,
   "metadata": {
    "collapsed": true
   },
   "outputs": [],
   "source": []
  }
 ],
 "metadata": {
  "kernelspec": {
   "display_name": "NodeJS",
   "language": "javascript",
   "name": "nodejs"
  },
  "language_info": {
   "codemirror_mode": "javascript",
   "file_extension": ".js",
   "mimetype": "text/javascript",
   "name": "nodejs",
   "pygments_lexer": "javascript",
   "version": "0.10"
  }
 },
 "nbformat": 4,
 "nbformat_minor": 2
}
