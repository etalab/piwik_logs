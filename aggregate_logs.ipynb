{
 "cells": [
  {
   "cell_type": "markdown",
   "metadata": {},
   "source": [
    "# Analysing Piwik Logs"
   ]
  },
  {
   "cell_type": "markdown",
   "metadata": {},
   "source": [
    "We will stream a JSON array of objects as we proceed into a LZMH compressed file."
   ]
  },
  {
   "cell_type": "code",
   "execution_count": 14,
   "metadata": {},
   "outputs": [],
   "source": [
    "var glob = require('glob');\n",
    "var fs = require('fs');\n",
    "var JSONStream = require('JSONStream');\n",
    "var xz = require('xz');\n",
    "var output = JSONStream.stringify();"
   ]
  },
  {
   "cell_type": "markdown",
   "metadata": {},
   "source": [
    "# Data Selection\n",
    "\n",
    "We select all timestamped files — we have one stat file per day."
   ]
  },
  {
   "cell_type": "code",
   "execution_count": 15,
   "metadata": {
    "collapsed": true
   },
   "outputs": [],
   "source": [
    "var files = glob.sync('*-*-*.json');"
   ]
  },
  {
   "cell_type": "markdown",
   "metadata": {},
   "source": [
    "Some utility functions."
   ]
  },
  {
   "cell_type": "code",
   "execution_count": 16,
   "metadata": {
    "collapsed": true
   },
   "outputs": [],
   "source": [
    "var dateFromTimestamp = (ts) => new Date(ts * 1000).toISOString().split('T')[0];"
   ]
  },
  {
   "cell_type": "code",
   "execution_count": 17,
   "metadata": {},
   "outputs": [
    {
     "data": {
      "text/plain": [
       "[Promise] {}"
      ]
     },
     "execution_count": 17,
     "metadata": {},
     "output_type": "execute_result"
    }
   ],
   "source": [
    "output\n",
    "    .pipe(new xz.Compressor(9))\n",
    "    .pipe(fs.createWriteStream('./keywords.json.xz'));\n",
    "\n",
    "var p = files.slice(0, 1).map(file => {\n",
    "    return JSON.parse(fs.readFileSync(file))\n",
    "        .filter(({ searches }) => searches !== '0')\n",
    "        .map(({ idVisit, actionDetails }) => {        \n",
    "          var allP = actionDetails\n",
    "            .map(({ url, type, siteSearchKeyword:keyword, timestamp }) => ({\n",
    "              url,\n",
    "              type,\n",
    "              keyword,\n",
    "              date: dateFromTimestamp(timestamp),\n",
    "              idVisit,\n",
    "            }))\n",
    "            .filter(({type, keyword}, i, allActions) => {\n",
    "                const nextKeyword = allActions[i+1] ? allActions[i+1].keyword : null;\n",
    "                \n",
    "                return !(type === 'search' && nextKeyword && nextKeyword.indexOf(keyword) === 0);\n",
    "            })\n",
    "            .map((details, i, allActions) => {\n",
    "              if (details.type === 'search') {\n",
    "                  details.actions = [];\n",
    "                  \n",
    "                  allActions.slice(i+1).some(action => {\n",
    "                     if (action.type !== 'search') {\n",
    "                         details.actions.push(action);\n",
    "                         return false;\n",
    "                     }\n",
    "                      \n",
    "                     return true;\n",
    "                  });\n",
    "              }\n",
    "\n",
    "              return details;\n",
    "            })\n",
    "            .filter(({ type }) => type === 'search')\n",
    "            .map(details => new Promise((resolve, reject) => {\n",
    "              output.write(details, (err) => err ? resolve() : reject(err))\n",
    "            }));\n",
    "        \n",
    "            return Promise.all(allP);\n",
    "        })\n",
    "    });\n",
    "\n",
    "\n",
    "Promise.all(p)\n",
    "    .then(() => output.end())\n",
    "    .catch(console.error);"
   ]
  },
  {
   "cell_type": "code",
   "execution_count": null,
   "metadata": {
    "collapsed": true
   },
   "outputs": [],
   "source": []
  }
 ],
 "metadata": {
  "kernelspec": {
   "display_name": "NodeJS",
   "language": "javascript",
   "name": "nodejs"
  },
  "language_info": {
   "codemirror_mode": "javascript",
   "file_extension": ".js",
   "mimetype": "text/javascript",
   "name": "nodejs",
   "pygments_lexer": "javascript",
   "version": "0.10"
  }
 },
 "nbformat": 4,
 "nbformat_minor": 2
}
