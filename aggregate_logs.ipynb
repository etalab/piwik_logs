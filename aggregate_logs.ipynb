{
 "cells": [
  {
   "cell_type": "markdown",
   "metadata": {},
   "source": [
    "# Analysing Piwik Logs"
   ]
  },
  {
   "cell_type": "markdown",
   "metadata": {},
   "source": [
    "We will stream a JSON array of objects as we proceed into a LZMH compressed file."
   ]
  },
  {
   "cell_type": "code",
   "execution_count": 1,
   "metadata": {
    "collapsed": true
   },
   "outputs": [],
   "source": [
    "var glob = require('glob');\n",
    "var path = require('path');\n",
    "var fs = require('fs');\n",
    "var JSONStream = require('JSONStream')\n",
    "var EventStream = require('event-stream');\n",
    "var xz = require('xz');"
   ]
  },
  {
   "cell_type": "markdown",
   "metadata": {},
   "source": [
    "# Data Selection\n",
    "\n",
    "We select all timestamped files — we have one stat file per day."
   ]
  },
  {
   "cell_type": "code",
   "execution_count": 2,
   "metadata": {
    "collapsed": true
   },
   "outputs": [],
   "source": [
    "var source_dir = 'raw_visit_logs/';\n",
    "var target_dir = 'deduplicated_logs/';\n",
    "var files = glob.sync(source_dir + '*-*-*.json');"
   ]
  },
  {
   "cell_type": "markdown",
   "metadata": {},
   "source": [
    "Some utility functions."
   ]
  },
  {
   "cell_type": "code",
   "execution_count": 3,
   "metadata": {
    "collapsed": true
   },
   "outputs": [],
   "source": [
    "var dateFromTimestamp = (ts) => new Date(ts * 1000).toISOString().split('T')[0];"
   ]
  },
  {
   "cell_type": "code",
   "execution_count": 8,
   "metadata": {},
   "outputs": [
    {
     "ename": "Async Error",
     "evalue": "First argument must be a string, Buffer, ArrayBuffer, Array, or array-like object.",
     "output_type": "error"
    }
   ],
   "source": [
    "var all = files.slice(0, 1).map(file => {\n",
    "    const writer = JSONStream.stringify()\n",
    "        .pipe(fs.createWriteStream(target_dir + path.basename(file)));\n",
    "    \n",
    "    return fs.createReadStream(file)\n",
    "        .pipe(JSONStream.parse('*'))\n",
    "        .pipe(EventStream.mapSync(({ idVisit, actionDetails, serverDate }) => {\n",
    "            var actions = actionDetails\n",
    "                .map(({ url, type, siteSearchKeyword:keyword, timestamp }) => ({\n",
    "                  url,\n",
    "                  type,\n",
    "                  keyword,\n",
    "                }))\n",
    "                .filter(({type, keyword}, i, allActions) => {\n",
    "                    const nextKeyword = allActions[i+1] ? allActions[i+1].keyword : null;\n",
    "\n",
    "                    return !(type === 'search' && nextKeyword && nextKeyword.indexOf(keyword) === 0);\n",
    "                });\n",
    "\n",
    "            var visitClean = {\n",
    "                idVisit,\n",
    "                actions,\n",
    "                date: serverDate,\n",
    "            };\n",
    "        \n",
    "\n",
    "            return new Buffer(visitClean);\n",
    "        }))\n",
    "        .pipe(writer)\n",
    "        .on('end', () => writer.end());\n",
    "});\n",
    "\n",
    "\n",
    "\n"
   ]
  },
  {
   "cell_type": "code",
   "execution_count": null,
   "metadata": {
    "collapsed": true
   },
   "outputs": [],
   "source": []
  }
 ],
 "metadata": {
  "kernelspec": {
   "display_name": "NodeJS",
   "language": "javascript",
   "name": "nodejs"
  },
  "language_info": {
   "codemirror_mode": "javascript",
   "file_extension": ".js",
   "mimetype": "text/javascript",
   "name": "nodejs",
   "pygments_lexer": "javascript",
   "version": "0.10"
  }
 },
 "nbformat": 4,
 "nbformat_minor": 2
}
